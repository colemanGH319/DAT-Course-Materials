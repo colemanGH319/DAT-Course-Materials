{
 "cells": [
  {
   "cell_type": "markdown",
   "metadata": {},
   "source": [
    "<img src=\"http://imgur.com/1ZcRyrc.png\" style=\"float: left; margin: 20px; height: 55px\">\n",
    "\n",
    "# Statistics Fundamentals, Part 1\n",
    "\n",
    "_Authors: Alexander Egorenkov (DC), Amy Roberts (NYC)_\n",
    "\n",
    "---"
   ]
  },
  {
   "cell_type": "markdown",
   "metadata": {},
   "source": [
    "<a id=\"learning-objectives\"></a>\n",
    "## Learning Objectives\n",
    "- Compute dot products, matrix multiplications, and vector norms by hand and using NumPy.\n",
    "- Code summary statistics using NumPy and Pandas: mean, median, mode, max, min, quartile, inter-quartile range, variance, standard deviation, and correlation.\n",
    "- Create basic data visualizations, including scatterplots, box plots, and histograms.\n",
    "- Describe characteristics and trends in a data set using visualizations.\n",
    "- Describe the bias and variance of statistical estimators.\n",
    "- Identify a normal distribution within a data set using summary statistics and data visualizations."
   ]
  },
  {
   "cell_type": "markdown",
   "metadata": {},
   "source": [
    "### Lesson Guide\n",
    "- [Where Are We in the Data Science Workflow?](#where-are-we-in-the-data-science-workflow)\n",
    "- [Linear Algebra Review](#linear-algebra-review)\n",
    "    - [Scalars, Vectors, and Matrices](#scalars-vectors-and-matrices)\n",
    "\t- [Basic Matrix Algebra](#basic-matrix-algebra)\n",
    "\t- [Dot Product](#dot-product)\n",
    "\t- [Matrix Multiplication](#matrix-multiplication)\n",
    "\t- [N-Dimensional Space](#n-dimensional-space)\n",
    "\t- [Vector Norm](#vector-norm)\n",
    "- [Linear Algebra Applications to Machine Learning](#linear-algebra-applications-to-machine-learning)\n",
    "\t- [Distance Between Actual Values and Predicted Values](#distance-between-actual-values-and-predicted-values)\n",
    "\t- [Mean Squared Error](#mean-squared-error)\n",
    "\t- [Least Squares](#least-squares)\n",
    "- [Code-Along: Examining the Titanic Data Set](#codealong-examining-the-titanic-dataset)\n",
    "- [Descriptive Statistics Fundamentals](#descriptive-statistics-fundamentals)\n",
    "\t- [Measures of Central Tendency](#measures-of-central-tendency)\n",
    "\t- [Math Review](#math-review)\n",
    "\t- [Measures of Dispersion: Standard Deviation and Variance](#measures-of-dispersion-standard-deviation-and-variance)\n",
    "- [Our First Model](#our-first-model)\n",
    "- [A Short Introduction to Model Bias and Variance](#a-short-introduction-to-model-bias-and-variance)\n",
    "\t- [Bias-Variance Decomposition](#bias-variance-decomposition)\n",
    "\t- [Example Using Bessel's Correction](#example-using-bessels-correction)\n",
    "- [Correlation and Association](#correlation-and-association)\n",
    "\t- [Code-Along: Correlation in Pandas](#codealong-correlation-in-pandas)\n",
    "- [The Normal Distribution](#the-normal-distribution)\n",
    "\t- [What is the Normal Distribution?](#what-is-the-normal-distribution)\n",
    "\t- [Skewness](#skewness)\n",
    "\t- [Kurtosis](#kurtosis)\n",
    "- [Determining the Distribution of Your Data](#determining-the-distribution-of-your-data)\n",
    "\t- [Exercise](#exercise)\n",
    "- [Lesson Review](#topic-review)"
   ]
  },
  {
   "cell_type": "code",
   "execution_count": 1,
   "metadata": {},
   "outputs": [],
   "source": [
    "import pandas as pd\n",
    "import seaborn as sns\n",
    "import numpy as np\n",
    "import matplotlib.pyplot as plt\n",
    "from ipywidgets import interact\n",
    "plt.style.use('fivethirtyeight')\n",
    "\n",
    "# This makes sure that graphs render in your notebook.\n",
    "%matplotlib inline"
   ]
  },
  {
   "cell_type": "markdown",
   "metadata": {},
   "source": [
    "<a id=\"where-are-we-in-the-data-science-workflow\"></a>\n",
    "## Where Are We in the Data Science Workflow?"
   ]
  },
  {
   "cell_type": "markdown",
   "metadata": {},
   "source": [
    "![Data Science Workflow](./assets/images/data-science-workflow.png)"
   ]
  },
  {
   "cell_type": "markdown",
   "metadata": {},
   "source": [
    "<a id=\"linear-algebra-review\"></a>\n",
    "## Linear Algebra Review\n",
    "---\n",
    "**Objective:** Compute dot products, matrix multiplications, and vector norms by hand and using NumPy."
   ]
  },
  {
   "cell_type": "markdown",
   "metadata": {},
   "source": [
    "<a id=\"why-linear-algebra\"></a>\n",
    "### Why Use Linear Algebra in Data Science?\n",
    "\n",
    "Linear models are efficient and well understood. They can often closely approximate nonlinear solutions, and they scale to high dimensions without difficulty.\n",
    "\n",
    "Because of these desirable properties, linear algebra is a need-to-know subject for machine learning. In fact, it forms the basis of foundational models such as linear regression, logistic regression, and principal component analysis (PCA). \n",
    "\n",
    "Unsurprisingly, advanced models such as neural networks and support vector machines rely on linear algebra as their \"trick\" for impressive speedups. Modern-day GPUs are essentially linear algebra supercomputers. And, to utilize their power on a GPU, models must often be carefully formulated in terms of vectors and matrices.\n",
    "\n",
    "More than that, todya's advanced models build upon the simpler foundational models. Each neuron in a neural net is essentially a logistic regressor! Support vector machines utilize a kernel trick to craftily make problems linear that would not otherwise appear to be.\n",
    "\n",
    "Although we do not have time in this course to comprehensively discuss linear algebra, we highly recommend you become fluent!"
   ]
  },
  {
   "cell_type": "markdown",
   "metadata": {},
   "source": [
    "<a id=\"scalars-vectors-and-matrices\"></a>\n",
    "### Scalars, Vectors, and Matrices\n",
    "\n",
    "A **scalar** is a single number. Here, symbols that are lowercase single letters refer to scalars. For example, the symbols $a$ and $v$ are scalars that might refer to arbitrary numbers such as $5.328$ or $7$. An example scalar would be:\n",
    "\n",
    "$$a$$\n",
    "\n",
    "A **vector** is an ordered sequence of numbers. Here, symbols that are lowercase single letters with an arrow — such as $\\vec{u}$ — refer to vectors. An example vector would be:\n",
    "\n",
    "$$\\vec{u} = \\left[ \\begin{array}{c}\n",
    "1&3&7\n",
    "\\end{array} \\right]$$"
   ]
  },
  {
   "cell_type": "code",
   "execution_count": 2,
   "metadata": {},
   "outputs": [
    {
     "data": {
      "text/plain": [
       "[1, 2, 7]"
      ]
     },
     "execution_count": 2,
     "metadata": {},
     "output_type": "execute_result"
    }
   ],
   "source": [
    "# Create a vector using np.array.\n",
    "\n",
    "[1, 2, 7]"
   ]
  },
  {
   "cell_type": "markdown",
   "metadata": {},
   "source": [
    "An $m$ x $n$ **matrix** is a rectangular array of numbers with $m$ rows and $n$ columns. Each number in the matrix is an entry. Entries can be denoted $a_{ij}$, where $i$ denotes the row number and $j$ denotes the column number. Note that, because each entry $a_{ij}$ is a lowercase single letter, a matrix is an array of scalars:\n",
    "\n",
    "$$\\mathbf{A}= \\left[ \\begin{array}{c}\n",
    "a_{11} & a_{12} & ... & a_{1n}  \\\\\n",
    "a_{21} & a_{22} & ... & a_{2n}  \\\\\n",
    "... & ... & ... & ... \\\\\n",
    "a_{m1} & a_{m2} & ... & a_{mn}\n",
    "\\end{array} \\right]$$\n",
    "\n",
    "Matrices are referred to using bold uppercase letters, such as $\\mathbf{A}$. A bold font face is used to distinguish matrices from sets."
   ]
  },
  {
   "cell_type": "code",
   "execution_count": 3,
   "metadata": {},
   "outputs": [
    {
     "data": {
      "text/plain": [
       "array([[1, 3, 7],\n",
       "       [4, 6, 3],\n",
       "       [2, 5, 6]])"
      ]
     },
     "execution_count": 3,
     "metadata": {},
     "output_type": "execute_result"
    }
   ],
   "source": [
    "# Create a matrix using np.array.\n",
    "\n",
    "m = np.array([[1, 3, 7], [4, 6, 3], [2, 5, 6]])\n",
    "m"
   ]
  },
  {
   "cell_type": "markdown",
   "metadata": {},
   "source": [
    "Note that in Python, a matrix is just a list of lists! The outermost list is a list of rows."
   ]
  },
  {
   "cell_type": "markdown",
   "metadata": {},
   "source": [
    "<a id=\"basic-matrix-algebra\"></a>\n",
    "### Basic Matrix Algebra\n"
   ]
  },
  {
   "cell_type": "markdown",
   "metadata": {},
   "source": [
    "#### Addition and Subtraction\n",
    "Vector **addition** is straightforward. If two vectors are of equal dimensions (The vectors are shown here as column vectors for convenience only):\n",
    "\n",
    "$\\vec{v} = \\left[ \\begin{array}{c}\n",
    "1 \\\\\n",
    "3 \\\\\n",
    "7\n",
    "\\end{array} \\right],  \\vec{w} = \\left[ \\begin{array}{c}\n",
    "1 \\\\\n",
    "0 \\\\\n",
    "1\n",
    "\\end{array} \\right]$"
   ]
  },
  {
   "cell_type": "code",
<<<<<<< Updated upstream
   "execution_count": 4,
=======
   "execution_count": 2,
>>>>>>> Stashed changes
   "metadata": {},
   "outputs": [],
   "source": [
    "v = np.array([1, 3, 7])\n",
    "w = np.array([1, 0, 1])"
   ]
  },
  {
   "cell_type": "markdown",
   "metadata": {},
   "source": [
    "$\\vec{v} + \\vec{w} =\n",
    "\\left[ \\begin{array}{c}\n",
    "1 \\\\\n",
    "3 \\\\\n",
    "7\n",
    "\\end{array} \\right] + \\left[ \\begin{array}{c}\n",
    "1 \\\\\n",
    "0 \\\\\n",
    "1\n",
    "\\end{array} \\right] = \n",
    "\\left[ \\begin{array}{c}\n",
    "1+1 \\\\\n",
    "3+0 \\\\\n",
    "7+1\n",
    "\\end{array} \\right] = \n",
    "\\left[ \\begin{array}{c}\n",
    "2 \\\\\n",
    "3 \\\\\n",
    "8\n",
    "\\end{array} \\right]\n",
    "$\n",
    "\n",
    "(Subtraction is similar.)"
   ]
  },
  {
   "cell_type": "code",
<<<<<<< Updated upstream
   "execution_count": 5,
=======
   "execution_count": 3,
>>>>>>> Stashed changes
   "metadata": {},
   "outputs": [
    {
     "data": {
      "text/plain": [
       "array([2, 3, 8])"
      ]
     },
<<<<<<< Updated upstream
     "execution_count": 5,
=======
     "execution_count": 3,
>>>>>>> Stashed changes
     "metadata": {},
     "output_type": "execute_result"
    }
   ],
   "source": [
    "# Add the vectors together with +.\n",
<<<<<<< Updated upstream
    "v + w"
=======
    "output = v + w\n",
    "output"
>>>>>>> Stashed changes
   ]
  },
  {
   "cell_type": "markdown",
   "metadata": {},
   "source": [
    "#### Scalar Multiplication\n",
    "We scale a vector with **scalar multiplication**, multiplying a vector by a scalar (single quantity):\n",
    "\n",
    "$ 2 \\cdot \\vec{v} = 2\\left[ \\begin{array}{c}\n",
    "1 \\\\\n",
    "3 \\\\\n",
    "7\n",
    "\\end{array} \\right] = \n",
    " \\left[ \\begin{array}{c}\n",
    "2 \\cdot 1 \\\\\n",
    "2 \\cdot 3 \\\\\n",
    "2 \\cdot 7\n",
    "\\end{array} \\right] = \n",
    " \\left[ \\begin{array}{c}\n",
    "2 \\\\\n",
    "6 \\\\\n",
    "14\n",
    "\\end{array} \\right]$ "
   ]
  },
  {
   "cell_type": "code",
<<<<<<< Updated upstream
   "execution_count": 6,
=======
   "execution_count": 4,
>>>>>>> Stashed changes
   "metadata": {},
   "outputs": [
    {
     "data": {
      "text/plain": [
       "array([ 2,  6, 14])"
      ]
     },
<<<<<<< Updated upstream
     "execution_count": 6,
=======
     "execution_count": 4,
>>>>>>> Stashed changes
     "metadata": {},
     "output_type": "execute_result"
    }
   ],
   "source": [
    "# Multiply v by 2.\n",
<<<<<<< Updated upstream
    "2 * v"
=======
    "output = v * 2\n",
    "output"
>>>>>>> Stashed changes
   ]
  },
  {
   "cell_type": "markdown",
   "metadata": {},
   "source": [
    "<a id=\"dot-product\"></a>\n",
    "### Dot Product\n",
    "The **dot product** of two _n_-dimensional vectors is:\n",
    "\n",
    "$ \\vec{v} \\cdot \\vec{w} =\\sum _{i=1}^{n}v_{i}w_{i}=v_{1}w_{1}+v_{2}w_{2}+\\cdots +v_{n}w_{n} $\n",
    "\n",
    "So, if:\n",
    "\n",
    "$\\vec{v} = \\left[ \\begin{array}{c}\n",
    "1 \\\\\n",
    "3 \\\\\n",
    "7\n",
    "\\end{array} \\right], \\vec{w} = \\left[ \\begin{array}{c}\n",
    "1 \\\\\n",
    "0 \\\\\n",
    "1\n",
    "\\end{array} \\right]$\n",
    "\n",
    "$ \\vec{v} \\cdot \\vec{w} = 1 \\cdot 1 + 3 \\cdot 0 + 7 \\cdot 1 = 8 $"
   ]
  },
  {
   "cell_type": "code",
<<<<<<< Updated upstream
   "execution_count": 7,
   "metadata": {},
   "outputs": [
    {
     "data": {
      "text/plain": [
       "8"
      ]
     },
     "execution_count": 7,
     "metadata": {},
     "output_type": "execute_result"
    }
   ],
=======
   "execution_count": 30,
   "metadata": {},
   "outputs": [],
>>>>>>> Stashed changes
   "source": [
    "v = np.array([1, 3, 7])\n",
    "w = np.array([1, 0, 1])\n",
    "\n",
    "# Calculate the dot product of v and w using np.dot.\n",
    "\n",
    "\n",
    "v.dot(w)"
   ]
  },
  {
   "cell_type": "markdown",
   "metadata": {},
   "source": [
    "<a id=\"matrix-multiplication\"></a>\n",
    "### Matrix Multiplication\n",
    "**Matrix multiplication**, $\\mathbf{A}_{mn}$ x $\\mathbf{B}_{ij}$, is valid when the left matrix has the same number of columns as the right matrix has rows ($n = i$). Each entry is the dot product of corresponding row and column vectors.\n",
    "\n",
    "![](assets/images/matrix-multiply-a.gif)\n",
    "(Image: mathisfun.com!)"
   ]
  },
  {
   "cell_type": "markdown",
   "metadata": {},
   "source": [
    "The dot product illustrated above is: $1 \\cdot 7 + 2 \\cdot 9 + 3 \\cdot 11 = 58$. Can you compute the rest of the dot products by hand?\n",
    "\n",
    "If the product is the $2$ x $2$ matrix $\\mathbf{C}_{mj}$, then:\n",
    "\n",
    "+ Matrix entry $c_{12}$ (its FIRST row and SECOND column) is the dot product of the FIRST row of $\\mathbf{A}$ and the SECOND column of $\\mathbf{B}$.\n",
    "\n",
    "+ Matrix entry $c_{21}$ (its SECOND row and FIRST column) is the dot product of the SECOND row of $\\mathbf{A}$ and the FIRST column of $\\mathbf{B}$.\n",
    "\n",
    "Note that if the first matrix is $m$ x $n$ ($m$ rows and $n$ columns) and the second is  $i$ x $j$ (where $n = i$), then the final matrix will be $m$ x $j$. For example, below we have $2$ x $3$ multiplied by $3$ x $2$, which results in a $2$ x $2$ matrix. Can you see why?"
   ]
  },
  {
   "cell_type": "code",
<<<<<<< Updated upstream
   "execution_count": 8,
=======
   "execution_count": 5,
>>>>>>> Stashed changes
   "metadata": {},
   "outputs": [
    {
     "data": {
      "text/plain": [
       "array([[ 58,  64],\n",
       "       [139, 154]])"
      ]
     },
<<<<<<< Updated upstream
     "execution_count": 8,
=======
     "execution_count": 5,
>>>>>>> Stashed changes
     "metadata": {},
     "output_type": "execute_result"
    }
   ],
   "source": [
    "A = np.array([[1, 2, 3], [4, 5, 6]])\n",
    "B = np.array([[7, 8], [9, 10], [11, 12]])\n",
    "\n",
    "A.dot(B)"
   ]
  },
  {
   "cell_type": "markdown",
   "metadata": {},
   "source": [
    "Make sure you can compute this by hand!"
   ]
  },
  {
   "cell_type": "markdown",
   "metadata": {},
   "source": [
    "<a id=\"n-dimensional-space\"></a>\n",
    "### N-Dimensional Space\n",
    "\n",
    "We often refer to vectors as elements of an $n$-dimensional space. The symbol $\\mathbb{R}$ refers to the set of all real numbers (written in uppercase \"blackboard bold\" font). Because this contains all reals, $3$ and $\\pi$ are **contained in** $\\mathbb{R}$. We often write this symbolically as $3 \\in \\mathbb{R}$ and $\\pi \\in \\mathbb{R}$.\n",
    "\n",
    "To get the set of all pairs of real numbers, we would essentially take the product of this set with itself (called the Cartesian product) — $\\mathbb{R}$ x $\\mathbb{R}$, abbreviated as $\\mathbb{R}^2$. This set — $\\mathbb{R}^2$ — contains all pairs of real numbers, so $(1, 3)$ is **contained in** this set. We write this symbolically as $(1, 3) \\in \\mathbb{R}^2$.\n",
    "\n",
    "+ In 2-D space ($\\mathbb{R}^2$), a point is uniquely referred to using two coordinates: $(1, 3) \\in \\mathbb{R}^2$.\n",
    "+ In 3-D space ($\\mathbb{R}^3$), a point is uniquely referred to using three coordinates: $(8, 2, -3) \\in \\mathbb{R}^3$.\n",
    "+ In $n$-dimensional space ($\\mathbb{R}^n$), a point is uniquely referred to using $n$ coordinates.\n",
    "\n",
    "Note that these coordinates of course are isomorphic to our vectors! After all, coordinates are ordered sequences of numbers, just as we define vectors to be ordered sequences of numbers. So, especially in machine learning, we often visualize vectors of length $n$ as points in $n$-dimensional space."
   ]
  },
  {
   "cell_type": "markdown",
   "metadata": {},
   "source": [
    "<a id=\"vector-norm\"></a>\n",
    "### Vector Norm\n",
    "\n",
    "The **magnitude** of a vector, $\\vec{v} \\in \\mathbb{R}^{n}$, can be interpreted as its length in $n$-dimensional space. Therefore it is calculable via the Euclidean distance from the origin:\n",
    "\n",
    "$\\vec{v} = \\left[ \\begin{array}{c}\n",
    "v_{1} \\\\\n",
    "v_{2} \\\\\n",
    "\\vdots \\\\\n",
    "v_{n}\n",
    "\\end{array} \\right]$\n",
    "\n",
    "then $\\| \\vec{v} \\| = \\sqrt{v_{1}^{2} + v_{2}^{2} + ... + v_{n}^{2}} = \\sqrt{v^Tv}$\n",
    "\n",
    "E.g. if $\\vec{v} = \n",
    "\\left[ \\begin{array}{c}\n",
    "3 \\\\\n",
    "4\n",
    "\\end{array} \\right]$, then $\\| \\vec{v} \\| = \\sqrt{3^{2} + 4^{2}} = 5$\n",
    "\n",
    "This is also called the vector **norm**. You will often see this used in machine learning."
   ]
  },
  {
   "cell_type": "code",
   "execution_count": 9,
   "metadata": {},
   "outputs": [
    {
     "data": {
      "text/plain": [
       "5.0"
      ]
     },
     "execution_count": 9,
     "metadata": {},
     "output_type": "execute_result"
    }
   ],
   "source": [
    "x = np.array([3,4])\n",
    "\n",
    "# Calculate the norm of the vector x with np.linalg.norm.\n",
    "\n",
    "np.linalg.norm(x)"
   ]
  },
  {
   "cell_type": "markdown",
   "metadata": {},
   "source": [
    "<a id=\"linear-algebra-applications-to-machine-learning\"></a>\n",
    "## Linear Algebra Applications to Machine Learning\n",
    "---\n",
    "\n",
    "<a id=\"distance-between-actual-values-and-predicted-values\"></a>\n",
    "### Distance Between Actual Values and Predicted Values\n",
    "We often need to know the difference between predicted values and actual values. In 2-D space, we compute this as:\n",
    "$$\\| \\vec{actual} - \\vec{predicted} \\| =\\sqrt{(actual_1 - predicted_1)^2 + (actual_2 - predicted_2)^2}$$\n",
    "\n",
    "Note that this is just the straight-line distance between the actual point and the predicted point.\n",
    "\n",
    "<a id=\"mean-squared-error\"></a>\n",
    "### Mean Squared Error\n",
    "Often, it's easier to look at the mean of the squared errors. Where $\\hat{y}(\\mathbf{X})$ is a vector of predicted values (a function of the data matrix $\\mathbf{X}$) and $\\vec{y}$ is the actual values:\n",
    "\n",
    "$$MSE = \\frac{1} {n} \\| \\hat{y}(\\mathbf{X}) - \\vec{y} \\|^2$$\n",
    "\n",
    "<a id=\"least-squares\"></a>\n",
    "### Least squares\n",
    "Many machine learning models are based on the following form:\n",
    "\n",
    "$$\\min \\| \\hat{y}(\\mathbf{X}) - \\vec{y} \\|$$\n",
    "\n",
    "The goal is to minimize the distance between model predictions and actual data."
   ]
  },
  {
   "cell_type": "markdown",
   "metadata": {},
   "source": [
    "Let's see this in [scikit-learn](http://scikit-learn.org/stable/modules/linear_model.html)."
   ]
  },
  {
   "cell_type": "markdown",
   "metadata": {},
   "source": [
    "<a id=\"codealong-examining-the-titanic-dataset\"></a>\n",
    "## Code-Along: Examining the Titanic Data Set\n",
    "\n",
    "---"
   ]
  },
  {
   "cell_type": "markdown",
   "metadata": {},
   "source": [
    "#### Objective: Read in the Titanic data and look at a few summary statistics."
   ]
  },
  {
   "cell_type": "code",
<<<<<<< Updated upstream
   "execution_count": 10,
=======
   "execution_count": 6,
>>>>>>> Stashed changes
   "metadata": {},
   "outputs": [],
   "source": [
    "# Import Pandas\n",
    "import pandas as pd"
   ]
  },
  {
   "cell_type": "code",
<<<<<<< Updated upstream
   "execution_count": 11,
=======
   "execution_count": 7,
>>>>>>> Stashed changes
   "metadata": {},
   "outputs": [],
   "source": [
    "titanic = pd.read_csv('data/titanic.csv')"
   ]
  },
  {
   "cell_type": "markdown",
   "metadata": {},
   "source": [
    "#### Print out the column names:"
   ]
  },
  {
   "cell_type": "code",
<<<<<<< Updated upstream
   "execution_count": 12,
=======
   "execution_count": 8,
>>>>>>> Stashed changes
   "metadata": {
    "scrolled": true
   },
   "outputs": [
    {
     "data": {
      "text/plain": [
       "Index(['survived', 'pclass', 'name', 'sex', 'age', 'sibsp', 'parch', 'ticket',\n",
       "       'fare', 'cabin', 'embarked'],\n",
       "      dtype='object')"
      ]
     },
<<<<<<< Updated upstream
     "execution_count": 12,
=======
     "execution_count": 8,
>>>>>>> Stashed changes
     "metadata": {},
     "output_type": "execute_result"
    }
   ],
   "source": [
    "# Answer:\n",
    "titanic.columns"
   ]
  },
  {
   "cell_type": "markdown",
   "metadata": {},
   "source": [
    "#### Print out the dimensions of the DataFrame using the `.shape` attribute:"
   ]
  },
  {
   "cell_type": "code",
<<<<<<< Updated upstream
   "execution_count": 13,
=======
   "execution_count": 9,
>>>>>>> Stashed changes
   "metadata": {},
   "outputs": [
    {
     "data": {
      "text/plain": [
       "(891, 11)"
      ]
     },
<<<<<<< Updated upstream
     "execution_count": 13,
=======
     "execution_count": 9,
>>>>>>> Stashed changes
     "metadata": {},
     "output_type": "execute_result"
    }
   ],
   "source": [
    "# Preview data dimensions.\n",
    "titanic.shape"
   ]
  },
  {
   "cell_type": "markdown",
   "metadata": {},
   "source": [
    "#### Print out the data types of the columns using the `.dtypes` attribute:"
   ]
  },
  {
   "cell_type": "code",
<<<<<<< Updated upstream
   "execution_count": 14,
=======
   "execution_count": 10,
>>>>>>> Stashed changes
   "metadata": {},
   "outputs": [
    {
     "data": {
      "text/plain": [
       "survived      int64\n",
       "pclass        int64\n",
       "name         object\n",
       "sex          object\n",
       "age         float64\n",
       "sibsp         int64\n",
       "parch         int64\n",
       "ticket       object\n",
       "fare        float64\n",
       "cabin        object\n",
       "embarked     object\n",
       "dtype: object"
      ]
     },
<<<<<<< Updated upstream
     "execution_count": 14,
=======
     "execution_count": 10,
>>>>>>> Stashed changes
     "metadata": {},
     "output_type": "execute_result"
    }
   ],
   "source": [
    "# What are the column data types?\n",
    "titanic.dtypes"
   ]
  },
  {
   "cell_type": "markdown",
   "metadata": {},
   "source": [
    "#### Print out the first five rows of the data using the built-in `.head()` function:"
   ]
  },
  {
   "cell_type": "code",
<<<<<<< Updated upstream
   "execution_count": 15,
=======
   "execution_count": 11,
>>>>>>> Stashed changes
   "metadata": {
    "scrolled": false
   },
   "outputs": [
    {
     "data": {
      "text/html": [
       "<div>\n",
       "<style scoped>\n",
       "    .dataframe tbody tr th:only-of-type {\n",
       "        vertical-align: middle;\n",
       "    }\n",
       "\n",
       "    .dataframe tbody tr th {\n",
       "        vertical-align: top;\n",
       "    }\n",
       "\n",
       "    .dataframe thead th {\n",
       "        text-align: right;\n",
       "    }\n",
       "</style>\n",
       "<table border=\"1\" class=\"dataframe\">\n",
       "  <thead>\n",
       "    <tr style=\"text-align: right;\">\n",
       "      <th></th>\n",
       "      <th>survived</th>\n",
       "      <th>pclass</th>\n",
       "      <th>name</th>\n",
       "      <th>sex</th>\n",
       "      <th>age</th>\n",
       "      <th>sibsp</th>\n",
       "      <th>parch</th>\n",
       "      <th>ticket</th>\n",
       "      <th>fare</th>\n",
       "      <th>cabin</th>\n",
       "      <th>embarked</th>\n",
       "    </tr>\n",
       "  </thead>\n",
       "  <tbody>\n",
       "    <tr>\n",
       "      <th>886</th>\n",
       "      <td>0</td>\n",
       "      <td>2</td>\n",
       "      <td>Montvila, Rev. Juozas</td>\n",
       "      <td>male</td>\n",
       "      <td>27.0</td>\n",
       "      <td>0</td>\n",
       "      <td>0</td>\n",
       "      <td>211536</td>\n",
       "      <td>13.00</td>\n",
       "      <td>NaN</td>\n",
       "      <td>S</td>\n",
       "    </tr>\n",
       "    <tr>\n",
       "      <th>887</th>\n",
       "      <td>1</td>\n",
       "      <td>1</td>\n",
       "      <td>Graham, Miss. Margaret Edith</td>\n",
       "      <td>female</td>\n",
       "      <td>19.0</td>\n",
       "      <td>0</td>\n",
       "      <td>0</td>\n",
       "      <td>112053</td>\n",
       "      <td>30.00</td>\n",
       "      <td>B42</td>\n",
       "      <td>S</td>\n",
       "    </tr>\n",
       "    <tr>\n",
       "      <th>888</th>\n",
       "      <td>0</td>\n",
       "      <td>3</td>\n",
       "      <td>Johnston, Miss. Catherine Helen \"Carrie\"</td>\n",
       "      <td>female</td>\n",
       "      <td>NaN</td>\n",
       "      <td>1</td>\n",
       "      <td>2</td>\n",
       "      <td>W./C. 6607</td>\n",
       "      <td>23.45</td>\n",
       "      <td>NaN</td>\n",
       "      <td>S</td>\n",
       "    </tr>\n",
       "    <tr>\n",
       "      <th>889</th>\n",
       "      <td>1</td>\n",
       "      <td>1</td>\n",
       "      <td>Behr, Mr. Karl Howell</td>\n",
       "      <td>male</td>\n",
       "      <td>26.0</td>\n",
       "      <td>0</td>\n",
       "      <td>0</td>\n",
       "      <td>111369</td>\n",
       "      <td>30.00</td>\n",
       "      <td>C148</td>\n",
       "      <td>C</td>\n",
       "    </tr>\n",
       "    <tr>\n",
       "      <th>890</th>\n",
       "      <td>0</td>\n",
       "      <td>3</td>\n",
       "      <td>Dooley, Mr. Patrick</td>\n",
       "      <td>male</td>\n",
       "      <td>32.0</td>\n",
       "      <td>0</td>\n",
       "      <td>0</td>\n",
       "      <td>370376</td>\n",
       "      <td>7.75</td>\n",
       "      <td>NaN</td>\n",
       "      <td>Q</td>\n",
       "    </tr>\n",
       "  </tbody>\n",
       "</table>\n",
       "</div>"
      ],
      "text/plain": [
       "     survived  pclass                                      name     sex   age  \\\n",
       "886         0       2                     Montvila, Rev. Juozas    male  27.0   \n",
       "887         1       1              Graham, Miss. Margaret Edith  female  19.0   \n",
       "888         0       3  Johnston, Miss. Catherine Helen \"Carrie\"  female   NaN   \n",
       "889         1       1                     Behr, Mr. Karl Howell    male  26.0   \n",
       "890         0       3                       Dooley, Mr. Patrick    male  32.0   \n",
       "\n",
       "     sibsp  parch      ticket   fare cabin embarked  \n",
       "886      0      0      211536  13.00   NaN        S  \n",
       "887      0      0      112053  30.00   B42        S  \n",
       "888      1      2  W./C. 6607  23.45   NaN        S  \n",
       "889      0      0      111369  30.00  C148        C  \n",
       "890      0      0      370376   7.75   NaN        Q  "
      ]
     },
<<<<<<< Updated upstream
     "execution_count": 15,
=======
     "execution_count": 11,
>>>>>>> Stashed changes
     "metadata": {},
     "output_type": "execute_result"
    }
   ],
   "source": [
    "# Look at the first five rows.\n",
    "titanic.tail()"
   ]
  },
  {
   "cell_type": "markdown",
   "metadata": {},
   "source": [
    "#### Use the built-in  `.value_counts()` function to count the values of each type in the `pclass` column:"
   ]
  },
  {
   "cell_type": "code",
<<<<<<< Updated upstream
   "execution_count": 17,
=======
   "execution_count": 12,
>>>>>>> Stashed changes
   "metadata": {},
   "outputs": [
    {
     "data": {
      "text/plain": [
       "3    491\n",
       "1    216\n",
       "2    184\n",
       "Name: pclass, dtype: int64"
      ]
     },
<<<<<<< Updated upstream
     "execution_count": 17,
=======
     "execution_count": 12,
>>>>>>> Stashed changes
     "metadata": {},
     "output_type": "execute_result"
    }
   ],
   "source": [
    "# Count the values of the plcass variable.\n",
    "titanic['pclass'].value_counts()"
   ]
  },
  {
   "cell_type": "markdown",
   "metadata": {},
   "source": [
    "#### Pull up descriptive statistics for each variable using the built-in `.describe()` function:"
   ]
  },
  {
   "cell_type": "code",
<<<<<<< Updated upstream
   "execution_count": 18,
=======
   "execution_count": 13,
>>>>>>> Stashed changes
   "metadata": {},
   "outputs": [
    {
     "data": {
      "text/html": [
       "<div>\n",
       "<style scoped>\n",
       "    .dataframe tbody tr th:only-of-type {\n",
       "        vertical-align: middle;\n",
       "    }\n",
       "\n",
       "    .dataframe tbody tr th {\n",
       "        vertical-align: top;\n",
       "    }\n",
       "\n",
       "    .dataframe thead th {\n",
       "        text-align: right;\n",
       "    }\n",
       "</style>\n",
       "<table border=\"1\" class=\"dataframe\">\n",
       "  <thead>\n",
       "    <tr style=\"text-align: right;\">\n",
       "      <th></th>\n",
       "      <th>survived</th>\n",
       "      <th>pclass</th>\n",
       "      <th>age</th>\n",
       "      <th>sibsp</th>\n",
       "      <th>parch</th>\n",
       "      <th>fare</th>\n",
       "    </tr>\n",
       "  </thead>\n",
       "  <tbody>\n",
       "    <tr>\n",
       "      <th>count</th>\n",
       "      <td>891.000000</td>\n",
       "      <td>891.000000</td>\n",
       "      <td>714.000000</td>\n",
       "      <td>891.000000</td>\n",
       "      <td>891.000000</td>\n",
       "      <td>891.000000</td>\n",
       "    </tr>\n",
       "    <tr>\n",
       "      <th>mean</th>\n",
       "      <td>0.383838</td>\n",
       "      <td>2.308642</td>\n",
       "      <td>29.699118</td>\n",
       "      <td>0.523008</td>\n",
       "      <td>0.381594</td>\n",
       "      <td>32.204208</td>\n",
       "    </tr>\n",
       "    <tr>\n",
       "      <th>std</th>\n",
       "      <td>0.486592</td>\n",
       "      <td>0.836071</td>\n",
       "      <td>14.526497</td>\n",
       "      <td>1.102743</td>\n",
       "      <td>0.806057</td>\n",
       "      <td>49.693429</td>\n",
       "    </tr>\n",
       "    <tr>\n",
       "      <th>min</th>\n",
       "      <td>0.000000</td>\n",
       "      <td>1.000000</td>\n",
       "      <td>0.420000</td>\n",
       "      <td>0.000000</td>\n",
       "      <td>0.000000</td>\n",
       "      <td>0.000000</td>\n",
       "    </tr>\n",
       "    <tr>\n",
       "      <th>25%</th>\n",
       "      <td>0.000000</td>\n",
       "      <td>2.000000</td>\n",
       "      <td>20.125000</td>\n",
       "      <td>0.000000</td>\n",
       "      <td>0.000000</td>\n",
       "      <td>7.910400</td>\n",
       "    </tr>\n",
       "    <tr>\n",
       "      <th>50%</th>\n",
       "      <td>0.000000</td>\n",
       "      <td>3.000000</td>\n",
       "      <td>28.000000</td>\n",
       "      <td>0.000000</td>\n",
       "      <td>0.000000</td>\n",
       "      <td>14.454200</td>\n",
       "    </tr>\n",
       "    <tr>\n",
       "      <th>75%</th>\n",
       "      <td>1.000000</td>\n",
       "      <td>3.000000</td>\n",
       "      <td>38.000000</td>\n",
       "      <td>1.000000</td>\n",
       "      <td>0.000000</td>\n",
       "      <td>31.000000</td>\n",
       "    </tr>\n",
       "    <tr>\n",
       "      <th>max</th>\n",
       "      <td>1.000000</td>\n",
       "      <td>3.000000</td>\n",
       "      <td>80.000000</td>\n",
       "      <td>8.000000</td>\n",
       "      <td>6.000000</td>\n",
       "      <td>512.329200</td>\n",
       "    </tr>\n",
       "  </tbody>\n",
       "</table>\n",
       "</div>"
      ],
      "text/plain": [
       "         survived      pclass         age       sibsp       parch        fare\n",
       "count  891.000000  891.000000  714.000000  891.000000  891.000000  891.000000\n",
       "mean     0.383838    2.308642   29.699118    0.523008    0.381594   32.204208\n",
       "std      0.486592    0.836071   14.526497    1.102743    0.806057   49.693429\n",
       "min      0.000000    1.000000    0.420000    0.000000    0.000000    0.000000\n",
       "25%      0.000000    2.000000   20.125000    0.000000    0.000000    7.910400\n",
       "50%      0.000000    3.000000   28.000000    0.000000    0.000000   14.454200\n",
       "75%      1.000000    3.000000   38.000000    1.000000    0.000000   31.000000\n",
       "max      1.000000    3.000000   80.000000    8.000000    6.000000  512.329200"
      ]
     },
<<<<<<< Updated upstream
     "execution_count": 18,
=======
     "execution_count": 13,
>>>>>>> Stashed changes
     "metadata": {},
     "output_type": "execute_result"
    }
   ],
   "source": [
    "# Pull up descriptive statistics for each variable.\n",
    "titanic.describe()"
   ]
  },
  {
   "cell_type": "markdown",
   "metadata": {},
   "source": [
    "### Diagnosing Data Problems\n",
    "\n",
    "- Whenever you get a new data set, the fastest way to find mistakes and inconsistencies is to look at the descriptive statistics.\n",
    "  - If anything looks too high or too low relative to your experience, there may be issues with the data collection.\n",
    "- Your data may contain a lot of missing values and may need to be cleaned meticulously before they can be combined with other data.\n",
    "  - You can take a quick average or moving average to smooth out the data and combine that to preview your results before you embark on your much longer data-cleaning journey.\n",
    "  - Sometimes filling in missing values with their means or medians will be the best solution for dealing with missing data. Other times, you may want to drop the offending rows or do real imputation."
   ]
  },
  {
   "cell_type": "markdown",
   "metadata": {},
   "source": [
    "<a id=\"descriptive-statistics-fundamentals\"></a>\n",
    "## Descriptive Statistics Fundamentals\n",
    "---\n",
    "\n",
    "- **Objective:** Code summary statistics using NumPy and Pandas: mean, median, mode, max, min, quartile, inter-quartile range, variance, standard deviation, and correlation."
   ]
  },
  {
   "cell_type": "markdown",
   "metadata": {},
   "source": [
    "### A Quick Review of Notation"
   ]
  },
  {
   "cell_type": "markdown",
   "metadata": {},
   "source": [
    "The sum of a constant, $k$, $n$ times:\n",
    "$$\\sum_{i=1}^nk$$"
   ]
  },
  {
   "cell_type": "code",
   "execution_count": 15,
   "metadata": {},
   "outputs": [],
   "source": [
    "# k + k + k + k + ... + k"
   ]
  },
  {
   "cell_type": "markdown",
   "metadata": {},
   "source": [
    "> It is often helpful to think of these sums as `for` loops. For example, the equation can be compactly computed like so:\n",
    "\n",
    "```\n",
    "total = 0\n",
    "\n",
    "# For i from 1 up to and including n, add k to the sum.\n",
    "for i in range(1, n+1):\n",
    "    total += k\n",
    "```\n",
    "\n",
    "> Or, even more succinctly (using a generator comprehension):\n",
    "\n",
    "```\n",
    "total = sum(k for i in range(1, n+1))\n",
    "```"
   ]
  },
  {
   "cell_type": "markdown",
   "metadata": {},
   "source": [
    "The sum of all numbers from 1 up to and including $n$:\n",
    "$$\\sum_{i=1}^ni$$"
   ]
  },
  {
   "cell_type": "code",
   "execution_count": 17,
   "metadata": {},
   "outputs": [
    {
     "name": "stdout",
     "output_type": "stream",
     "text": [
      "i is 1\n",
      "i is 2\n",
      "i is 3\n",
      "i is 4\n",
      "i is 5\n",
      "i is 6\n",
      "i is 7\n",
      "i is 8\n",
      "i is 9\n",
      "i is 10\n",
      "Summation is 55\n"
     ]
    }
   ],
   "source": [
    "# 1 + 2 + 3 + ... + n\n",
    "n = 10\n",
    "summation = 0\n",
    "for i in range(1,n+1):\n",
    "    print(\"i is {}\".format(i))\n",
    "    summation += i\n",
    "\n",
    "print(\"Summation is {}\".format(summation))\n",
    "    "
   ]
  },
  {
   "cell_type": "markdown",
   "metadata": {},
   "source": [
    "> ```\n",
    "total = sum(i for i in range(1, n+1))\n",
    "```"
   ]
  },
  {
   "cell_type": "markdown",
   "metadata": {},
   "source": [
    "The sum of all $x$ from the first $x$ entry to the $n$th $x$ entry:\n",
    "$$\\sum_{i=0}^nx_i$$"
   ]
  },
  {
   "cell_type": "code",
   "execution_count": 22,
   "metadata": {
    "collapsed": true
   },
   "outputs": [],
   "source": [
    "# x_1 + x_2 + x_3 + ... + x_n"
   ]
  },
  {
   "cell_type": "markdown",
   "metadata": {},
   "source": [
    "> ```\n",
    "total = sum(xi in x)      # or just sum(x)\n",
    "```"
   ]
  },
  {
   "cell_type": "markdown",
   "metadata": {},
   "source": [
    "#### Code-Along\n",
    "\n",
    "_Optional: Write down the mathematical notation for the following questions:_"
   ]
  },
  {
   "cell_type": "code",
   "execution_count": 20,
   "metadata": {},
   "outputs": [
    {
     "data": {
      "text/plain": [
       "[4, 4, 4, 4, 4, 4, 4]"
      ]
     },
     "execution_count": 20,
     "metadata": {},
     "output_type": "execute_result"
    }
   ],
   "source": [
    "[4 for x in range(7)]"
   ]
  },
  {
   "cell_type": "code",
   "execution_count": 19,
   "metadata": {},
   "outputs": [
    {
     "name": "stdout",
     "output_type": "stream",
     "text": [
<<<<<<< Updated upstream
      "Sum of 7 4s: 28\n"
=======
      "SUm of 7 4s is 28\n"
>>>>>>> Stashed changes
     ]
    }
   ],
   "source": [
<<<<<<< Updated upstream
    "# Compute the sum of seven 4s using base Python.\n",
    "print(\"Sum of 7 4s: {}\".format(sum([4 for x in range(7)])))"
=======
    "# Compute the sum of seven 4s using NumPy.\n",
    "print(\"Sum of 7 4s is {}\".format(np.sum([4 for x in range(7)])))"
>>>>>>> Stashed changes
   ]
  },
  {
   "cell_type": "code",
<<<<<<< Updated upstream
   "execution_count": 21,
=======
   "execution_count": 20,
>>>>>>> Stashed changes
   "metadata": {},
   "outputs": [
    {
     "name": "stdout",
     "output_type": "stream",
     "text": [
<<<<<<< Updated upstream
      "Sum of 7 4s: 28\n"
     ]
    }
   ],
   "source": [
    "# Compute the sum of seven 4s using NumPy.\n",
    "print(\"Sum of 7 4s: {}\".format(np.sum([4 for x in range(7)])))"
   ]
  },
  {
   "cell_type": "code",
   "execution_count": 25,
   "metadata": {},
   "outputs": [
    {
     "name": "stdout",
     "output_type": "stream",
     "text": [
      "Sum of 7 4s: 55\n"
=======
      "Sum of 1 to 10 is 55\n"
>>>>>>> Stashed changes
     ]
    }
   ],
   "source": [
    "# Compute the sum of 1 through 10 using base Python.\n",
<<<<<<< Updated upstream
    "print(\"Sum of 7 4s: {}\".format(sum(range(11))))"
=======
    "print(\"Sum of 1 to 10 is {}\".format(sum([x for x in range(1,11)])))"
>>>>>>> Stashed changes
   ]
  },
  {
   "cell_type": "code",
   "execution_count": 28,
   "metadata": {},
   "outputs": [
    {
     "data": {
      "text/plain": [
       "28693.9493"
      ]
     },
     "execution_count": 28,
     "metadata": {},
     "output_type": "execute_result"
    }
   ],
   "source": [
    "# Using the titanic.fare column, compute the total fare paid by passengers.\n",
    "titanic['fare'].sum()\n",
    "np.sum(titanic['fare'])"
   ]
  },
  {
   "cell_type": "markdown",
   "metadata": {},
   "source": [
    "<a id=\"measures-of-central-tendency\"></a>\n",
    "### Measures of Central Tendency"
   ]
  },
  {
   "cell_type": "markdown",
   "metadata": {},
   "source": [
    "- Mean\n",
    "- Median\n",
    "- Mode"
   ]
  },
  {
   "cell_type": "markdown",
   "metadata": {},
   "source": [
    "#### Mean\n",
    "The mean — also known as the average or expected value — is defined as:\n",
    "$$E[X] = \\bar{X} =\\frac 1n\\sum_{i=1}^nx_i$$\n",
    "\n",
    "It is determined by summing all data points in a population and then dividing the total by the number of points. The resulting number is known as the mean or the average.\n",
    "\n",
    "Be careful — the mean can be highly affected by outliers. For example, the mean of a very large number and some small numbers will be much larger than the \"typical\" small numbers. Earlier, we saw that the mean squared error (MSE) was used to optimize linear regression. Because this mean is highly affected by outliers, the resulting linear regression model is, too."
   ]
  },
  {
   "cell_type": "markdown",
   "metadata": {},
   "source": [
    "#### Median\n",
    "The median refers to the midpoint in a series of numbers. Notice that the median is not affected by outliers, so it more so represents the \"typical\" value in a set.\n",
    "\n",
    "$$ 0,1,2,[3],5,5,1004 $$\n",
    "\n",
    "$$ 1,3,4,[4,5],5,5,7 $$\n",
    "\n",
    "To find the median:\n",
    "\n",
    "- Arrange the numbers in order from smallest to largest.\n",
    "    - If there is an odd number of values, the middle value is the median.\n",
    "    - If there is an even number of values, the average of the middle two values is the median.\n",
    "\n",
    "Although the median has many useful properties, the mean is easier to use in optimization algorithms. The median is more often used in analysis than in machine learning algorithms."
   ]
  },
  {
   "cell_type": "markdown",
   "metadata": {},
   "source": [
    "#### Mode\n",
    "The mode of a set of values is the value that occurs most often.\n",
    "A set of values may have more than one mode, or no mode at all.\n",
    "\n",
    "$$1,0,1,5,7,8,9,3,4,1$$ \n",
    "\n",
    "$1$ is the mode, as it occurs the most often (three times)."
   ]
  },
  {
   "cell_type": "markdown",
   "metadata": {},
   "source": [
    "#### Code-Along"
   ]
  },
  {
   "cell_type": "code",
<<<<<<< Updated upstream
   "execution_count": 32,
=======
   "execution_count": 21,
>>>>>>> Stashed changes
   "metadata": {},
   "outputs": [
    {
     "data": {
      "text/plain": [
       "32.2042079685746"
      ]
     },
<<<<<<< Updated upstream
     "execution_count": 32,
=======
     "execution_count": 21,
>>>>>>> Stashed changes
     "metadata": {},
     "output_type": "execute_result"
    }
   ],
   "source": [
    "# Find the mean of the titanic.fare series using base Python:\n",
<<<<<<< Updated upstream
    "sum(list(titanic['fare'])) / len(titanic)"
=======
    "titanic['fare'].mean()"
>>>>>>> Stashed changes
   ]
  },
  {
   "cell_type": "code",
<<<<<<< Updated upstream
   "execution_count": 33,
=======
   "execution_count": 22,
>>>>>>> Stashed changes
   "metadata": {},
   "outputs": [
    {
     "data": {
      "text/plain": [
       "32.2042079685746"
      ]
     },
<<<<<<< Updated upstream
     "execution_count": 33,
=======
     "execution_count": 22,
>>>>>>> Stashed changes
     "metadata": {},
     "output_type": "execute_result"
    }
   ],
   "source": [
    "# Find the mean of the titanic.fare series using NumPy:\n",
<<<<<<< Updated upstream
    "\n",
=======
>>>>>>> Stashed changes
    "np.mean(titanic['fare'])"
   ]
  },
  {
   "cell_type": "code",
<<<<<<< Updated upstream
   "execution_count": 34,
=======
   "execution_count": 23,
>>>>>>> Stashed changes
   "metadata": {},
   "outputs": [
    {
     "data": {
      "text/plain": [
       "32.2042079685746"
      ]
     },
<<<<<<< Updated upstream
     "execution_count": 34,
=======
     "execution_count": 23,
>>>>>>> Stashed changes
     "metadata": {},
     "output_type": "execute_result"
    }
   ],
   "source": [
    "# Find the mean of the titanic.fare series using Pandas:\n",
    "titanic['fare'].mean()"
   ]
  },
  {
   "cell_type": "code",
<<<<<<< Updated upstream
   "execution_count": 35,
=======
   "execution_count": 24,
>>>>>>> Stashed changes
   "metadata": {},
   "outputs": [
    {
     "data": {
      "text/plain": [
       "14.4542"
      ]
     },
<<<<<<< Updated upstream
     "execution_count": 35,
=======
     "execution_count": 24,
>>>>>>> Stashed changes
     "metadata": {},
     "output_type": "execute_result"
    }
   ],
   "source": [
    "# What was the median fare paid (using Pandas)?\n",
<<<<<<< Updated upstream
    "\n",
=======
>>>>>>> Stashed changes
    "titanic['fare'].median()"
   ]
  },
  {
   "cell_type": "code",
<<<<<<< Updated upstream
   "execution_count": 36,
=======
   "execution_count": 26,
>>>>>>> Stashed changes
   "metadata": {},
   "outputs": [
    {
     "data": {
      "text/plain": [
<<<<<<< Updated upstream
       "0    8.05\n",
       "dtype: float64"
      ]
     },
     "execution_count": 36,
=======
       "8.0500      43\n",
       "13.0000     42\n",
       "7.8958      38\n",
       "7.7500      34\n",
       "26.0000     31\n",
       "10.5000     24\n",
       "7.9250      18\n",
       "7.7750      16\n",
       "26.5500     15\n",
       "0.0000      15\n",
       "7.2292      15\n",
       "7.8542      13\n",
       "8.6625      13\n",
       "7.2500      13\n",
       "7.2250      12\n",
       "16.1000      9\n",
       "9.5000       9\n",
       "24.1500      8\n",
       "15.5000      8\n",
       "56.4958      7\n",
       "52.0000      7\n",
       "14.5000      7\n",
       "14.4542      7\n",
       "69.5500      7\n",
       "7.0500       7\n",
       "31.2750      7\n",
       "46.9000      6\n",
       "30.0000      6\n",
       "7.7958       6\n",
       "39.6875      6\n",
       "            ..\n",
       "7.1417       1\n",
       "42.4000      1\n",
       "211.5000     1\n",
       "12.2750      1\n",
       "61.1750      1\n",
       "8.4333       1\n",
       "51.4792      1\n",
       "7.8875       1\n",
       "8.6833       1\n",
       "7.5208       1\n",
       "34.6542      1\n",
       "28.7125      1\n",
       "25.5875      1\n",
       "7.7292       1\n",
       "12.2875      1\n",
       "8.6542       1\n",
       "8.7125       1\n",
       "61.3792      1\n",
       "6.9500       1\n",
       "9.8417       1\n",
       "8.3000       1\n",
       "13.7917      1\n",
       "9.4750       1\n",
       "13.4167      1\n",
       "26.3875      1\n",
       "8.4583       1\n",
       "9.8375       1\n",
       "8.3625       1\n",
       "14.1083      1\n",
       "17.4000      1\n",
       "Name: fare, Length: 248, dtype: int64"
      ]
     },
     "execution_count": 26,
>>>>>>> Stashed changes
     "metadata": {},
     "output_type": "execute_result"
    }
   ],
   "source": [
    "# Use Pandas to find the most common fare paid on the Titanic:\n",
<<<<<<< Updated upstream
    "\n",
    "titanic['fare'].mode()"
=======
    "titanic['fare'].value_counts()"
>>>>>>> Stashed changes
   ]
  },
  {
   "cell_type": "markdown",
   "metadata": {},
   "source": [
    "<a id=\"math-review\"></a>\n",
    "### Math Review\n",
    "\n",
    "#### How Do We Measure Distance?\n",
    "\n",
    "One method is to take the difference between two points:\n",
    "\n",
    "$$X_2 - X_1$$\n",
    "\n",
    "However, this can be inconvenient because of negative numbers.\n",
    "\n",
    "We often use the following square root trick to deal with negative numbers. Note this is equivalent to the absolute value (if the points are 1-D):\n",
    "\n",
    "$$\\sqrt{(X_2-X_1)^2} = | X_2 - X_1 |$$\n",
    "\n",
    "#### What About Distance in Multiple Dimensions?\n",
    "\n",
    "We can turn to the Pythagorean theorem.\n",
    "\n",
    "$$a^2 + b^2 = c^2$$\n",
    "\n",
    "To find the distance along a diagonal, it is sufficient to measure one dimension at a time:\n",
    "\n",
    "$$\\sqrt{a^2 + b^2} = c$$\n",
    "\n",
    "More generally, we can write this as the norm (You'll see this in machine learning papers):\n",
    "\n",
    "$$\\|X\\|_2 = \\sqrt{\\sum{x_i^2}} = c$$\n",
    "\n",
    "What if we want to work with points rather than distances? For points $\\vec{x}: (x_1, x_1)$ and $\\vec{y}: (y_1, y_2)$ we can write:\n",
    "\n",
    "$$\\sqrt{(x_1 - y_1)^2 + (x_2 - y_2)^2} = c$$\n",
    "or\n",
    "$$\\sqrt{\\sum{(x_i - y_i)^2}} = c$$\n",
    "or\n",
    "$$\\| \\vec{x} - \\vec{y} \\| = c$$\n",
    "\n",
    "> You may be more familiar with defining points as $(x, y)$ rather than $(x_1, x_2)$. However, in machine learning it is much more convenient to define each coordinate using the same base letter with a different subscript. This allows us to easily represent a 100-dimensional point, e.g., $(x_1, x_2, ..., x_{100})$. If we use the grade school method, we would soon run out of letters!"
   ]
  },
  {
   "cell_type": "markdown",
   "metadata": {},
   "source": [
    "<a id=\"measures-of-dispersion-standard-deviation-and-variance\"></a>\n",
    "### Measures of Dispersion: Standard Deviation and Variance"
   ]
  },
  {
   "cell_type": "markdown",
   "metadata": {},
   "source": [
    "Standard deviation (SD, $σ$ for population standard deviation, or $s$ for sample standard deviation) is a measure that is used to quantify the amount of variation or dispersion from the mean of a set of data values. A low standard deviation means that most of the numbers are close to the average. A high standard deviation means that the numbers are spread out.\n",
    "\n",
    "Standard deviation is the square root of variance:\n",
    "\n",
    "$$variance = \\frac {\\sum{(x_i - \\bar{X})^2}} {n-1}$$\n",
    "\n",
    "$$s = \\sqrt{\\frac {\\sum{(x_i - \\bar{X})^2}} {n-1}}$$\n",
    "\n",
    "> **Standard deviation** is often used because it is in the same units as the original data! By glancing at the standard deviation, we can immediately estimate how \"typical\" a data point might be by how many standard deviations it is from the mean. Furthermore, standard deviation is the only value that makes sense to visually draw alongside the original data.\n",
    "\n",
    "> **Variance** is often used for efficiency in computations. The square root in the SD always increases with the function to which it is applied. So, removing it can simplify calculations (e.g., taking derivatives), particularly if we are using the variance for tasks such as optimization."
   ]
  },
  {
   "cell_type": "markdown",
   "metadata": {},
   "source": [
    "**That can be a lot to take in, so let's break it down in Python.**\n",
    "\n",
    "#### Assign the first 5 rows of titanic age data to a variable:"
   ]
  },
  {
   "cell_type": "code",
   "execution_count": 37,
   "metadata": {},
   "outputs": [
    {
     "data": {
      "text/html": [
       "<div>\n",
       "<style scoped>\n",
       "    .dataframe tbody tr th:only-of-type {\n",
       "        vertical-align: middle;\n",
       "    }\n",
       "\n",
       "    .dataframe tbody tr th {\n",
       "        vertical-align: top;\n",
       "    }\n",
       "\n",
       "    .dataframe thead th {\n",
       "        text-align: right;\n",
       "    }\n",
       "</style>\n",
       "<table border=\"1\" class=\"dataframe\">\n",
       "  <thead>\n",
       "    <tr style=\"text-align: right;\">\n",
       "      <th></th>\n",
       "      <th>survived</th>\n",
       "      <th>pclass</th>\n",
       "      <th>name</th>\n",
       "      <th>sex</th>\n",
       "      <th>age</th>\n",
       "      <th>sibsp</th>\n",
       "      <th>parch</th>\n",
       "      <th>ticket</th>\n",
       "      <th>fare</th>\n",
       "      <th>cabin</th>\n",
       "      <th>embarked</th>\n",
       "    </tr>\n",
       "  </thead>\n",
       "  <tbody>\n",
       "    <tr>\n",
       "      <th>0</th>\n",
       "      <td>0</td>\n",
       "      <td>3</td>\n",
       "      <td>Braund, Mr. Owen Harris</td>\n",
       "      <td>male</td>\n",
       "      <td>22.0</td>\n",
       "      <td>1</td>\n",
       "      <td>0</td>\n",
       "      <td>A/5 21171</td>\n",
       "      <td>7.2500</td>\n",
       "      <td>NaN</td>\n",
       "      <td>S</td>\n",
       "    </tr>\n",
       "    <tr>\n",
       "      <th>1</th>\n",
       "      <td>1</td>\n",
       "      <td>1</td>\n",
       "      <td>Cumings, Mrs. John Bradley (Florence Briggs Th...</td>\n",
       "      <td>female</td>\n",
       "      <td>38.0</td>\n",
       "      <td>1</td>\n",
       "      <td>0</td>\n",
       "      <td>PC 17599</td>\n",
       "      <td>71.2833</td>\n",
       "      <td>C85</td>\n",
       "      <td>C</td>\n",
       "    </tr>\n",
       "    <tr>\n",
       "      <th>2</th>\n",
       "      <td>1</td>\n",
       "      <td>3</td>\n",
       "      <td>Heikkinen, Miss. Laina</td>\n",
       "      <td>female</td>\n",
       "      <td>26.0</td>\n",
       "      <td>0</td>\n",
       "      <td>0</td>\n",
       "      <td>STON/O2. 3101282</td>\n",
       "      <td>7.9250</td>\n",
       "      <td>NaN</td>\n",
       "      <td>S</td>\n",
       "    </tr>\n",
       "    <tr>\n",
       "      <th>3</th>\n",
       "      <td>1</td>\n",
       "      <td>1</td>\n",
       "      <td>Futrelle, Mrs. Jacques Heath (Lily May Peel)</td>\n",
       "      <td>female</td>\n",
       "      <td>35.0</td>\n",
       "      <td>1</td>\n",
       "      <td>0</td>\n",
       "      <td>113803</td>\n",
       "      <td>53.1000</td>\n",
       "      <td>C123</td>\n",
       "      <td>S</td>\n",
       "    </tr>\n",
       "    <tr>\n",
       "      <th>4</th>\n",
       "      <td>0</td>\n",
       "      <td>3</td>\n",
       "      <td>Allen, Mr. William Henry</td>\n",
       "      <td>male</td>\n",
       "      <td>35.0</td>\n",
       "      <td>0</td>\n",
       "      <td>0</td>\n",
       "      <td>373450</td>\n",
       "      <td>8.0500</td>\n",
       "      <td>NaN</td>\n",
       "      <td>S</td>\n",
       "    </tr>\n",
       "  </tbody>\n",
       "</table>\n",
       "</div>"
      ],
      "text/plain": [
       "   survived  pclass                                               name  \\\n",
       "0         0       3                            Braund, Mr. Owen Harris   \n",
       "1         1       1  Cumings, Mrs. John Bradley (Florence Briggs Th...   \n",
       "2         1       3                             Heikkinen, Miss. Laina   \n",
       "3         1       1       Futrelle, Mrs. Jacques Heath (Lily May Peel)   \n",
       "4         0       3                           Allen, Mr. William Henry   \n",
       "\n",
       "      sex   age  sibsp  parch            ticket     fare cabin embarked  \n",
       "0    male  22.0      1      0         A/5 21171   7.2500   NaN        S  \n",
       "1  female  38.0      1      0          PC 17599  71.2833   C85        C  \n",
       "2  female  26.0      0      0  STON/O2. 3101282   7.9250   NaN        S  \n",
       "3  female  35.0      1      0            113803  53.1000  C123        S  \n",
       "4    male  35.0      0      0            373450   8.0500   NaN        S  "
      ]
     },
     "execution_count": 37,
     "metadata": {},
     "output_type": "execute_result"
    }
   ],
   "source": [
    "# Take the first five rows of titanic age data.\n",
    "titanic.head(5)"
   ]
  },
  {
   "cell_type": "markdown",
   "metadata": {},
   "source": [
    "#### Calculate the mean by hand:"
   ]
  },
  {
   "cell_type": "code",
   "execution_count": 39,
   "metadata": {},
   "outputs": [
    {
     "data": {
      "text/plain": [
       "31.2"
      ]
     },
     "execution_count": 39,
     "metadata": {},
     "output_type": "execute_result"
    }
   ],
   "source": [
    "# Calculate mean by hand.\n",
    "\n",
    "mean = (22 + 38 + 26 + 35 + 35) / 5\n",
    "mean"
   ]
  },
  {
   "cell_type": "markdown",
   "metadata": {},
   "source": [
    "#### Calculate the variance by hand:"
   ]
  },
  {
   "cell_type": "code",
   "execution_count": 49,
   "metadata": {},
   "outputs": [
    {
     "name": "stdout",
     "output_type": "stream",
     "text": [
      "6.833739825307955\n",
      "46.699999999999996\n"
     ]
    }
   ],
   "source": [
    "# Calculate variance by hand\n",
    "\n",
    "age = [22, 38,  26, 35, 35]\n",
    "variance = sum([(i - mean)**2 for i in age])  / (len(age) - 1)\n",
    "print(variance**.5)\n",
    "print(variance)"
   ]
  },
  {
   "cell_type": "markdown",
   "metadata": {},
   "source": [
    "#### Calculate the variance and the standard deviation using Pandas:"
   ]
  },
  {
   "cell_type": "code",
   "execution_count": 54,
   "metadata": {},
   "outputs": [
    {
     "data": {
      "text/plain": [
       "37.36"
      ]
     },
     "execution_count": 54,
     "metadata": {},
     "output_type": "execute_result"
    }
   ],
   "source": [
    "# Verify with Pandas\n",
    "titanic['age'].head(5).std()\n",
    "np.var(titanic['age'].head(5))"
   ]
  },
  {
   "cell_type": "markdown",
   "metadata": {},
   "source": [
    "<a id=\"our-first-model\"></a>\n",
    "## Our First Model\n",
    "---"
   ]
  },
  {
   "cell_type": "markdown",
   "metadata": {},
   "source": [
    "In this section, we will make a **mathematical model** of data. When we say **model**, we mean it in the same sense that a toy car is a **model** of a real car. If we mainly care about appearance, the toy car model is an excellent model. However, the toy car fails to accurately represent other aspects of the car. For example, we cannot use a toy car to test how the actual car would perform in a collision.\n",
    "\n",
    "In data science, we might take a rich, complex person and model that person solely as a two-dimensional vector: _(age, smokes cigarettes)_. For example: $(90, 1)$, $(28, 0)$, and $(52, 1)$, where $1$ indicates \"smokes cigarettes.\" This model of a complex person obviously fails to account for many things. However, if we primarily care about modeling health risk, it might provide valuable insight.\n",
    "\n",
    "Now that we have superficially modeled a complex person, we might determine a formula that evaluates risk. For example, an older person tends to have worse health, as does a person who smokes. So, we might deem someone as having risk should `age + 50*smokes > 100`. \n",
    "\n",
    "This is a **mathematical model**, as we use math to assess risk. It could be mostly accurate. However, there are surely elderly people who smoke who are in excellent health.\n",
    "\n",
    "\n",
    "---"
   ]
  },
  {
   "cell_type": "markdown",
   "metadata": {},
   "source": [
    "Let's make our first model from scratch. We'll use it predict the `fare` column in the Titanic data. So what data will we use? Actually, none."
   ]
  },
  {
   "cell_type": "markdown",
   "metadata": {},
   "source": [
    "The simplest model we can build is an estimation of the mean, median, or most common value. If we have no feature matrix and only an outcome, this is the best approach to make a prediction using only empirical data. "
   ]
  },
  {
   "cell_type": "markdown",
   "metadata": {},
   "source": [
    "This seems silly, but we'll actually use it all the time to create a baseline of how well we do with no data and determine whether or not our more sophisticated models make an improvement."
   ]
  },
  {
   "cell_type": "markdown",
   "metadata": {},
   "source": [
    "You can find out more about dummy estimators [here](http://scikit-learn.org/stable/modules/model_evaluation.html#dummy-estimators)."
   ]
  },
  {
   "cell_type": "markdown",
   "metadata": {},
   "source": [
    "#### Get the `fare` column from the Titanic data and store it in variable `y`:"
   ]
  },
  {
   "cell_type": "code",
<<<<<<< Updated upstream
   "execution_count": 55,
   "metadata": {},
   "outputs": [
    {
     "data": {
      "text/plain": [
       "0     7.2500\n",
       "1    71.2833\n",
       "2     7.9250\n",
       "3    53.1000\n",
       "4     8.0500\n",
       "Name: fare, dtype: float64"
      ]
     },
     "execution_count": 55,
     "metadata": {},
     "output_type": "execute_result"
    }
   ],
   "source": [
    "# Get the fare column from the Titanic data and store it as y:\n",
    "y = titanic['fare']\n",
    "y.head()"
=======
   "execution_count": 27,
   "metadata": {},
   "outputs": [],
   "source": [
    "# Get the fare column from the Titanic data and store it as y:\n",
    "y = titanic['fare']"
>>>>>>> Stashed changes
   ]
  },
  {
   "cell_type": "markdown",
   "metadata": {},
   "source": [
    "#### Create predictions `y_pred` (in this case just the mean of `y`):"
   ]
  },
  {
   "cell_type": "code",
<<<<<<< Updated upstream
   "execution_count": 56,
=======
   "execution_count": 33,
>>>>>>> Stashed changes
   "metadata": {},
   "outputs": [],
   "source": [
    "# Stored predictions in y_pred:\n",
    "y_pred = y.mean()"
   ]
  },
  {
   "cell_type": "markdown",
   "metadata": {},
   "source": [
    "#### Find the average squared distance between each prediction and its actual value:\n",
    "\n",
    "This is known as the mean squared error (MSE)."
   ]
  },
  {
   "cell_type": "code",
<<<<<<< Updated upstream
   "execution_count": 60,
=======
   "execution_count": 35,
>>>>>>> Stashed changes
   "metadata": {},
   "outputs": [
    {
     "data": {
      "text/plain": [
       "2466.6653116850434"
      ]
     },
<<<<<<< Updated upstream
     "execution_count": 60,
=======
     "execution_count": 35,
>>>>>>> Stashed changes
     "metadata": {},
     "output_type": "execute_result"
    }
   ],
   "source": [
    "# Squared error is hard to read; let's look at mean squared error:\n",
<<<<<<< Updated upstream
    "\n",
=======
>>>>>>> Stashed changes
    "np.mean(np.square(y - y_pred))"
   ]
  },
  {
   "cell_type": "markdown",
   "metadata": {},
   "source": [
    "#### Calculate the root mean squared error (RMSE), the square root of the MSE:"
   ]
  },
  {
   "cell_type": "code",
<<<<<<< Updated upstream
   "execution_count": 61,
=======
   "execution_count": 36,
>>>>>>> Stashed changes
   "metadata": {},
   "outputs": [
    {
     "data": {
      "text/plain": [
       "49.66553444477411"
      ]
     },
<<<<<<< Updated upstream
     "execution_count": 61,
=======
     "execution_count": 36,
>>>>>>> Stashed changes
     "metadata": {},
     "output_type": "execute_result"
    }
   ],
   "source": [
    "np.sqrt(np.mean(np.square(y - y_pred)))"
   ]
  },
  {
   "cell_type": "markdown",
   "metadata": {},
   "source": [
    "<a id=\"a-short-introduction-to-model-bias-and-variance\"></a>\n",
    "## A Short Introduction to Model Bias and Variance \n",
    "\n",
    "---\n",
    "\n",
    "- **Objective:** Describe the bias and variance of statistical estimators."
   ]
  },
  {
   "cell_type": "markdown",
   "metadata": {},
   "source": [
    "In simple terms, **bias** shows how accurate a model is in its predictions. (It has **low bias** if it hits the bullseye!)\n",
    "\n",
    "**Variance** shows how reliable a model is in its performance. (It has **low variance** if the points are predicted consistently!)\n",
    "\n",
    "These characteristics have important interactions, but we will save that for later.\n",
    "\n",
    "![Bias and Variance](assets/images/biasVsVarianceImage.png)"
   ]
  },
  {
   "cell_type": "markdown",
   "metadata": {},
   "source": [
    "Remember how we just calculated mean squared error to determine the accuracy of our prediction? It turns out we can do this for any statistical estimator, including mean, variance, and machine learning models."
   ]
  },
  {
   "cell_type": "markdown",
   "metadata": {},
   "source": [
    "We can even decompose mean squared error to identify where the source of error comes from."
   ]
  },
  {
   "cell_type": "markdown",
   "metadata": {},
   "source": [
    "<a id=\"bias-variance-decomposition\"></a>\n",
    "### Bias-Variance Decomposition"
   ]
  },
  {
   "cell_type": "markdown",
   "metadata": {},
   "source": [
    "In the following notation, $f$ refers to a perfect model, while $\\hat{f}$ refers to our model.\n",
    "\n",
    "**Bias**\n",
    "\n",
    "Error caused by bias is calculated as the difference between the expected prediction of our model and the correct value we are trying to predict:\n",
    "\n",
    "$$Bias = E[\\hat{f}(x)] - f(x)$$\n",
    "\n",
    "**Variance**\n",
    "\n",
    "Error caused by variance is taken as the variability of a model prediction for a given point:\n",
    "\n",
    "$$Variance = E[(\\hat{f}(x) - E[\\hat{f}(x)])^2]$$\n",
    "\n",
    "**Mean Squared Error**\n",
    "$$MSE(\\hat{f}(x)) = Var(\\hat{f}(x)) + Bias(\\hat{f}(x),f(x))^2$$"
   ]
  },
  {
   "cell_type": "markdown",
   "metadata": {},
   "source": [
    "> The MSE is actually composed of three sources of error: The **variance**, **bias**, and some **irreducible error** that the model can never render given the available features.\n",
    "\n",
    "This topic will come up again, but for now it's enough to know that we can decompose MSE into the bias of the estimator and the variance of the estimator."
   ]
  },
  {
   "cell_type": "markdown",
   "metadata": {},
   "source": [
    "<a id=\"example-using-bessels-correction\"></a>\n",
    "### Example Using Bessel's Correction"
   ]
  },
  {
   "cell_type": "markdown",
   "metadata": {},
   "source": [
    "It's rarely practical to measure every single item in a population to gather a statistic. We will usually sample a few items and use those to infer a population value.\n",
    "\n",
    "For example, we can take a class of 200 students and measure their height, but rather than measuring everyone, we select students at random to estimate the average height in the class and the variance of the height in the class.\n",
    "\n",
    "We know we can take the mean as follows:\n",
    "\n",
    "$$E[X] = \\bar{X} =\\frac 1n\\sum_{i=1}^nx_i$$\n",
    "\n",
    "What about the variance?\n",
    "\n",
    "Intuitively and by definition, population variance looks like this (the average distance from the mean):\n",
    "\n",
    "$$\\frac {\\sum{(x_i - \\bar{X})^2}} {n}$$\n",
    "\n",
    "It's actually better to use the following for a sample (why?):\n",
    "\n",
    "$$\\frac {\\sum{(x_i - \\bar{X})^2}} {n-1}$$\n",
    "\n",
    "In some cases, we may even use:\n",
    "\n",
    "$$\\frac {\\sum{(x_i - \\bar{X})^2}} {n+1}$$\n",
    "\n",
    "Detailed explanations can be found here:\n",
    "\n",
    "- [Bessel correction](https://en.wikipedia.org/wiki/Bessel%27s_correction).\n",
    "- [Mean Squared Error](https://en.wikipedia.org/wiki/Mean_squared_error)."
   ]
  },
  {
   "cell_type": "markdown",
   "metadata": {},
   "source": [
    "Let's walk through an example of computing the variance by hand.\n",
    "\n",
    "Suppose we have the following data:\n",
    "\n",
    "$$X = [1, 2, 3, 4, 4, 10]$$\n",
    "\n",
    "First, we compute its mean: \n",
    "\n",
    "$$\\bar{X} = (1/6)(1 + 2 + 3 + 4 + 4 + 10) = 4$$\n",
    "\n",
    "Because this is a sample of data rather than the full population, we'll use the second formula. Let's first \"mean center\" the data:\n",
    "\n",
    "$$X_{centered} = X - \\bar{X} = [-3, -2, -1, 0, 0, 6]$$\n",
    "\n",
    "Now, we'll simply find the average squared distance of each point from the mean:\n",
    "\n",
    "$$variance = \\frac {\\sum{(x_i - \\bar{X})^2}} {n-1} = \\frac {(-3)^2 + (-2)^2 + (-1)^2 + 0^2 + 0^2 + 6^2}{6-1} = \\frac{14 + 36}{5} = 10$$\n",
    "\n",
    "So, the **variance of $X$** is $10$. However, we cannot compare this directly to the original units, because it is in the original units squared. So, we will use the **standard deviation of $X$**, $\\sqrt{10} \\approx 3.16$ to see that the value of $10$ is farther than one standard deviation from the mean of $4$. So, we can conclude it is somewhat far from most of the points (more on what it really might mean later).\n",
    "\n",
    "---\n",
    "\n",
    "A variance of $0$ means there is no spread. If we instead take $X = [1, 1, 1, 1]$, then clearly the mean $\\bar{X} = 1$. So, $X_{centered} = [0, 0, 0, 0]$, which directly leads to a variance of $0$. (Make sure you understand why! Remember that variance is the average squared distance of each point from the mean.)"
   ]
  },
  {
   "cell_type": "code",
<<<<<<< Updated upstream
   "execution_count": 62,
=======
   "execution_count": 37,
>>>>>>> Stashed changes
   "metadata": {},
   "outputs": [],
   "source": [
    "heights = np.random.rand(200) + 6.5"
   ]
  },
  {
   "cell_type": "code",
<<<<<<< Updated upstream
   "execution_count": 63,
=======
   "execution_count": 38,
>>>>>>> Stashed changes
   "metadata": {},
   "outputs": [],
   "source": [
    "def plot_means(sample_size):\n",
    "    true_mean = np.mean(heights)\n",
    "    \n",
    "    mean_heights = []\n",
    "    for n in range(5,sample_size):\n",
    "        for j in range(30):\n",
    "            mean_height = np.mean(np.random.choice(heights, n, replace=False))\n",
    "            mean_heights.append((n, mean_height))\n",
    "    \n",
    "    sample_height = pd.DataFrame(mean_heights, columns=['sample_size', 'height'])\n",
    "    sample_height.plot.scatter(x='sample_size', y='height', figsize=(14, 4), alpha=0.5)\n",
    "    \n",
    "    plt.axhline(y=true_mean, c='r')\n",
    "    plt.title(\"The Bias and Variance of the Mean Estimator\")\n",
    "    plt.show()"
   ]
  },
  {
   "cell_type": "code",
<<<<<<< Updated upstream
   "execution_count": 64,
=======
   "execution_count": 39,
>>>>>>> Stashed changes
   "metadata": {},
   "outputs": [],
   "source": [
    "def plot_variances(sample_size):\n",
    "    true_variance = np.var(heights)\n",
    "    \n",
    "    var_heights = []\n",
    "    for n in range(5,sample_size):\n",
    "        for j in range(30):\n",
    "            var_height1 = np.var(np.random.choice(heights, n, replace=False), ddof=0)\n",
    "            var_height2 = np.var(np.random.choice(heights, n, replace=False), ddof=1)\n",
    "            var_height3 = np.var(np.random.choice(heights, n, replace=False), ddof=-1)\n",
    "            var_heights.append((n, var_height1, var_height2, var_height3))\n",
    "    \n",
    "    sample_var = pd.DataFrame(var_heights, columns=['sample_size', 'variance1', 'variance2', 'variance3'])\n",
    "    sample_var.plot.scatter(x='sample_size', y='variance1', figsize=(14, 3), alpha=0.5)\n",
    "    plt.axhline(y=true_variance, c='r')\n",
    "    plt.title(\"The Bias and Variance of the Population Variance Estimator (n)\")\n",
    "    \n",
    "    sample_var.plot.scatter(x='sample_size', y='variance3', figsize=(14, 3), alpha=0.5)\n",
    "    plt.axhline(y=true_variance, c='r')\n",
    "    plt.title(\"The Bias and Variance of the Biased Sample Variance Estimator (n+1)\")\n",
    "    \n",
    "    sample_var.plot.scatter(x='sample_size', y='variance2', figsize=(14, 3), alpha=0.5)\n",
    "    plt.axhline(y=true_variance, c='r')\n",
    "    plt.title(\"The Bias and Variance of the Sample Variance Estimator (n-1)\")\n",
    "    plt.show()"
   ]
  },
  {
   "cell_type": "code",
<<<<<<< Updated upstream
   "execution_count": 65,
=======
   "execution_count": 40,
>>>>>>> Stashed changes
   "metadata": {},
   "outputs": [
    {
     "data": {
      "application/vnd.jupyter.widget-view+json": {
<<<<<<< Updated upstream
       "model_id": "65c8dfa7f7ac45fc859fc42df22a18f0",
=======
       "model_id": "6bb65e651fb74d8688c9e7013ae9ec4d",
>>>>>>> Stashed changes
       "version_major": 2,
       "version_minor": 0
      },
      "text/plain": [
       "interactive(children=(IntSlider(value=102, description='sample_size', max=200, min=5), Output()), _dom_classes…"
      ]
     },
     "metadata": {},
     "output_type": "display_data"
    }
   ],
   "source": [
    "interact(plot_means, sample_size=(5,200));"
   ]
  },
  {
   "cell_type": "markdown",
   "metadata": {},
   "source": [
    "- The red line in the chart above is the true average height, but because we don't want to ask 200 people about their height, we take a samples.\n",
    "\n",
    "- The blue dots show the estimate of the average height after taking a sample. To give us an idea of how sampling works, we simulate taking multiple samples.\n",
    "\n",
    "- The $X$ axis shows the sample size we take, while the blue dots show the likely average heights we'll conclude for a given sample size.\n",
    "\n",
    "- Even though the true average height is around 7 feet, a small sample may lead us to think that it's actually 6.7 or 7.3 feet. \n",
    "\n",
    "- Notice that the red line is in the center of our estimates. On average, we are correct and have no bias.\n",
    "\n",
    "- If we take a larger sample size, we get a better estimate. This means that the variance of our estimate gets smaller with larger samples sizes."
   ]
  },
  {
   "cell_type": "code",
<<<<<<< Updated upstream
   "execution_count": 66,
=======
   "execution_count": 41,
>>>>>>> Stashed changes
   "metadata": {},
   "outputs": [
    {
     "data": {
      "application/vnd.jupyter.widget-view+json": {
<<<<<<< Updated upstream
       "model_id": "edff2a07460f496fbde89f814584dfb5",
=======
       "model_id": "7b7e9357da0b48eaabb76f8df573cdd5",
>>>>>>> Stashed changes
       "version_major": 2,
       "version_minor": 0
      },
      "text/plain": [
       "interactive(children=(IntSlider(value=102, description='sample_size', max=200, min=5), Output()), _dom_classes…"
      ]
     },
     "metadata": {},
     "output_type": "display_data"
    }
   ],
   "source": [
    "interact(plot_variances, sample_size=(5,200));"
   ]
  },
  {
   "cell_type": "markdown",
   "metadata": {},
   "source": [
    "- Not all estimators are created equal.\n",
    "\n",
    "- The red lines in the charts above show the true variance of height.\n",
    "\n",
    "- The top graph is the population variance estimator, while the bottom graph is the sample variance estimator.\n",
    "\n",
    "- It's subtle, but notice that the population variance estimator is not centered on the red line. It's actually biased and consistently underestimates the true variance, especially at low sample sizes.\n",
    "\n",
    "- You may also notice that the scatter of the population variance estimator is smaller. That means the variance of the population variance estimator is smaller. Essentially, it's the variability of the estimator. \n",
    "\n",
    "- Play around with the sliders to get a good view of the graphs."
   ]
  },
  {
   "cell_type": "markdown",
   "metadata": {},
   "source": [
    "<a id=\"correlation-and-association\"></a>\n",
    "## Correlation and Association\n",
    "---\n",
    "\n",
    "- **Objective:** Describe characteristics and trends in a data set using visualizations.\n",
    "\n",
    "Correlation measures how variables related to each other.\n",
    "\n",
    "Typically, we talk about the Pearson correlation coefficient — a measure of **linear** association.\n",
    "\n",
    "We refer to perfect correlation as **colinearity**.\n",
    "\n",
    "The following are a few correlation coefficients. Note that if both variables trend upward, the coefficient is positive. If one trends opposite the other, it is negative. \n",
    "\n",
    "It is important that you always look at your data visually — the coefficient by itself can be misleading:"
   ]
  },
  {
   "cell_type": "markdown",
   "metadata": {},
   "source": [
    "![Example correlation values](./assets/images/correlation_examples.png)"
   ]
  },
  {
   "cell_type": "markdown",
   "metadata": {},
   "source": [
    "<a id=\"codealong-correlation-in-pandas\"></a>\n",
    "### Code-Along: Correlation in Pandas\n",
    "\n",
    "**Objective:** Explore options for measuring and visualizing correlation in Pandas."
   ]
  },
  {
   "cell_type": "markdown",
   "metadata": {},
   "source": [
    "#### Display the correlation matrix for all Titanic variables:"
   ]
  },
  {
   "cell_type": "code",
<<<<<<< Updated upstream
   "execution_count": 67,
=======
   "execution_count": 47,
>>>>>>> Stashed changes
   "metadata": {},
   "outputs": [
    {
     "data": {
      "text/html": [
       "<div>\n",
       "<style scoped>\n",
       "    .dataframe tbody tr th:only-of-type {\n",
       "        vertical-align: middle;\n",
       "    }\n",
       "\n",
       "    .dataframe tbody tr th {\n",
       "        vertical-align: top;\n",
       "    }\n",
       "\n",
       "    .dataframe thead th {\n",
       "        text-align: right;\n",
       "    }\n",
       "</style>\n",
       "<table border=\"1\" class=\"dataframe\">\n",
       "  <thead>\n",
       "    <tr style=\"text-align: right;\">\n",
       "      <th></th>\n",
       "      <th>survived</th>\n",
       "      <th>pclass</th>\n",
       "      <th>age</th>\n",
       "      <th>sibsp</th>\n",
       "      <th>parch</th>\n",
       "      <th>fare</th>\n",
       "    </tr>\n",
       "  </thead>\n",
       "  <tbody>\n",
       "    <tr>\n",
       "      <th>survived</th>\n",
       "      <td>1.000000</td>\n",
       "      <td>-0.338481</td>\n",
       "      <td>-0.077221</td>\n",
       "      <td>-0.035322</td>\n",
       "      <td>0.081629</td>\n",
       "      <td>0.257307</td>\n",
       "    </tr>\n",
       "    <tr>\n",
       "      <th>pclass</th>\n",
       "      <td>-0.338481</td>\n",
       "      <td>1.000000</td>\n",
       "      <td>-0.369226</td>\n",
       "      <td>0.083081</td>\n",
       "      <td>0.018443</td>\n",
       "      <td>-0.549500</td>\n",
       "    </tr>\n",
       "    <tr>\n",
       "      <th>age</th>\n",
       "      <td>-0.077221</td>\n",
       "      <td>-0.369226</td>\n",
       "      <td>1.000000</td>\n",
       "      <td>-0.308247</td>\n",
       "      <td>-0.189119</td>\n",
       "      <td>0.096067</td>\n",
       "    </tr>\n",
       "    <tr>\n",
       "      <th>sibsp</th>\n",
       "      <td>-0.035322</td>\n",
       "      <td>0.083081</td>\n",
       "      <td>-0.308247</td>\n",
       "      <td>1.000000</td>\n",
       "      <td>0.414838</td>\n",
       "      <td>0.159651</td>\n",
       "    </tr>\n",
       "    <tr>\n",
       "      <th>parch</th>\n",
       "      <td>0.081629</td>\n",
       "      <td>0.018443</td>\n",
       "      <td>-0.189119</td>\n",
       "      <td>0.414838</td>\n",
       "      <td>1.000000</td>\n",
       "      <td>0.216225</td>\n",
       "    </tr>\n",
       "    <tr>\n",
       "      <th>fare</th>\n",
       "      <td>0.257307</td>\n",
       "      <td>-0.549500</td>\n",
       "      <td>0.096067</td>\n",
       "      <td>0.159651</td>\n",
       "      <td>0.216225</td>\n",
       "      <td>1.000000</td>\n",
       "    </tr>\n",
       "  </tbody>\n",
       "</table>\n",
       "</div>"
      ],
      "text/plain": [
       "          survived    pclass       age     sibsp     parch      fare\n",
       "survived  1.000000 -0.338481 -0.077221 -0.035322  0.081629  0.257307\n",
       "pclass   -0.338481  1.000000 -0.369226  0.083081  0.018443 -0.549500\n",
       "age      -0.077221 -0.369226  1.000000 -0.308247 -0.189119  0.096067\n",
       "sibsp    -0.035322  0.083081 -0.308247  1.000000  0.414838  0.159651\n",
       "parch     0.081629  0.018443 -0.189119  0.414838  1.000000  0.216225\n",
       "fare      0.257307 -0.549500  0.096067  0.159651  0.216225  1.000000"
      ]
     },
<<<<<<< Updated upstream
     "execution_count": 67,
=======
     "execution_count": 47,
>>>>>>> Stashed changes
     "metadata": {},
     "output_type": "execute_result"
    }
   ],
   "source": [
    "# A:\n",
    "\n",
<<<<<<< Updated upstream
    "titanic.corr()"
=======
    "import matplotlib.pyplot as plt\n",
    "titanic.corr()\n",
    "#plt.matshow(titanic.corr())\n",
    "#plt.show()\n"
>>>>>>> Stashed changes
   ]
  },
  {
   "cell_type": "markdown",
   "metadata": {},
   "source": [
    "#### Use Seaborn to plot a heat map of the correlation matrix:\n",
    "\n",
    "The `sns.heatmap()` function will accomplish this.\n",
    "\n",
    "- Generate a correlation matrix from the Titanic data using the `.corr()` method.\n",
    "- Pass the correlation matrix into `sns.heatmap()` as its only parameter."
   ]
  },
  {
   "cell_type": "code",
<<<<<<< Updated upstream
   "execution_count": 68,
=======
   "execution_count": 45,
>>>>>>> Stashed changes
   "metadata": {},
   "outputs": [
    {
     "data": {
<<<<<<< Updated upstream
      "text/plain": [
       "<matplotlib.axes._subplots.AxesSubplot at 0x12c586828>"
      ]
     },
     "execution_count": 68,
     "metadata": {},
     "output_type": "execute_result"
    },
    {
     "data": {
      "image/png": "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\n",
=======
      "image/png": "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\n",
>>>>>>> Stashed changes
      "text/plain": [
       "<Figure size 432x288 with 2 Axes>"
      ]
     },
<<<<<<< Updated upstream
     "metadata": {
      "needs_background": "light"
     },
=======
     "metadata": {},
>>>>>>> Stashed changes
     "output_type": "display_data"
    }
   ],
   "source": [
    "# Use Seaborn to plot a correlation heat map\n",
<<<<<<< Updated upstream
    "\n",
    "sns.heatmap(titanic.corr())"
=======
    "import seaborn as sns; sns.set(style=\"ticks\", color_codes=True)\n",
    "\n",
    "g = sns.heatmap(titanic.corr())"
>>>>>>> Stashed changes
   ]
  },
  {
   "cell_type": "code",
   "execution_count": 70,
   "metadata": {},
   "outputs": [
    {
     "data": {
      "text/plain": [
       "<matplotlib.axes._subplots.AxesSubplot at 0x12caac8d0>"
      ]
     },
     "execution_count": 70,
     "metadata": {},
     "output_type": "execute_result"
    },
    {
     "data": {
      "image/png": "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\n",
      "text/plain": [
       "<Figure size 432x288 with 1 Axes>"
      ]
     },
     "metadata": {
      "needs_background": "light"
     },
     "output_type": "display_data"
    }
   ],
   "source": [
    "# Take a closer look at the survived and fare variables using a scatter plot\n",
    "titanic.plot(kind='scatter', x='fare', y='survived', alpha=.1)\n",
    "# Is correlation a good way to inspect the association of fare and survival?"
   ]
  },
  {
   "cell_type": "markdown",
   "metadata": {},
   "source": [
    "<a id=\"the-normal-distribution\"></a>\n",
    "## The Normal Distribution\n",
    "---\n",
    "\n",
    "- **Objective:** Identify a normal distribution within a data set using summary statistics and data visualizations."
   ]
  },
  {
   "cell_type": "markdown",
   "metadata": {},
   "source": [
    "###  Math Review\n",
    "- What is an event space?\n",
    "  - A listing of all possible occurrences.\n",
    "- What is a probability distribution?\n",
    "  - A function that describes how events occur in an event space.\n",
    "- What are general properties of probability distributions?\n",
    "  - All probabilities of an event are between 0 and 1.\n",
    "  - The probability that something occurs is almost certain, or 1.\n",
    "  "
   ]
  },
  {
   "cell_type": "markdown",
   "metadata": {},
   "source": [
    "<a id=\"what-is-the-normal-distribution\"></a>\n",
    "### What is the Normal Distribution?\n",
    "- A normal distribution is often a key assumption to many models.\n",
    "  - In practice, if the normal distribution assumption is not met, it's not the end of the world. Your model is just less efficient in most cases.\n",
    "\n",
    "- The normal distribution depends on the mean and the standard deviation.\n",
    "\n",
    "- The mean determines the center of the distribution. The standard deviation determines the height and width of the distribution.\n",
    "\n",
    "- Normal distributions are symmetric, bell-shaped curves.\n",
    "\n",
    "- When the standard deviation is large, the curve is short and wide.\n",
    "\n",
    "- When the standard deviation is small, the curve is tall and narrow.\n",
    "\n",
    "![normal distribution](assets/images/normal.png)\n"
   ]
  },
  {
   "cell_type": "markdown",
   "metadata": {},
   "source": [
    "#### Why do we care about normal distributions?\n",
    "\n",
    "- They often show up in nature.\n",
    "- Aggregated processes tend to distribute normally, regardless of their underlying distribution — provided that the processes are uncorrelated or weakly correlated (central limit theorem).\n",
    "- They offer effective simplification that makes it easy to make approximations."
   ]
  },
  {
   "cell_type": "markdown",
   "metadata": {},
   "source": [
    "#### Plot a histogram of 1,000 samples from a random normal distribution:\n",
    "\n",
    "The `np.random.randn(numsamples)` function will draw from a random normal distribution with a mean of 0 and a standard deviation of 1.\n",
    "\n",
    "- To plot a histogram, pass a NumPy array with 1000 samples as the only parameter to `plt.hist()`.\n",
    "- Change the number of bins using the keyword argument `bins`, e.g. `plt.hist(mydata, bins=50)`"
   ]
  },
  {
   "cell_type": "code",
   "execution_count": 73,
   "metadata": {},
   "outputs": [
    {
     "data": {
      "image/png": "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\n",
      "text/plain": [
       "<Figure size 432x288 with 1 Axes>"
      ]
     },
     "metadata": {
      "needs_background": "light"
     },
     "output_type": "display_data"
    }
   ],
   "source": [
    "# Plot a histogram of several random normal samples from NumPy.\n",
    "\n",
    "plt.hist(np.random.randn(1000), bins=50);"
   ]
  },
  {
   "cell_type": "markdown",
   "metadata": {},
   "source": [
    "<a id=\"skewness\"></a>\n",
    "###  Skewness\n",
    "- Skewness is a measure of the asymmetry of the distribution of a random variable about its mean.\n",
    "- Skewness can be positive or negative, or even undefined.\n",
    "- Notice that the mean, median, and mode are the same when there is no skew.\n",
    "\n",
    "![skewness](assets/images/skewness---mean-median-mode.jpg)"
   ]
  },
  {
   "cell_type": "markdown",
   "metadata": {},
   "source": [
    "#### Plot a lognormal distribution generated with NumPy.\n",
    "\n",
    "Take 1,000 samples using `np.random.lognormal(size=numsamples)` and plot them on a histogram."
   ]
  },
  {
   "cell_type": "code",
   "execution_count": 75,
   "metadata": {},
   "outputs": [
    {
     "data": {
      "image/png": "iVBORw0KGgoAAAANSUhEUgAAAZYAAAD1CAYAAABz79PWAAAABHNCSVQICAgIfAhkiAAAAAlwSFlzAAALEgAACxIB0t1+/AAAADl0RVh0U29mdHdhcmUAbWF0cGxvdGxpYiB2ZXJzaW9uIDMuMC4zLCBodHRwOi8vbWF0cGxvdGxpYi5vcmcvnQurowAADNZJREFUeJzt3V+MpXV9x/H3x10IUu0MUGsISwMtYw0hFZNCIHBB19JSJcIFMRrbbA1Jb2yCqaYFb1qbGiVNpF54J+BeWIWgFEJqLFnX0E0qIoLlz7Y5lGjrhrIXsqOGhAb77cU8u47ThZmd+c7Meea8X8nmPM9znvPM73c4w/uc85yzm6pCkqQub9juAUiSdhbDIklqZVgkSa0MiySplWGRJLXavVkHXlxc9ONmkrTDzc3NZeU2X7FIkloZFklSq6kPy2Qy2e4hbCvn7/xnmfMf5/ynPiySpHExLJKkVoZFktTKsEiSWhkWSVIrwyJJamVYJEmtDIskqZVhkSS1MiySpFaGRZLUyrBIkloZFklSK8MiSWplWCRJrQyLJKmVYZEktTIskqRWhkWS1MqwSJJaGRZJUivDIklqZVgkSa0MiySplWGRJLUyLJKkVoZFktTKsEiSWhkWSVIrwyJJamVYJEmt1hyWJLuSPJHkoWH9wiSPJnkuyT1JTt+8YUqSxuJUXrHcAhxetn47cEdVXQS8BNzcOTBJ0jitKSxJ9gDvAT4/rAfYC9w37LIfuHEzBihJGpdU1eo7JfcBnwLeDHwM+GPgW8OrFZKcD3ytqi45fpvFxcUTB55MJr2jliRtm4WFhRPLc3NzWXn97tUOkOR64GhVPZ7kmo0O4lRNJpMN3X7snL/zd/7Of2xWDQtwFfDeJO8GzgB+GfgsMJ9kd1W9CuwBjmzeMCVJY7HqOZaquq2q9lTVBcD7gW9U1QeBg8BNw277gAc2bZSSpNHYyPdY/gL4syTPAecAd/YMSZI0Zmt5K+yEqvom8M1h+Xng8v4hndz83Uc49qHzturHSZLWyW/eS5JaGRZJUivDIklqZVgkSa0MiySplWGRJLUyLJKkVoZFktTKsEiSWhkWSVIrwyJJamVYJEmtDIskqZVhkSS1MiySpFaGRZLUyrBIkloZFklSK8MiSWplWCRJrQyLJKmVYZEktTIskqRWhkWS1MqwSJJaGRZJUivDIklqZVgkSa0MiySplWGRJLUaXVjm7z6y3UOQJL2O0YVFkjTdDIskqZVhkSS1MiySpFaGRZLUatWwJDkjybeTfC/JM0k+MWy/MMmjSZ5Lck+S0zd/uJKkabeWVyyvAHur6h3ApcB1Sa4AbgfuqKqLgJeAmzdvmJKksVg1LLXkp8PqacOfAvYC9w3b9wM3bsoIJUmjkqpafadkF/A4cBHwOeBvgW8Nr1ZIcj7wtaq65PhtFhcXTxx4MplseKCXHTrzxPJjV7+84eNJktZnYWHhxPLc3FxWXr97LQepqp8BlyaZB+4H3r7eQZyqyWSydPtDP//G/UaONzYn5j+jnL/zd/7jm/8pfSqsqo4BB4Ergfkkx8O0B/DvWpEkrelTYW8ZXqmQ5I3AtcBhlgJz07DbPuCBzRqkJGk81vJW2LnA/uE8yxuAe6vqoSTPAl9O8jfAE8CdmzhOSdJIrBqWqvpX4J0n2f48cPlmDEqSNF5+816S1MqwSJJaGRZJUqtRhOVk/2qk/5KkJE2nUYRFkjQehkWS1MqwSJJaGRZJUqtRh8UT+JI0fUYdFknS9DEskqRWhkWS1MqwSJJaGRZJUivDIklqZVgkSa0MiySp1ejD4pckJWm6jD4skqTpYlgkSa0MiySplWGRJLUyLJKkVoZFktTKsEiSWhkWSVKrUYbFL0VK0vQaZVgkSdPLsEiSWhkWSVIrwyJJamVYJEmtDIskqZVhkSS1MiySpFaGRZLUatWwJDk/ycEkzyZ5Jsktw/azkzycZDJcnrX5w5UkTbu1vGJ5FfhoVV0MXAF8OMnFwK3AgapaAA4M65KkGbdqWKrqhar67rD8E+AwcB5wA7B/2G0/cONmDVKSNB6pqrXvnFwAPAJcAvxnVc0P2wO8dHwdYHFx8cSBJ5PJhgZ52aEzX/f6x65+eUPHlySt3cLCwonlubm5rLx+91oPlORNwFeAj1TVj5dasqSqKslrFmr5IE7VWqK0keNPu8lksqPntxrn7/yd//jmv6ZPhSU5jaWofLGqvjpsfjHJucP15wJHN2eIkqQxWcunwgLcCRyuqs8su+pBYN+wvA94oH94kqSxWctbYVcBfwQ8leTJYdvHgU8D9ya5GfgB8L7NGaIkaUxWDUtVHQL+38mZwbt6hyNJGju/eS9JamVYJEmtDIskqZVhkSS1MiySpFaGRZLUyrBIkloZFklSK8MiSWplWCRJrQyLJKmVYZEktTIskqRWhkWS1MqwSJJaGRZJUivDIklqNfVhuezQmds9BEnSKZj6sEiSxsWwSJJaGRZJUivDIklqZVgkSa0MiySplWGRJLUyLJKkVoZFktTKsEiSWhkWSVIrwyJJamVYJEmtDIskqZVhkSS1MiySpFaGRZLUakeEZf7uI9s9BEnSYNWwJLkrydEkTy/bdnaSh5NMhsuzNneYkqSxWMsrli8A163YditwoKoWgAPDuiRJq4elqh4BfrRi8w3A/mF5P3Bj87gkSSOVqlp9p+QC4KGqumRYP1ZV88NygJeOrx+3uLh44sCTyWTdA7zs0Jlr3vexq1/+hdstX5ck9VhYWDixPDc3l5XX797oD6iqSvK6dVo+iFN2aO0n5n/h5xw6srGfOyUmk8mOmMd6OX/n7/zHN//1firsxSTnAgyXR/uGJEkas/WG5UFg37C8D3igZziSpLFby8eNvwT8C/CbSX6Y5Gbg08C1SSbA7w7rkiStfo6lqj7wGle9q3ksGzZ/9xGOfeg8vzApSdtoR3zzXpI0PQyLJKmVYZEktdrxYfF8iyRtrR0fFknS1jIskqRWhkWS1MqwSJJa7biweLJekrbXjguLJGl7GRZJUivDIklqNRNh8byLJG2dmQiLJGnrGBZJUivDIklqZVgkSa1mJizzdx/xJL4kbYGZCYskaWsYFklSK8MiSWplWCRJrQyLJKmVYZEktTIskqRWhkWS1GpHh+W1vhB5fPvKy40eV5K0w8MiSdp6hkWS1MqwSJJazVxY1nJ+ZPk+q+3ffb7F8zeSxm7mwiJJ2lyGRZLUyrBIkloZFklSq5kNy8qT5Mf/hcmTnbhf6xcpl+/3evue7PpT+Rcut/sE/3b/fEnTbUNhSXJdkn9P8lySW7sGJUkar3WHJcku4HPAHwAXAx9IcnHXwCRJ45SqWt8NkyuBv6qq3x/WbwOoqk8BLC4uru/AkqTRmJuby8ptG3kr7Dzgv5at/3DYJkmaYTN78l6StDl2b+C2R4Dzl63vGbYBJ395JEna+TbyiuUxYCHJhUlOB94PPNgzLEnSWK07LFX1KvCnwNeBw8C9VfVM18Bg9j7OnOSuJEeTPL1s29lJHk4yGS7P2s4xbqYk5yc5mOTZJM8kuWXYPhP3QZIzknw7yfeG+X9i2H5hkkeH34N7hidyO1aSXUmeSPLQsD4z80/y/SRPJXkyyXeGbaN7/G/oHEtV/WNVva2qfqOqPtk1KJjZjzN/AbhuxbZbgQNVtQAcGNZ3qleBj1bVxcAVwIeH/+azch+8AuytqncAlwLXJbkCuB24o6ouAl4Cbt7GMW6FW1h6snrcrM3/d6rq0qr67WF9dI//aT55fznwXFU9X1X/A3wZuGGbx7SpquoR4EcrNt8A7B+W9wM3bumgtlBVvVBV3x2Wf8LS/1zOY0bug1ry02H1tOFPAXuB+4btO3b+AEn2AO8BPj+shxma/2sY3eN/msPix5mXvLWqXhiW/xt463YOZqskuQB4J/AoM3QfDG8DPQkcBR4G/gM4Nrz1DDv/9+DvgD8H/ndYP4fZmn8B/5Tk8SR/Mmwb3eN/I58K0xarqkqy4794muRNwFeAj1TVj5eetC7Z6fdBVf0MuDTJPHA/8PZtHtKWSXI9cLSqHk9yzXaPZ5tcXVVHkvwq8HCSf1t+5Vge/9P8iuV1P848Q15Mci7AcHl0m8ezqZKcxlJUvlhVXx02z9R9AFBVx4CDwJXAfJLjTwJ38u/BVcB7k3yfpbe+9wKfZXbmT1UdGS6PsvTE4nJG+Pif5rD4ceYlDwL7huV9wAPbOJZNNbyffidwuKo+s+yqmbgPkrxleKVCkjcC17J0nukgcNOw246df1XdVlV7quoCln7fv1FVH2RG5p/kl5K8+fgy8HvA04zw8b/uvytsKyR5N0vvue4C7ur+5Nm0SfIl4BrgV4AXgb8E/gG4F/g14AfA+6pq5Qn+HSHJ1cA/A0/x8/fYP87SeZYdfx8k+S2WTs7uYulJ371V9ddJfp2lZ/BnA08Af1hVr2zfSDff8FbYx6rq+lmZ/zDP+4fV3cDfV9Unk5zDyB7/Ux0WSdL4TPNbYZKkETIskqRWhkWS1MqwSJJaGRZJUivDIklqZVgkSa0MiySp1f8B9fxSm+0vTVIAAAAASUVORK5CYII=\n",
      "text/plain": [
       "<Figure size 432x288 with 1 Axes>"
      ]
     },
     "metadata": {
      "needs_background": "light"
     },
     "output_type": "display_data"
    }
   ],
   "source": [
    "# Plot a lognormal distribution generated with NumPy\n",
    "\n",
    "plt.hist(np.random.lognormal(size=1000), bins=1000);"
   ]
  },
  {
   "cell_type": "markdown",
   "metadata": {},
   "source": [
    "#####  Real World Application - When mindfullness beats complexity\n",
    "- Skewness is surprisingly important.\n",
    "- Most algorithms implicitly use the mean by default when making approximations.\n",
    "- If you know your data is heavily skewed, you may have to either transform your data or set your algorithms to work with the median."
   ]
  },
  {
   "cell_type": "markdown",
   "metadata": {},
   "source": [
    "<a id=\"kurtosis\"></a>\n",
    "### Kurtosis\n",
    "- Kurtosis is a measure of whether the data are peaked or flat, relative to a normal distribution.\n",
    "- Data sets with high kurtosis tend to have a distinct peak near the mean, decline rather rapidly, and have heavy tails. \n",
    "\n",
    "![kurtosis](assets/images/kurtosis.jpg)"
   ]
  },
  {
   "cell_type": "markdown",
   "metadata": {},
   "source": [
    "####  Real-World Application: Risk Analysis\n",
    "- Long-tailed distributions with high kurtosis elude intuition; we naturally think the event is too improbable to pay attention to.\n",
    "- It's often the case that there is a large cost associated with a low-probability event, as is the case with hurricane damage.\n",
    "- It's unlikely you will get hit by a Category 5 hurricane, but when you do, the damage will be catastrophic.\n",
    "- Pay attention to what happens at the tails and whether this influences the problem at hand.\n",
    "- In these cases, understanding the costs may be more important than understanding the risks."
   ]
  },
  {
   "cell_type": "markdown",
   "metadata": {},
   "source": [
    "<a id=\"determining-the-distribution-of-your-data\"></a>\n",
    "## Determining the Distribution of Your Data\n",
    "---\n",
    "\n",
    "**Objective:** Create basic data visualizations, including scatterplots, box plots, and histograms."
   ]
  },
  {
   "cell_type": "markdown",
   "metadata": {},
   "source": [
    "![](./assets/images/distributions.png)"
   ]
  },
  {
   "cell_type": "markdown",
   "metadata": {},
   "source": [
    "#### Use the `.hist()` function of your Titantic DataFrame to plot histograms of all the variables in your data.\n",
    "\n",
    "- The function `plt.hist(data)` calls the Matplotlib library directly.\n",
    "- However, each DataFrame has its own `hist()` method that by default plots one histogram per column. \n",
    "- Given a DataFrame `my_df`, it can be called like this: `my_df.hist()`. "
   ]
  },
  {
   "cell_type": "code",
<<<<<<< Updated upstream
   "execution_count": 77,
=======
   "execution_count": 48,
>>>>>>> Stashed changes
   "metadata": {},
   "outputs": [
    {
     "data": {
<<<<<<< Updated upstream
      "image/png": "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\n",
      "text/plain": [
       "<Figure size 432x288 with 6 Axes>"
      ]
     },
     "metadata": {
      "needs_background": "light"
     },
=======
      "text/plain": [
       "array([[<matplotlib.axes._subplots.AxesSubplot object at 0x1a1b41cac8>,\n",
       "        <matplotlib.axes._subplots.AxesSubplot object at 0x1a1ad0b128>],\n",
       "       [<matplotlib.axes._subplots.AxesSubplot object at 0x1a1ad33ac8>,\n",
       "        <matplotlib.axes._subplots.AxesSubplot object at 0x1a1b49d4a8>],\n",
       "       [<matplotlib.axes._subplots.AxesSubplot object at 0x1a1b723e48>,\n",
       "        <matplotlib.axes._subplots.AxesSubplot object at 0x1a1b641828>]],\n",
       "      dtype=object)"
      ]
     },
     "execution_count": 48,
     "metadata": {},
     "output_type": "execute_result"
    },
    {
     "data": {
      "image/png": "iVBORw0KGgoAAAANSUhEUgAAAaIAAAEJCAYAAADW0CNCAAAABHNCSVQICAgIfAhkiAAAAAlwSFlzAAALEgAACxIB0t1+/AAAADh0RVh0U29mdHdhcmUAbWF0cGxvdGxpYiB2ZXJzaW9uMy4xLjAsIGh0dHA6Ly9tYXRwbG90bGliLm9yZy+17YcXAAAgAElEQVR4nO3de1xU1d4/8A9yESHJPAfExKN5QUxSOWiKloQZgjCigoaiYHbMeqU+kI8XTLODFwztsaOUdcrKJ/F4C0QpSS31KUFTNJXydlS8AqJoCMrMMLN+f/hjjhMDMwwzs2eGz/v16vVq9uw9811r5uuXvfeatRyEEAJEREQSaSF1AERE1LyxEBERkaRYiIiISFIsREREJCkWIiIikhQLERERSYqFiIiarUWLFmHo0KFYtWqV1KE0aw78HRERNVd+fn7Yv38/vL29pQ6lWWMhsiFqtRrLli3DiRMnUFVVBSEElixZgqeeegrJycm4cuUK2rRpA09PT3Tv3h0zZszAhQsXsHTpUty9excqlQqTJk1CTEyM1E0hktyECRNQUFAAX19fhIWF4ccff4RCoUB5eTlGjRqFxMREHD58GEuXLoWbmxuqqqrw9ddf46effsLatWuhVCrh6uqKuXPnIiAgQOrm2DZBNuPYsWNixowZQqVSCSGE+OSTT8S0adNEUlKSSEtLE0IIUVpaKgYPHixWr14tlEqlGDFihCgsLBRCCFFRUSHCw8PF8ePHJWsDkTXx9fUVt2/fFhMnThSXLl0SQghRUlIievbsKW7fvi0OHTok/Pz8xLVr14QQQly6dElERkaK8vJyIYQQ586dE4MHDxZVVVVSNcEuOEldCMlwAQEBePzxx7Fp0yZcvXoVhw8fhru7O44cOYKsrCwAgJeXF8LCwgAARUVFuHLlCubPn695jerqavz222/o27evJG0gskYff/wx9u/fj5ycHFy4cAFCCDx48AAA0L59e3To0AEAcPDgQdy8eROTJ0/WHOvg4IArV67Az89PitDtAguRDdm/fz+WLl2KV155BS+++CK6dOmCHTt2wMnJCeKRK6wtWjwcg6JSqdC6dWtkZ2drnrt16xZat25t8diJrNWDBw8QGxuLYcOGoV+/foiOjsbevXs1OeXm5qbZV61WIygoCB988IFmW3FxMby8vCwetz3hqDkbcvDgQYSEhGDChAnw9/fH3r17oVKpEBwcjG3btgEA7ty5g71798LBwQFPPfUUXF1dNYWouLgYkZGRKCwslLIZRFalvLwclZWVSExMxNChQ3H48GEoFAqo1eo6+wYFBeHgwYO4cOECAODAgQMYOXIkqqurLR22XeEZkQ2JjY3FrFmzIJPJUFNTg8GDB2P37t348MMPsWDBAshkMrRp0wZPPvkkXF1d4eLigo8++ghLly7FZ599hpqaGvzXf/0XAgMDpW4KkdV48skn8cILLyA8PBwuLi7w9fVFt27dcPnyZbi4uGjt261bN6SkpOCtt96CEAJOTk5Yu3Yt3N3dJYrePnDUnB3IyMjA008/jYCAACgUCkyYMAEzZsxAcHCw1KEREenFMyI70K1bNyxevBhqtRpKpRJhYWEsQkRkM3hGREREkuJgBSIikhQLERERScpq7hFVV1ejsLAQnp6ecHR0lDocasZUKhXKysrg7+8PV1dXqcMxGnOKrIW+nLKaQlRYWIi4uDipwyDSyMjIQL9+/aQOw2jMKbI29eWU1RQiT09PAA8D1TUTbmFhIfz9/S0dVpPZatxA8429pKQEcXFxmu+krbLXnGostlN6+nLKagpR7aUDb29v+Pj41Hm+tLRU53ZrZ6txA4zd1i9n2WtONRbbaT3qyykOVtBDoVRJciyRufn17GX0sfxukylZzRmRtXJxdoRsVrb+HXXY+X6UiaMhMh13N1d+t8kq8IzIjBRKldHzuvEvTiJqLnhGZEY8myIi0o9nREREJCkWIiIikhQLERERSYqFiIiIJMVCREREkmIhIiIiSbEQERGRpFiIiIhIUixEREQkKRYiIiKSFKf4IbKwSZMmoby8HE5OD9MvJSUFV65cwdq1a1FTU4OEhATNgnZ5eXlITU2FXC5HeHg4kpKSpAydyCxYiIgsSAiBoqIi7Nu3T1OISktLkZSUhMzMTLi4uCA2NhYDBgyAj48P5s+fj6+++grt27fHtGnTcODAAQQHB0vcCiLTYiEisqCLFy8CAKZMmYK7d+9i3LhxcHd3x8CBA9GmTRsAwPDhw5Gbm4tnn30WnTp1QseOHQEAMpkMubm5LERkd1iIiCyooqICQUFBWLhwIZRKJeLj4xEeHq61hLKXlxdOnjyJmzdv1tleWlpa7+tWVFRobSspKTFPI4hMjIWIyIICAgIQEBCgeRwTE4PU1FS88cYbmm1CCDg4OECtVsPBwaHOdl3Wr1+P9PR0nc8VFhbqLGDGrpVVq6CgoEnHW5ItxdoU1trOsrKyBp9nIbJSCqUKLs6613c357FkXkePHoVSqURQUBCAh8WlQ4cOWolaVlYGLy8veHt769yuS0JCAkaPHq21raSkBHFxcfD394ePj4/J29LUQmYpBQUFNhNrU1hzO69du9bg8yxEVoqL6tmne/fuYfXq1di0aROUSiWysrKwYsUKzJ49G+Xl5WjVqhV2796NxYsXo0ePHrh06RIuX74MHx8f5OTkIDo6Wufrenh4wMPDw8KtITINg35HVFlZicjISE1Vy8vLg0wmQ2hoKFatWqXZ7/Tp0xgzZgyGDx+Ot99+GzU1NeaJmshGhYSEIDg4GKNGjUJ0dDSio6MRGBiIpKQkxMfHY9SoUYiMjETv3r3RsmVLLF++HDNmzMCIESPQpUsXhIWFSd0EIpPTe0Z04sQJLFiwAEVFRQCA6urqeoeUzp49G0uWLEHfvn0xf/58bNmyBRMmTDB3G4hsSmJiIhITE7W2yWQyyGSyOvsGBQVhx44dlgqNSBJ6z4i2bNmCRYsWaa5Nnzx5UjOk1MnJSTOk9Pr166iurkbfvn0BAGPGjEFubq55oyciIpun94xo6dKlWo/rG1L6x+2enp4cakpERHo1erBCfUNKzT3UFJBmaKK1jkLRx1R9Za3DQQ1hbOz6hpoSkWk1uhDVN6T0j9tv3bpl0qGm1jw00RqZoq9suc+bEru+oaZEZFqNLkR9+vTROaS0Q4cOaNmypeYfgOzsbAwZMkTna3CoKRER1Wp0IXp0SKlcLkdwcLBmSOnKlSuxYMECVFZWolevXoiPjzd5wEREZF8MLkQ//PCD5v/rG1Lq5+eHbdu2mSYyIiJqFrgwHhERSYqFiIiIJMVCREREkmIhIiIiSbEQERGRpFiI7JBCqZLkWCIiY3A9IjvEtYyIyJbwjIiIiCTFQkRERJJiISIiIknZVCEy9kY6b8ATEVkvmxqsYOxNeN6AJyKyXjZ1RmQsnhEREVkvmzojMhaHMxtOoVTBxdkRQOMW13v0OCKixmgWhYgMx8ufRGRpzeLSHBERWS8WIiIikhQLERERSYqFiIiIJMVCRCbBGb+bF37eZEocNUcmwSHyzQs/bzIlnhEREZGkWIiIiEhSLERERCQpsxSinTt3YsSIEQgNDUVGRoY53oLsCG98N4z5RPbO5IMVSktLsWrVKmRmZsLFxQWxsbEYMGAAunXrZuq3IjvBG9/1s8d8MnZeQs5naL9MXojy8vIwcOBAtGnTBgAwfPhw5ObmYvr06Zp9KioqUFFRoXXc9evXAQAlJSU6X7esrAzXrl2D8n55o2My9jgea93vWXusLrXfF2PUfgdVKunPtgzJJ8C4nAIgyWd2s7QYf1u6p9HHffb2S0a9X1lZGS4VXYGzk3EXgJQ1aqOPtaSmfOfNTV9OOQghhCnf8JNPPsH9+/eRlJQEANi6dStOnjyJxYsXa/ZZs2YN0tPTTfm2RCaXkZGBfv36SRqDIfkEMKfINtSXUyY/I1Kr1XBwcNA8FkJoPQaAhIQEjB49WmubQqHA1atX0blzZzg6ap9+l5SUIC4uDhkZGfD29jZ1yGZjq3EDzTt2lUqFsrIy+Pv7myG6xjEkn4Dmk1ONxXZaB305ZfJC5O3tjaNHj2oel5WVwcvLS2sfDw8PeHh41Dm2S5cuel/bx8fHNIFakK3GDTTf2Dt16mTiaIxjSD4BzS+nGovtlF5DOWXyC5+DBg1Cfn4+ysvL8eDBA+zevRtDhgwx9dsQNQvMJ2oOTH5G1K5dOyQlJSE+Ph5KpRIxMTHo3bu3qd+GqFlgPlFzYJa55mQyGWQymTlemkykR48eyM/PR9u2baUOhfRgPlnWvHnz0L17d7z66qtSh9JsWP+YRDy8/j19+nSd18Ctma3GDTB2e9dc+ojttA0mH75NpnP48GGsXLkSTz75JC5evAhXV1csX74cLVq0QEpKCqqqqlBWVgY/Pz988MEHaNmyJfz9/fHiiy/izJkzWLlyJdRqNZYsWYIHDx7A2dkZc+bMQVBQEHr06IEJEybgxIkTuHv3Ll599VXExcVJ3WQik6svj7y9vbFkyRIcO3YMjo6OGDZsGJKSkpCcnKw5I9q2bRs2b94MpVKJ33//HVOnTsWECRNQVlaGuXPn4s6dOwCA4OBgJCYm1rud9BBktQ4dOiT8/PzEkSNHhBBCbNy4UYwePVosX75cbN++XQghhEKhEJGRkSI3N1cIIYSvr6/IysrSPDd48GCxb98+IYQQp06dEpGRkUKlUglfX1+xbt06IYQQv/76q/D39xcKhcLCLSQyv/ryaNmyZSIpKUnU1NQIuVwu4uLixKFDh8TcuXPFZ599JiorK8W4ceNEeXm5EEKI48ePi759+wohhEhPTxcLFy4UQghRVVUlEhMTRUVFRb3bqWFcj8jK+fn5aX4AFh0djZSUFKxbtw6FhYX49NNPUVRUhJs3b+L+/fuaY2r3P3fuHFq0aIEXXngBAODv74+dO3dq9ouMjAQA9OzZEwqFApWVlXjiiScs1DIiy9GVR0qlEsnJyXB0dISjoyM2bNgAAMjKygIAuLu74+OPP8aBAwdQVFSEM2fOaPLs+eefx2uvvYbi4mIMGjQIs2bNQuvWrevdTg2z+kK0c+dOrF27FjU1NUhISLD6y0fp6enYtWsXgIen5XPmzEFycjIKCgrQqlUrAMD06dPx0kuGTVfyxx8iAsB///d/w83NDeHh4XjhhRdQXFwM8cgVVjc3N82xf/zx47lz5zS/LXFyevjx1+4zfvx4tGzZEgCQkpKCK1euWH3fb926VfMPCPBw6pmoqCg8ePDA6D63d7aWU/royrm8vDykpqZCLpejd+/emjw6ffo0kpOToVarcf36dajVas3rFBcXw9XVVfO4pKQEL7/8MsaNG4fAwECEhYVh3759AIDevXvj+++/R35+Pg4dOoSxY8fi008/rXe7KX8c/d577+HOnTtYvnw5Tp8+jbfffhtVVVXo168f/v73v8PJyQk3btzA7Nmzcfv2bTz11FNYuXIl3N3dTRaDyUl9StaQkpISERISIu7cuSOqqqqETCYT58+flzqseh08eFC8/PLLQi6XC4VCIeLj48Xu3btFZGSkKC0tbfTrHTp0SPTq1UucPn1aCCHE//7v/4rx48eLwMBAzbZz586Jv/71r2LLli1CiIeX5m7fvi2EEEIul4vg4GDx008/CSGEKCwsFAMHDhRyuVxrP7VaLXx9fcXNmzc1721rfS/Ew7546aWXxO3bt43uc3tni59rQ3Tl3M6dO0VwcLC4cuWKUCqVYsyYMaJnz57i9OnTIiIiQixbtkyMHz9eREZGipiYGKFSqYRcLhcxMTHiu+++01ya27Nnjxg1apRQq9VCrVaLjz76SPj6+oqamhqxYsUKkZaWJoR4mD8TJ04UmZmZ9W43lby8PDFgwAAxd+5cIYQQERER4vjx40IIIZKTk0VGRoYQQojXXntN5OTkCCEeXkasjclaWfWouUcnfHRzc9NM+GitPD09MW/ePLi4uMDZ2Rldu3bFjRs3cOPGDcyfPx8ymQyrV6/W+itMnz//+c/44IMPIJPJsHfvXqSlpSEpKQlvvvkmZDIZ3nnnHfTv3x9Xrlypc6yLi4tmDrKoqCgsWrQIa9asgYuLi9Z+Fy9eBADMnDkTI0eOxIYNG2yu7wHg3XffRVJSElq1atWkPrdntvi5NkRXzhUVFaFTp07o2LEjnJycMGjQILi4uCA1NVVziS0tLQ1z585FcXExoqKiMGrUKAQHByM0NFTz2oMHD0a7du0QFhaG8PBwFBcXo23btrh8+TISEhJw5swZREZGIjo6Gj4+PoiIiKh3uyncvXsXq1atwuuvvw7g4aS21dXV6Nu3LwBgzJgxyM3NhVKpxJEjRzB8+HCt7dbMqi/N3bx5E56enprHXl5eOHnypIQRNax79+6a/y8qKsKuXbuQkZGBn3/+GYsWLULr1q0xbdo0bNu2DePGjTPoNR977DF8/PHHWtvi4uLqvZxy9uxZrcfPPPMM/vWvfzW4X0VFBaKiorBw4UIolUrEx8cjPDzcpvo+Ly8P1dXVCA8Px9WrVzFw4ECj+9ye2VpO6aMr5yZOnKjVxieeeAIODg5ITExEWloa1q9fD+Dh/Gfu7u5a900BYPny5Zr//2PupaSkaP5/3bp1deLx9PTUud0U3nnnHSQlJaG4uBhA3c/S09MTpaWluHPnDh577DHNpffa7dbMqs+IDJ3w0dqcP38eU6ZMwZw5c9ClSxd8+OGH8PLyQqtWrTBp0iQcOHBA6hC1BAQEIC0tDa1bt0bbtm0RExOD1atX21Tfb9q0Ca+88goAoGPHjlbf51Kx1ZzS59Gc69ixY502Arbd9q1bt6J9+/YICgrSbKuvPbraZe3ttOozIkMnfLQmBQUFmDlzJubPn4+IiAicPXsWRUVFmtNkIYTmLxV9BgwYgJycHHOGCwA4evQolEql5ksuhECHDh1QVlam2cea+16hUODIkSOav2Sb0uf2zhZzSp8/5tzPP/+s9d3905/+hLCwMHh7e2ttv3Xrls20/dtvv0VZWRmioqLw+++/4/79+3BwcNDZnrZt2+LevXtQqVRwdHS0ic/Yqs+IbG3Cx+LiYrz55ptYuXKl5rqwEALLli3D77//DqVSic2bN1vd6K179+4hLS0NcrkclZWVyMrKwooVK2ym78+ePYvOnTtrRgvaQp9LxdZySh9dOdenTx9cunQJly9fhkqlQk5ODoYMGYIOHTqgZcuWKCgoAABkZ2fbTNu/+OIL5OTkIDs7GzNnzsTQoUORmpqqsz3Ozs7o168fvv32WwDA9u3brb6dVjOzQnV1NQoLC+Hp6ak1ZPn777/Hxo0boVQqMWLECMTGxkoYZcNqh5E++eSTmm0ymQxCCGzfvh0qlQrPP/88pk6dKmGUun3++ef4v//7P6jVakRFRSE6Otpm+n7//v348ccfsXDhQs227Oxso/v80bVTHh3OayqTJk1CeXm55iytoaHyjw5DDg8P1yyQZwh7yCl96ss5Hx8frF27FnK5HAMHDsQbb7wBBwcHXLhwAe+//z6qqqrg6+uLOXPmwNnZWcIWNN53332HX375BXPnzq23PaWlpZph3l5eXliwYIGkv2fSl1NWU4iOHj1q879nIPtijhVahRAYMmQI9u3bpylEpaWlGD9+PDIzM+Hi4oLY2Fj8z//8D3x8fBAWFoavvvoK7du3x7Rp0xAfH4/g4GCD3os5RdbGYiu0Gqt29EdDKwwWFhZaxaqZTWEPbQDsox31taF2tctHRySZSu1Q+SlTpuDu3bsYN24c3N3dNUOqAWiGVD/77LOaYcjAw7/0c3NzdRaiiooKVFRUaG1TqVQA6s8pe/gMLYH9ZJiG+klfTllNIaq9dNDQCoOlpaVWu/qgoeyhDYB9tENfG3TNatFUFRUVCAoKMmiovK6h1vUNw12/fj3S09N1Pnfr1i2do6ZsYVivNWA/Gaahfrp16xaA+nPKagqRIfx69jLqOIVSBRdn0/+jQtRYAQEBCAgI0DyOiYlBamoq3njjDc222uG3jRlunJCQgNGjR2ttq/0r1N/fX2fBLSgoQGBgYFObZPeaWz8Z++9l1f1quLvpvqd67dq1Bo+1qULk7uYK2azsRh+38/0oM0RD1HiNGSr/x+HGDQ3D9fDwsNm1aMi6uDg7WvzfWasevk1kbxozVL6+YchE9samzoiIbF1ISAhOnDiBUaNGQa1WY8KECQgMDERSUhLi4+OhVCoRExOD3r17A3g43cyMGTMgl8sRHByMsLAwiVtAZHosREQWlpiYWGfVTplMBplMVmffoKAg7Nixw1KhEUmCl+aIiEhSLERERCQpFiIiIpIUCxEREUmKhYiIiCTFQkRERJJiISIiIkkZ9DsiS62fQkREzY/eQiSEQFFRUZ31U5KSkrTWTxkwYAB8fHwwf/58rfVTDhw4YPD6KURE1PzoLUTmWD9F19opJSUlJmkQERHZFr2FyBzrpzS0dkphYWG9a1o0ZSr22nXdrYE1xdIU9tAOXW14dMZrIjI/vYXIHOunGLN2SlNZy3oi9rK2iT20o7426Fs7hYhMS28hMsf6KVw7hYiIaukdvs31U4iIyJz0nhFx/RQiIjIng35HxPVTiIjIXDizAhERSYqFiIiIJMVCREREkmIhIiIiSbEQERGRpFiIiIhIUixEREQkKRYiIiKSFAsRERFJioWIiIgkxUJERESSYiEiaqb8evYy+liFUmXCSKi5M2jSUyKyP+5urpDNyjbq2J3vR5k4GmrOeEZERESSYiEiIiJJsRARETWA99LMj/eIiIgawHtp5sczIiIikhQLERERSYqFiIiIJMVCREREkmIhIiIiSbEQERGRpFiIiIhIUixEREQkKRYiIiKSFAsRERFJqlkUoqbM98S5ooiIzKtZzDXn4uzIuaKIiKxUszgjIiIi68VCZEa6LusFBgYafSwRkT1qFpfmpMJLgkRE+vGMiIiIJGWWQrRz506MGDECoaGhyMjIMMdbEDUbzCeydya/NFdaWopVq1YhMzMTLi4uiI2NxYABA9CtWzdTvxWR3WM+UXNg8jOivLw8DBw4EG3atIGbmxuGDx+O3NxcU78NUbPAfKLmwORnRDdv3oSnp6fmsZeXF06ePKm1T0VFBSoqKrS2Xb9+HQBQUlLS4Osr75c3OqZr164ZdVztsU0hxfsqa9RwdjLubwxFjRouBhzbrl07rRib8p5SHVtWVqazn2u/gyqV9CMXDcknwPickiovbE1z6ydj/52tj76cMnkhUqvVcHBw0DwWQmg9BoD169cjPT1d5/FxcXGmDgkv/rBckmObQqr3pf8oKytDp06dJI3BkHwCbCunmpPm1E+GtLW+nDJ5IfL29sbRo0e13tjLy0trn4SEBIwePVprm0KhwNWrV9G5c2c4OjrWed2SkhLExcUhIyMD3t7epg7bIuyhDYB9tKOhNqhUKpSVlcHf31+i6P7DkHwCGp9T9vAZWgL7yTD6+klfTpm8EA0aNAhr1qxBeXk5WrVqhd27d2Px4sVa+3h4eMDDw6POsV26dNH7+t7e3vDx8TFZvFKwhzYA9tGO+tog9ZlQLUPyCTA+p+zhM7QE9pNhGuqnhnLK5IWoXbt2SEpKQnx8PJRKJWJiYtC7d29Tvw1Rs8B8oubALL8jkslkyMnJwXfffYepU6ea4y2arVOnTmHmzJkAgHnz5mHdunUSR0TmxnyS3r/+9S+TvM6pU6cwdOhQk7yWPeHMCjbmmWeewerVq6UOg6hZGT9+vNQh2DWbmWvOw8MD06dP13kd3FY0tg1VVVVITk7G5cuX0aJFC/Tq1QsRERFYunQpcnJyAAAFBQX47rvvUFlZicGDB2Pu3LlwcnLC6tWrsWfPHjg7O+OJJ55AamoqvLy88PTTT2Pq1Kn48ccfcf/+fbz11lsIDQ01azuskT20oSnssf2G5Mvhw4exePFi5OTkYM2aNfjll19w8+ZNdO/eHQUFBfjwww81N9QTExPRu3dv9O/fHx9//DHCwsLw3nvvYefOnQAeDpl/8cUXsXfvXlRXVyMlJQXFxcVQKpWIiIjA66+/DgDYuHEj1q9fj8ceewy+vr7SdI6ZNfX7ZFOFaMaMGVKH0SSNbcOePXtQVVWF7OxsqFQqLFq0qM5Y/ZKSEmzYsAFOTk549dVXsWXLFoSEhGD9+vXIz8+Hi4sLPv/8c5w8eRLDhg2DSqVCq1atkJmZiTNnzmDixIno168f2rZta7Z2WCN7aENT2GP7DcmXP7p+/TpycnI0f7xlZmbC398fv//+O/Lz87F48WJUVVXhzp07GDx4MKqqqnDq1Ck888wzyMnJQXBwMB5//HHMmDEDkydPxtChQyGXyzF16lT85S9/wVNPPYX09HRkZ2fD09MT77zzjoV6w7Ka+n3ipTkrFhgYiH//+9+YNGkS/vnPfyIhIQF/+ctftPaJioqCm5sbXFxcMHLkSOTl5aFdu3bw8/PD6NGj8d5776Fnz54YNmyY5piJEycCAPz8/ODr64sjR45YtF1E5mBIvvxR37594eT08O/x6Oho7Nq1CwqFAjk5ORg6dChat26t2dfBwQHR0dHIysoCAGRmZmLcuHG4f/8+jhw5gn/84x+IiorCuHHjUFxcjDNnziA/Px+DBw/W/Cj55ZdfNlPrbRsLkRXr2LEj9uzZg9deew2VlZV45ZVXUFVVpbXPo78PEULAyckJLVq0wIYNG5Camoo2bdpg2bJlSEtL03mMWq3W+bstIlujK1+OHDkCIYRmH6VSqXWMm5ub5v87dOiAp59+Gvv370dmZiZiYmLqvEdMTAxyc3Nx+vRp3Lt3D88++yzUajWEENi0aROys7ORnZ2NzZs3Y9q0aQCg9f7MNd1sohDZw+zD6enpiIiIQEREhFZRaMjGjRuRnJyM5557DrNnz8Zzzz2H3377TWufb775BgqFAnK5HFlZWRgyZAjOnDmDyMhIdO3aFdOmTcPkyZNx6tQpzTHbt28HAPz666+4dOkS+vfv3+j2vPfee5g3b16jj7MGP/zwA8aMGYPw8HAsWbJE6nAkUVlZicjISJudgkYXXfkCADdu3MDt27chhMA333zT4GuMGzcOn376KeDTED4AAA+9SURBVB48eID8/HxEREQgIyMDx44dA/BwOH3v3r3xzjvvaArVY489hr59++KLL74A8PDe0fjx4/H9999j8ODBOHjwoGaKm9qzKXvzj3/8AyNGjEBERISmHxrD6gtR7ezDGzduxPbt27F582b8+9//ljqsRsnLy8NPP/2ErKwsbN++Hb/++iv27Nmj97hRo0ZBpVJhxIgRGDNmDO7du4cePXpo7ePj44MJEyZg1KhR6N+/P0aPHg0/Pz+Eh4cjOjoaY8aMwddff43k5GTNMceOHcPo0aMxf/58rFq1Co8//nij2pOfn2+zCXX16lUsWrQIH330EXbs2IHffvsNBw4ckDosizpx4gTGjx+PoqIiqUMxKV35MmnSJMTGxiI6Ohrjxo3T+6PUoUOH4vr16+jfv78mZ2NjY1FeXq7J2bFjx+L06dNaM1msXLkSJ06cgEwmw9ixYxEZGYmRI0eiR48emD17NhISEjBmzBjI5XKz9oEUfv75Zxw6dAg7duzA119/ja+++goXL15s3IsIK5eZmSmSk5M1j9PT08WaNWskjKjxzp07J44fP655/Pe//118+eWXksTi6+srbt++bfTxd+7cEWPHjhVffPGFmDt3rgkjs4x169aJZcuWaR6XlJSIO3fuSBiR5c2fP18cOXJEhISEiKtXr0odjlWyppy1BQqFQgghxLVr18SQIUNEcXFxo463+lFzhs4+bM26d++u+f+ioiLs2rXLZD+Qs7R33nkHSUlJKC4uljoUo1y+fBnOzs54/fXXUVxcjBdeeAGJiYlSh2VRS5culToEq2dPOWsJzs7OWL16NT7//HOEhYWhXbt2jTre6i/NGTr7sC04f/48pkyZgjlz5qBz586SxHD27NlGDdV+1NatW9G+fXsEBQWZOCrLUalUyM/Px7Jly7B582acPHnSZi8zkvlZQ87aipkzZyI/Px/FxcXYsmVLo461+kLk7e2NsrIyzeP6Zh+2dgUFBZg8eTJmzZpVZ5ZkW/Htt9/i4MGDiIqKwurVq/HDDz9g2bJlUofVKH/+858RFBSEtm3bwtXVFcOGDbO5M2yyDHvIWUu4cOECTp8+DQBo1aoVQkNDcfbs2Ua9htUXokGDBiE/Px/l5eV48OABdu/ejSFDhkgdVqMUFxfjzTffxMqVKxERESF1OEb74osvkJOTg+zsbMycORNDhw7F/PnzpQ6rUUJCQvDTTz+hoqICKpUKP/74I3r16iV1WGRl7CVnLeHatWtYsGABFAoFFAoFvv/+ewQGBjbqNazmHlF1dTUKCwvh6elZZ6x9QkICxo8fD6VSiREjRqBt27Y2New0PT0dDx48QEpKimabTCbDyJEjJYyqae7cuYOqqiqb+hwA4E9/+hOio6MxduxYKJVK9OvXDwMHDtRqx6Nrp7i6ukoYbdM0lFMAUFNTo3dF5ObKHnPWXLp27Yq//vWviIiIgKOjI55//nn06dOnUTnlIMQjv7aS0NGjR82ykiSRsTIyMtCvXz+pwzAac4qsTX05ZTVnRLUj4xpaCbGwsNAqVs1sLMZteU2JvXa1yUdHa9oifTlly5+vJbGfDNNQP+nLKaspRLWXDhpa4a+0tNQmV0lk3JZnithtfToWfTlly5+vJbGfDGNIP9WXU1Y/WOFRfj2Nu6msUKpMHAmR7TM2nwDmFJmW1ZwRGcLdzRWyWdmNPm7n+1FmiIbIOJMmTUJ5eblm1ueUlBRcuXIFa9euRU1NDRISEjT3dvLy8pCamgq5XI7w8HAkJSWZLA5j8wlgTpFp2VQhIrJ1QggUFRVh3759mkJUWlqKpKQkZGZmwsXFBbGxsRgwYAB8fHwwf/58fPXVV2jfvj2mTZuGAwcOIDg4WOJWEJkWCxGRBdVOBjllyhTcvXsX48aNg7u7OwYOHIg2bdoAAIYPH47c3Fw8++yz6NSpEzp27Ajg4fDh3NxcFiKyOyxERBZUUVGBoKAgLFy4EEqlEvHx8QgPD9c5n6KueRZLS0vrfd2KigqtbfyNENkKFiIiCwoICEBAQIDmcUxMDFJTU/HGG29ottXOp9iYeRbXr1+P9PR0nc8VFhbqLGCN/fX7HxUUFDTpeFvSnNraFPX106PTtOliUCGylpurRLbu6NGjUCqVmoljhRDo0KGDzvkUGzPPYkJCQp350Gp/u+Hv72+W4cdNLWS2oqCgoNm0tSka6id9M7DoLUS8uUpkOvfu3cPq1auxadMmKJVKZGVlYcWKFZg9ezbKy8vRqlUr7N69G4sXL0aPHj1w6dIlXL58GT4+PsjJyUF0dLTO1/Xw8ICHh4eFW0NkGnoLEW+uEplOSEgITpw4gVGjRkGtVmPChAkIDAxEUlIS4uPjoVQqERMTg969ewMAli9fjhkzZkAulyM4OBhhYWESt4DI9PQWInPcXOWNVWrOEhMT6yzGJ5PJIJPJ6uwbFBSEHTt2WCo0IknoLUTmuLlqzI1VoGnXpKW+2Sj1+xvLVuMGjI9d341VIjItvYXIHDdXm9uNVVu92WmrcQNNi93WlrYgsnV655q7d+8e0tLSIJfLUVlZqbm5qmuxuj59+mhurqpUKuTk5OhcxM7DwwM+Pj5a/9U34zYREdk3vWdEvLlKRETmZNDviHhzlYiIzMWmloEgIiL7w0JERESSYiEiIiJJsRAREZGkWIiIiEhSLERERCQpFiIiItJQKFVGHefXs5fR78mF8YiISMPF2RGyWdmNPm7n+1FGvyfPiIiISFIsREREJCkWIiIikhQLERERSYqFiIiIJMVCREREkmIhIiIiSbEQERGRpFiIiIhIUixEREQkKRYiIiKSFAsRERFJioWIiIgkxUJERESSYiEiIiJJNYtCZOxCT009loiI9GsWC+MZu9AT0LTFnoiISL9mcUZERETWi4WIiIgkxUJERESSYiEiIiJJsRAREZGkWIiIiEhSLERERCQpFiIiIpIUCxEREUmKhYiIiCTFQkRERJJiISIiIkmxEBERkaRYiIiISFJmKUQ7d+7EiBEjEBoaioyMDHO8BVGzwXwie2fy9YhKS0uxatUqZGZmwsXFBbGxsRgwYAC6detm6reyCIVSBRdnR4sfSwTYXz4R6WLyQpSXl4eBAweiTZs2AIDhw4cjNzcX06dP1+xTUVGBiooKreOuX78OACgpKWnw9ZX3yxsd07Vr14w6DgBulhbjb0v3GHXs2rkvwtmpBdq1a4dr16416lhljRrOTsadsJrq2LKyskbHbS2aEnvtd1Clkn51XkPyCTA+p4zNC1v9XhjDlvPAWMb+O1sffTll8kJ08+ZNeHp6ah57eXnh5MmTWvusX78e6enpOo+Pi4szdUh48Yflkhwb1oRjSXplZWXo1KmTpDEYkk+AbeUU2SdDvhP15ZTJC5FarYaDg4PmsRBC6zEAJCQkYPTo0VrbFAoFrl69is6dO8PRse7lrJKSEsTFxSEjIwPe3t6mDttsGLflNTV2lUqFsrIy+Pv7myG6xjEkn4DG55Qtf76WxH4yjL5+0pdTJi9E3t7eOHr0qOZxWVkZvLy8tPbx8PCAh4dHnWO7dOli0Ov7+Pg0PVALY9yW15TYpT4TqmVIPgHG55Qtf76WxH4yTEP91FBOmXzU3KBBg5Cfn4/y8nI8ePAAu3fvxpAhQ0z9NkTNAvOJmgOTnxG1a9cOSUlJiI+Ph1KpRExMDHr37m3qtyFqFphP1ByYvBABgEwmg0wmM8dLEzU7zCeyd47vvvvuu1IHYaiWLVtiwIABaNmypdShNArjtjxbjt1S2EeGYT8Zpin95CCEEGaIiYiIyCCca46IiCTFQkRERJKyukKkb4LH06dPY8yYMRg+fDjefvtt1NTUSBClbunp6YiIiEBERATS0tJ0Ph8SEoKoqChERUVZzQSWkyZNQkREhCauEydOaD2fl5cHmUyG0NBQrFq1SqIo69q6dasm5qioKAQGBiIlJUVrH2vtc0uy5ZyyJH39xO/Sf1RWViIyMlLntD5GfZ+EFSkpKREhISHizp07oqqqSshkMnH+/HmtfSIiIsTx48eFEEIkJyeLjIwMKUKt4+DBg+Lll18WcrlcKBQKER8fL3bv3q21z7Rp08SxY8ckilA3tVotnnvuOaFUKnU+/+DBAxEcHCyuXLkilEqlmDJliti/f7+Fo9Tv3Llz4qWXXhK3b9/W2m6NfW5JtpxTlmRIPzX371KtX375RURGRopevXqJq1ev1nnemO+TVZ0RPTrBo5ubm2aCx1rXr19HdXU1+vbtCwAYM2aM1vNS8vT0xLx58+Di4gJnZ2d07doVN27c0NqnsLAQn3zyCWQyGVJSUiCXyyWK9j8uXrwIAJgyZQpGjhyJDRs2aD1/8uRJdOrUCR07doSTkxNkMpnV9Pmj3n33XSQlJaFt27Za262xzy3JlnPKkvT1E8DvUq0tW7Zg0aJFOmf4MPb7ZFWFSNcEj6WlpfU+7+npqfW8lLp3767p/KKiIuzatQvBwcGa56uqqtCzZ0/Mnj0bWVlZqKiowEcffSRVuBoVFRUICgrChx9+iC+//BKbNm3CwYMHNc/r+0ysQV5eHqqrqxEeHq613Vr73JJsOacsSV8/8bv0H0uXLkW/fv10Pmfs98mqCpG+CR4NnQBSSufPn8eUKVMwZ84cdO7cWbPd3d0dn376Kbp27QonJydMmTIFBw4ckC7Q/y8gIABpaWlo3bo12rZti5iYGK24bKHPN23ahFdeeaXOdmvtc0uyh5yyBH39wO+SYYz9PllVIfL29kZZWZnm8R8nePzj87du3dJ5eiiVgoICTJ48GbNmzaozE/KNGzewbds2zWMhBJyczDKxRaMcPXoU+fn5msd/jEvfZyI1hUKBI0eOYOjQoXWes9Y+tyRbzylL0ddP/C4Zxtjvk1UVIn0TPHbo0AEtW7ZEQUEBACA7O9tqJoAsLi7Gm2++iZUrVyIiIqLO866urlixYgWuXr0KIQQyMjLw0ksvSRCptnv37iEtLQ1yuRyVlZXIysrSiqtPnz64dOkSLl++DJVKhZycHKvpcwA4e/YsOnfuDDc3tzrPWWufW5It55Ql6esnfpcMY/T3yQSDKExqx44dIiIiQoSGhop//vOfQggh/va3v4mTJ08KIYQ4ffq0iI6OFsOHDxdvvfWWkMvlUoarsXjxYtG3b18xcuRIzX8bN27Uij03N1fTtnnz5llN7KtWrRJhYWEiNDRUfPnll0IIIUaOHClKSkqEEELk5eUJmUwmQkNDxdKlS4VarZYyXC3ffPONSExM1NpmC31uSbaaU5amr5/4XdIWEhKiGTXX1O8Tp/ghIiJJWdWlOSIian5YiIiISFIsREREJCkWIiIikhQLERERSYqFiIiIJMVCREREkmIhIiIiSf0/+J/mujuzuiIAAAAASUVORK5CYII=\n",
      "text/plain": [
       "<Figure size 432x288 with 6 Axes>"
      ]
     },
     "metadata": {},
>>>>>>> Stashed changes
     "output_type": "display_data"
    }
   ],
   "source": [
    "# Plot all variables in the Titanic data set using histograms:\n",
<<<<<<< Updated upstream
    "\n",
    "titanic.hist();"
=======
    "titanic.hist()"
>>>>>>> Stashed changes
   ]
  },
  {
   "cell_type": "markdown",
   "metadata": {},
   "source": [
    "#### Use the built-in `.plot.box()` function of your Titanic DataFrame to plot box plots of your variables.\n",
    "\n",
    "- Given a DataFrame, a box plot can be made where each column is one tick on the x axis.\n",
    "- To do this, it can be called like this: `my_df.plot.box()`.\n",
    "- Try using the keyword argument `showfliers`, e.g. `showfliers=False`."
   ]
  },
  {
   "cell_type": "code",
<<<<<<< Updated upstream
   "execution_count": 78,
=======
   "execution_count": 49,
>>>>>>> Stashed changes
   "metadata": {},
   "outputs": [
    {
     "data": {
<<<<<<< Updated upstream
      "text/plain": [
       "<matplotlib.axes._subplots.AxesSubplot at 0x128c03b70>"
      ]
     },
     "execution_count": 78,
=======
      "text/html": [
       "<div>\n",
       "<style scoped>\n",
       "    .dataframe tbody tr th:only-of-type {\n",
       "        vertical-align: middle;\n",
       "    }\n",
       "\n",
       "    .dataframe tbody tr th {\n",
       "        vertical-align: top;\n",
       "    }\n",
       "\n",
       "    .dataframe thead th {\n",
       "        text-align: right;\n",
       "    }\n",
       "</style>\n",
       "<table border=\"1\" class=\"dataframe\">\n",
       "  <thead>\n",
       "    <tr style=\"text-align: right;\">\n",
       "      <th></th>\n",
       "      <th>survived</th>\n",
       "      <th>pclass</th>\n",
       "      <th>age</th>\n",
       "      <th>sibsp</th>\n",
       "      <th>parch</th>\n",
       "      <th>fare</th>\n",
       "    </tr>\n",
       "  </thead>\n",
       "  <tbody>\n",
       "    <tr>\n",
       "      <th>count</th>\n",
       "      <td>891.000000</td>\n",
       "      <td>891.000000</td>\n",
       "      <td>714.000000</td>\n",
       "      <td>891.000000</td>\n",
       "      <td>891.000000</td>\n",
       "      <td>891.000000</td>\n",
       "    </tr>\n",
       "    <tr>\n",
       "      <th>mean</th>\n",
       "      <td>0.383838</td>\n",
       "      <td>2.308642</td>\n",
       "      <td>29.699118</td>\n",
       "      <td>0.523008</td>\n",
       "      <td>0.381594</td>\n",
       "      <td>32.204208</td>\n",
       "    </tr>\n",
       "    <tr>\n",
       "      <th>std</th>\n",
       "      <td>0.486592</td>\n",
       "      <td>0.836071</td>\n",
       "      <td>14.526497</td>\n",
       "      <td>1.102743</td>\n",
       "      <td>0.806057</td>\n",
       "      <td>49.693429</td>\n",
       "    </tr>\n",
       "    <tr>\n",
       "      <th>min</th>\n",
       "      <td>0.000000</td>\n",
       "      <td>1.000000</td>\n",
       "      <td>0.420000</td>\n",
       "      <td>0.000000</td>\n",
       "      <td>0.000000</td>\n",
       "      <td>0.000000</td>\n",
       "    </tr>\n",
       "    <tr>\n",
       "      <th>50%</th>\n",
       "      <td>0.000000</td>\n",
       "      <td>3.000000</td>\n",
       "      <td>28.000000</td>\n",
       "      <td>0.000000</td>\n",
       "      <td>0.000000</td>\n",
       "      <td>14.454200</td>\n",
       "    </tr>\n",
       "    <tr>\n",
       "      <th>max</th>\n",
       "      <td>1.000000</td>\n",
       "      <td>3.000000</td>\n",
       "      <td>80.000000</td>\n",
       "      <td>8.000000</td>\n",
       "      <td>6.000000</td>\n",
       "      <td>512.329200</td>\n",
       "    </tr>\n",
       "  </tbody>\n",
       "</table>\n",
       "</div>"
      ],
      "text/plain": [
       "         survived      pclass         age       sibsp       parch        fare\n",
       "count  891.000000  891.000000  714.000000  891.000000  891.000000  891.000000\n",
       "mean     0.383838    2.308642   29.699118    0.523008    0.381594   32.204208\n",
       "std      0.486592    0.836071   14.526497    1.102743    0.806057   49.693429\n",
       "min      0.000000    1.000000    0.420000    0.000000    0.000000    0.000000\n",
       "50%      0.000000    3.000000   28.000000    0.000000    0.000000   14.454200\n",
       "max      1.000000    3.000000   80.000000    8.000000    6.000000  512.329200"
      ]
     },
     "execution_count": 49,
     "metadata": {},
     "output_type": "execute_result"
    }
   ],
   "source": [
    "# Plotting all histograms can be unweildly; box plots can be more concise:\n",
    "titanic.describe()"
   ]
  },
  {
   "cell_type": "code",
   "execution_count": 58,
   "metadata": {},
   "outputs": [
    {
     "data": {
      "text/plain": [
       "<matplotlib.axes._subplots.AxesSubplot at 0x1a1b117630>"
      ]
     },
     "execution_count": 58,
>>>>>>> Stashed changes
     "metadata": {},
     "output_type": "execute_result"
    },
    {
     "data": {
<<<<<<< Updated upstream
      "image/png": "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\n",
=======
      "image/png": "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\n",
>>>>>>> Stashed changes
      "text/plain": [
       "<Figure size 432x288 with 1 Axes>"
      ]
     },
<<<<<<< Updated upstream
     "metadata": {
      "needs_background": "light"
     },
=======
     "metadata": {},
>>>>>>> Stashed changes
     "output_type": "display_data"
    }
   ],
   "source": [
<<<<<<< Updated upstream
    "# Plotting all histograms can be unweildly; box plots can be more concise:\n",
    "\n",
    "titanic.plot.box()"
=======
    "titanic['parch'].plot.hist()\n",
    "# fare is skewed\n",
    "# age is sort of normal\n",
    "# sibsp is skewed\n",
    "# parch is skewed"
>>>>>>> Stashed changes
   ]
  },
  {
   "cell_type": "markdown",
   "metadata": {},
   "source": [
    "<a id=\"exercise\"></a>\n",
    "### Exercise\n",
    "\n",
    "1. Look at the Titanic data variables.\n",
    "- Are any of them normal?\n",
    "- Are any skewed?\n",
    "- How might this affect our modeling?"
   ]
  },
  {
   "cell_type": "markdown",
   "metadata": {},
   "source": [
    "![](./assets/images/visualization_flow_chart.jpg)"
   ]
  },
  {
   "cell_type": "markdown",
   "metadata": {},
   "source": [
    "<a id=\"topic-review\"></a>\n",
    "## Lesson Review\n",
    "---\n",
    "\n",
    "- We covered several different types of summary statistics, what are they?\n",
    "- We covered three different types of visualizations, which ones?\n",
    "- Describe bias and variance and why they are important.\n",
    "- What are some important characteristics of distributions?\n",
    "\n",
    "**Any further questions?**"
   ]
  },
  {
   "cell_type": "code",
   "execution_count": null,
   "metadata": {
    "collapsed": true
   },
   "outputs": [],
   "source": []
  }
 ],
 "metadata": {
  "kernelspec": {
   "display_name": "Python 3",
   "language": "python",
   "name": "python3"
  },
  "language_info": {
   "codemirror_mode": {
    "name": "ipython",
    "version": 3
   },
   "file_extension": ".py",
   "mimetype": "text/x-python",
   "name": "python",
   "nbconvert_exporter": "python",
   "pygments_lexer": "ipython3",
<<<<<<< Updated upstream
   "version": "3.7.2"
=======
   "version": "3.7.3"
>>>>>>> Stashed changes
  }
 },
 "nbformat": 4,
 "nbformat_minor": 1
}
