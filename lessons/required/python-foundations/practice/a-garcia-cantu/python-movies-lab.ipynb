{
 "cells": [
  {
   "cell_type": "markdown",
   "metadata": {},
   "source": [
    "<img src=\"http://imgur.com/1ZcRyrc.png\" style=\"float: left; margin: 20px; height: 55px\">\n",
    "\n",
    "## Python Review with Movie Data\n",
    "\n",
    "_Author: Kiefer Katovich and Dave Yerrington | DSI-SF_\n",
    "\n",
    "---\n",
    "\n",
    "In this lab you'll be using the provided imdb `movies` list below as your dataset. \n",
    "\n",
    "This lab is designed to practice iteration and funcitons in particular. The normal questions are more gentle, and the challenge questions are suitable for advanced/expert python or programming-experienced students. \n",
    "\n",
    "All the questions require writing functions and also use iteration to solve. You should print out a test of each function you write.\n",
    "\n",
    "\n",
    "### 1. Load the provided list of movies dictionaries."
   ]
  },
  {
   "cell_type": "code",
   "execution_count": 1,
   "metadata": {},
   "outputs": [],
   "source": [
    "# List of movies dictionaries:\n",
    "\n",
    "movies = [\n",
    "{\n",
    "\"name\": \"Usual Suspects\", \n",
    "\"imdb\": 7.0,\n",
    "\"category\": \"Thriller\"\n",
    "},\n",
    "{\n",
    "\"name\": \"Hitman\",\n",
    "\"imdb\": 6.3,\n",
    "\"category\": \"Action\"\n",
    "},\n",
    "{\n",
    "\"name\": \"Dark Knight\",\n",
    "\"imdb\": 9.0,\n",
    "\"category\": \"Adventure\"\n",
    "},\n",
    "{\n",
    "\"name\": \"The Help\",\n",
    "\"imdb\": 8.0,\n",
    "\"category\": \"Drama\"\n",
    "},\n",
    "{\n",
    "\"name\": \"The Choice\",\n",
    "\"imdb\": 6.2,\n",
    "\"category\": \"Romance\"\n",
    "},\n",
    "{\n",
    "\"name\": \"Colonia\",\n",
    "\"imdb\": 7.4,\n",
    "\"category\": \"Romance\"\n",
    "},\n",
    "{\n",
    "\"name\": \"Love\",\n",
    "\"imdb\": 6.0,\n",
    "\"category\": \"Romance\"\n",
    "},\n",
    "{\n",
    "\"name\": \"Bride Wars\",\n",
    "\"imdb\": 5.4,\n",
    "\"category\": \"Romance\"\n",
    "},\n",
    "{\n",
    "\"name\": \"AlphaJet\",\n",
    "\"imdb\": 3.2,\n",
    "\"category\": \"War\"\n",
    "},\n",
    "{\n",
    "\"name\": \"Ringing Crime\",\n",
    "\"imdb\": 4.0,\n",
    "\"category\": \"Crime\"\n",
    "},\n",
    "{\n",
    "\"name\": \"Joking muck\",\n",
    "\"imdb\": 7.2,\n",
    "\"category\": \"Comedy\"\n",
    "},\n",
    "{\n",
    "\"name\": \"What is the name\",\n",
    "\"imdb\": 9.2,\n",
    "\"category\": \"Suspense\"\n",
    "},\n",
    "{\n",
    "\"name\": \"Detective\",\n",
    "\"imdb\": 7.0,\n",
    "\"category\": \"Suspense\"\n",
    "},\n",
    "{\n",
    "\"name\": \"Exam\",\n",
    "\"imdb\": 4.2,\n",
    "\"category\": \"Thriller\"\n",
    "},\n",
    "{\n",
    "\"name\": \"We Two\",\n",
    "\"imdb\": 7.2,\n",
    "\"category\": \"Romance\"\n",
    "}\n",
    "]"
   ]
  },
  {
   "cell_type": "markdown",
   "metadata": {},
   "source": [
    "---\n",
    "\n",
    "### 2. Filtering data by IMDB score\n",
    "\n",
    "#### 2.1 \n",
    "\n",
    "Write a function that:\n",
    "\n",
    "1. Accepts a single movie dictionary from the `movies` list as an argument.\n",
    "2. Returns True if the IMDB score is above 5.5.\n",
    "\n",
    "#### 2.2 [Challenge] \n",
    "\n",
    "Write a function that:\n",
    "\n",
    "1. Accepts the movies list and a specified category.\n",
    "2. Returns True if the average score of the category is higher than the average score of all movies."
   ]
  },
  {
   "cell_type": "code",
   "execution_count": 10,
   "metadata": {},
   "outputs": [
    {
     "name": "stdout",
     "output_type": "stream",
     "text": [
      "{'name': 'Detective', 'imdb': 7.0, 'category': 'Suspense'}\n"
     ]
    },
    {
     "data": {
      "text/plain": [
       "True"
      ]
     },
     "execution_count": 10,
     "metadata": {},
     "output_type": "execute_result"
    }
   ],
   "source": [
    "def function1(movie):\n",
    "    if movie[\"imdb\"] > 5.5:\n",
    "        return True\n",
    "    else:\n",
    "        return False\n",
    "\n",
    "print(movies[12])\n",
    "function1(movies[12])"
   ]
  },
  {
   "cell_type": "code",
   "execution_count": 16,
   "metadata": {},
   "outputs": [
    {
     "name": "stdout",
     "output_type": "stream",
     "text": [
      "True\n",
      "False\n"
     ]
    }
   ],
   "source": [
    "# Accepts the movies list and a specified category.\n",
    "# Returns True if the average score of the category is higher than the average score of all movies.\n",
    "\n",
    "def function2(movie, category):\n",
    "    movie_avg = []\n",
    "    category_avg = []\n",
    "    \n",
    "    for movie in movies:\n",
    "        movie_avg.append(movie[\"imdb\"])\n",
    "        if movie[\"category\"] == category:\n",
    "            category_avg.append(movie[\"imdb\"])\n",
    "            \n",
    "    movie_avg = sum(movie_avg)/len(movie_avg)\n",
    "    \n",
    "    if len(category_avg) == 0:\n",
    "        return False\n",
    "    else:\n",
    "        category_avg = sum(category_avg)/len(category_avg)\n",
    "        if category_avg > movie_avg:\n",
    "            return True\n",
    "        else:\n",
    "            return False\n",
    "        \n",
    "\n",
    "print(function2(movies, \"Comedy\"))\n",
    "print(function2(movies, \"War\"))"
   ]
  },
  {
   "cell_type": "markdown",
   "metadata": {},
   "source": [
    "---\n",
    "\n",
    "### 3. Creating subsets by numeric condition\n",
    "\n",
    "#### 3.1\n",
    "\n",
    "Write a function that:\n",
    "\n",
    "1. Accepts the list of movies and a specified imdb score.\n",
    "2. Returns the sublist of movies that have a score greater than the specified score.\n",
    "\n",
    "#### 3.2 [Expert] \n",
    "\n",
    "Write a function that:\n",
    "\n",
    "1. Accepts the movies list as an argument.\n",
    "2. Returns the movies list sorted first by category and then by movie according to average score and individual score, respectively."
   ]
  },
  {
   "cell_type": "code",
   "execution_count": 24,
   "metadata": {},
   "outputs": [
    {
     "name": "stdout",
     "output_type": "stream",
     "text": [
      "[{'name': 'Usual Suspects', 'imdb': 7.0, 'category': 'Thriller'}, {'name': 'Hitman', 'imdb': 6.3, 'category': 'Action'}, {'name': 'Dark Knight', 'imdb': 9.0, 'category': 'Adventure'}, {'name': 'The Help', 'imdb': 8.0, 'category': 'Drama'}, {'name': 'The Choice', 'imdb': 6.2, 'category': 'Romance'}, {'name': 'Colonia', 'imdb': 7.4, 'category': 'Romance'}, {'name': 'Love', 'imdb': 6.0, 'category': 'Romance'}, {'name': 'Bride Wars', 'imdb': 5.4, 'category': 'Romance'}, {'name': 'Joking muck', 'imdb': 7.2, 'category': 'Comedy'}, {'name': 'What is the name', 'imdb': 9.2, 'category': 'Suspense'}, {'name': 'Detective', 'imdb': 7.0, 'category': 'Suspense'}, {'name': 'We Two', 'imdb': 7.2, 'category': 'Romance'}]\n"
     ]
    }
   ],
   "source": [
    "def function3(movie, score):\n",
    "    sublist = []\n",
    "    for movie in movies:\n",
    "        if float(movie[\"imdb\"]) > score:\n",
    "            sublist.append(movie)\n",
    "    return sublist\n",
    "\n",
    "print(function3(movies, 5))"
   ]
  },
  {
   "cell_type": "markdown",
   "metadata": {},
   "source": [
    "---\n",
    "\n",
    "### 4. Creating subsets by string condition\n",
    "\n",
    "#### 4.1\n",
    "\n",
    "Write a function that:\n",
    "\n",
    "1. Accepts the movies list and a category name.\n",
    "2. Returns the movie names within that category (case-insensitive!)\n",
    "3. If the category is not in the data, print a message that it does not exist and return None.\n",
    "\n",
    "Recall that to convert a string to lowercase, you can use:\n",
    "\n",
    "```python\n",
    "mystring = 'Dumb and Dumber'\n",
    "lowercase_mystring = mystring.lower()\n",
    "print lowercase_mystring\n",
    "'dumb and dumber'\n",
    "```\n",
    "\n",
    "#### 4.2 [Challenge]\n",
    "\n",
    "Write a function that:\n",
    "\n",
    "1. Accepts the movies list and a \"search string\".\n",
    "2. Returns a dictionary with keys `'category'` and `'title'` whose values are lists of categories that contain the search string and titles that contain the search string, respectively (case-insensitive!)"
   ]
  },
  {
   "cell_type": "code",
   "execution_count": 34,
   "metadata": {},
   "outputs": [
    {
     "name": "stdout",
     "output_type": "stream",
     "text": [
      "[{'name': 'The Choice', 'imdb': 6.2, 'category': 'Romance'}, {'name': 'Colonia', 'imdb': 7.4, 'category': 'Romance'}, {'name': 'Love', 'imdb': 6.0, 'category': 'Romance'}, {'name': 'Bride Wars', 'imdb': 5.4, 'category': 'Romance'}, {'name': 'We Two', 'imdb': 7.2, 'category': 'Romance'}]\n",
      "No movies in category sci-fi\n",
      "None\n"
     ]
    }
   ],
   "source": [
    "def function4(movies, category):\n",
    "    category = category.lower()\n",
    "    movie_category_subset = []\n",
    "    \n",
    "    for movie in movies:\n",
    "        movie_category = movie[\"category\"].lower()\n",
    "        if movie_category == category:\n",
    "            movie_category_subset.append(movie)\n",
    "        \n",
    "    if len(movie_category_subset) == 0:\n",
    "        print(\"No movies in category\", category)\n",
    "        return None\n",
    "    else:\n",
    "        return movie_category_subset\n",
    "    \n",
    "print(function4(movies, \"romance\"))\n",
    "print(function4(movies, \"sci-fi\"))"
   ]
  },
  {
   "cell_type": "markdown",
   "metadata": {},
   "source": [
    "---\n",
    "\n",
    "### 5. Multiple conditions\n",
    "\n",
    "#### 5.1\n",
    "\n",
    "Write a function that:\n",
    "\n",
    "1. Accepts the movies list and a \"search criteria\" variable.\n",
    "2. If the criteria variable is numeric, return a list of movie titles with a score greater than or equal to the criteria.\n",
    "3. If the criteria variable is a string, return a list of movie titles that match that category (case-insensitive!). If there is no match, return an empty list and print an informative message.\n",
    "\n",
    "#### 5.2 [Expert]\n",
    "\n",
    "Write a function that:\n",
    "\n",
    "1. Accepts the movies list and a string search criteria variable.\n",
    "2. The search criteria variable can contain within it:\n",
    "  - Boolean operations: `'AND'`, `'OR'`, and `'NOT'` (can have/be lowercase as well, I just capitalized for clarity).\n",
    "  - Search criteria specified with syntax `score=...`, `category=...`, and/or `title=...`, where the `...` indicates what to look for.\n",
    "    - If `score` is present, it means scores greater than or equal to the value.\n",
    "    - For `category` and `title`, the string indicates that the category or title must _contain_ the search string (case-insensitive).\n",
    "3. Return the matches for the search criteria specified."
   ]
  },
  {
   "cell_type": "code",
   "execution_count": 36,
   "metadata": {},
   "outputs": [
    {
     "name": "stdout",
     "output_type": "stream",
     "text": [
      "['Dark Knight', 'The Help', 'Colonia', 'Joking muck', 'What is the name', 'We Two']\n",
      "['The Choice', 'Colonia', 'Love', 'Bride Wars', 'We Two']\n",
      "criteria isn't a string or a number\n",
      "[]\n"
     ]
    }
   ],
   "source": [
    "def function5(movies, criteria):\n",
    "    matches = []\n",
    "    \n",
    "    if type(criteria) in [int, float]:\n",
    "        search = \"score\"\n",
    "    elif type(criteria) == str:\n",
    "        search = \"titles\"\n",
    "        criteria = criteria.lower()\n",
    "    else:\n",
    "        print(\"criteria isn't a string or a number\")\n",
    "        return matches\n",
    "    \n",
    "    for movie in movies:\n",
    "        if search == \"score\":\n",
    "            if movie[\"imdb\"] > criteria:\n",
    "                matches.append(movie[\"name\"])\n",
    "        else:\n",
    "            if movie[\"category\"].lower() == criteria:\n",
    "                matches.append(movie[\"name\"])\n",
    "    \n",
    "    if len(matches) == 0:\n",
    "        print(\"no matches found\")\n",
    "        \n",
    "    return matches\n",
    "\n",
    "print(function5(movies, 7.0))\n",
    "print(function5(movies, \"romance\"))\n",
    "print(function5(movies, {\"name\" :\"colonia\"}))"
   ]
  },
  {
   "cell_type": "code",
   "execution_count": null,
   "metadata": {},
   "outputs": [],
   "source": []
  }
 ],
 "metadata": {
  "kernelspec": {
   "display_name": "Python 3",
   "language": "python",
   "name": "python3"
  },
  "language_info": {
   "codemirror_mode": {
    "name": "ipython",
    "version": 3
   },
   "file_extension": ".py",
   "mimetype": "text/x-python",
   "name": "python",
   "nbconvert_exporter": "python",
   "pygments_lexer": "ipython3",
   "version": "3.7.3"
  }
 },
 "nbformat": 4,
 "nbformat_minor": 2
}
