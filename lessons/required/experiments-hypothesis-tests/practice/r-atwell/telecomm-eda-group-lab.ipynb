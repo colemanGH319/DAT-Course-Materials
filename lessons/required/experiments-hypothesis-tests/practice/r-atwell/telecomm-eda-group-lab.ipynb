{
 "cells": [
  {
   "cell_type": "markdown",
   "metadata": {
    "collapsed": true
   },
   "source": [
    "<img src=\"http://imgur.com/1ZcRyrc.png\" style=\"float: left; margin: 20px; height: 55px\">\n",
    "\n",
    "\n",
    "# Telecomm EDA Challenge Lab\n",
    "\n",
    "_Author: Alex Combs (NYC) _\n",
    "\n",
    "---"
   ]
  },
  {
   "cell_type": "markdown",
   "metadata": {},
   "source": [
    "Let's do some Exploratory Data Analysis (EDA)! As a data scientist, you often may find yourself given a data set you've never seen before, and asked to do a rapid analysis. This is today's goal.\n",
    "\n",
    "# Prompt\n",
    "\n",
    "You work for a telecommunications company. The company has been storing metadata about customer phone usage, as part of the regular course of business. Currently, this data is sitting in an unsecured database. The company doesn't want to pay to increase their database security, because they don't think there's really anything to be learned from the metadata.\n",
    "\n",
    "They are under pressure from \"right to privacy\" organizations to beef up the database security. These organizations argue that you can learn a lot about a person from their cell phone metadata.\n",
    "\n",
    "The telecom company wants to understand if this is true, and they want your help. They will give you one person's metadata for 2014 and want to see what you can learn from it.\n",
    "\n",
    "Working in teams, create a report revealing everything you can about the person. Prepare a presentation, with slides, showcasing your findings.\n",
    "\n",
    "\n",
    "# The Data\n",
    "\n",
    "The [person's metadata](./datasets/metadata.csv) has the following fields:\n",
    "\n",
    "| Field Name          | Description\n",
    "| ---                 | ---\n",
    "| **Cell Cgi**        | cell phone tower identifier\n",
    "| **Cell Tower**      | cell phone tower location\n",
    "| **Comm Identifier** |\tde-identified recipient of communication\n",
    "| **Comm Timedate String** | time of communication\n",
    "| **Comm Type\tId**  | type of communication\n",
    "| **Latitude**        | latitude of communication\n",
    "| **Longitude**       | longitude of communication\n"
   ]
  },
  {
   "cell_type": "markdown",
   "metadata": {},
   "source": [
    "# Hints\n",
    "\n",
    "This is totally open-ended! If you're totally stumped -- and only if stumped -- should you look below for prompts. As a starting point, given that you have geo-locations, consider investigating ways to display this type of information (i.e. mapping functionality).\n",
    "\n",
    "<font color='white'>\n",
    "Well for starters, he's in Australia!\n",
    "\n",
    "Ideas for things to look into:\n",
    "- where does he work?\n",
    "- where does he live?\n",
    "- who does he contact most often?\n",
    "- what hours does he work?\n",
    "- did he move?\n",
    "- did he go on holiday?  If so, where did he go?\n",
    "- did he get a new phone?\n",
    "\n",
    "Challenges:\n",
    "- how does he get to work?\n",
    "- where does his family live?\n",
    "- if he went on holiday, can you find which flights he took?\n",
    "- can you guess who some of his contacts are, based on the frequency, location, time and mode (phone/text) of communications?\n",
    "\n",
    "\n",
    "If you're stuck on how to map the data, you can try \"basemap\" or \"gmplot\", or anything else you find online.\n",
    "</font>"
   ]
  },
  {
   "cell_type": "code",
   "execution_count": 2,
   "metadata": {},
   "outputs": [],
   "source": [
    "import pandas as pd"
   ]
  },
  {
   "cell_type": "code",
   "execution_count": 5,
   "metadata": {},
   "outputs": [
    {
     "name": "stdout",
     "output_type": "stream",
     "text": [
      "/Users/WayneAtwell/Python/Class/DAT-course-materials-9-17-19/lessons/required/experiments-hypothesis-tests/practice/r-atwell\n"
     ]
    }
   ],
   "source": [
    "import os\n",
    "print(os.getcwd())"
   ]
  },
  {
   "cell_type": "code",
   "execution_count": 6,
   "metadata": {},
   "outputs": [
    {
     "name": "stdout",
     "output_type": "stream",
     "text": [
      "eda-with-billboard-data-lab.ipynb\n",
      "experiments-hypothesis-tests.ipynb\n",
      "telecomm-eda-group-lab.ipynb\n"
     ]
    }
   ],
   "source": [
    "files = [f for f in os.listdir('.') if os.path.isfile(f)]\n",
    "for f in files:\n",
    "    print(f)"
   ]
  },
  {
   "cell_type": "code",
   "execution_count": 7,
   "metadata": {},
   "outputs": [],
   "source": [
    "data = pd.read_csv('metadata.csv', sep=',')"
   ]
  },
  {
   "cell_type": "code",
   "execution_count": 9,
   "metadata": {},
   "outputs": [
    {
     "data": {
      "text/html": [
       "<div>\n",
       "<style scoped>\n",
       "    .dataframe tbody tr th:only-of-type {\n",
       "        vertical-align: middle;\n",
       "    }\n",
       "\n",
       "    .dataframe tbody tr th {\n",
       "        vertical-align: top;\n",
       "    }\n",
       "\n",
       "    .dataframe thead th {\n",
       "        text-align: right;\n",
       "    }\n",
       "</style>\n",
       "<table border=\"1\" class=\"dataframe\">\n",
       "  <thead>\n",
       "    <tr style=\"text-align: right;\">\n",
       "      <th></th>\n",
       "      <th>Cell Cgi</th>\n",
       "      <th>Cell Tower Location</th>\n",
       "      <th>Comm Identifier</th>\n",
       "      <th>Comm Timedate String</th>\n",
       "      <th>Comm Type</th>\n",
       "      <th>Latitude</th>\n",
       "      <th>Longitude</th>\n",
       "    </tr>\n",
       "  </thead>\n",
       "  <tbody>\n",
       "    <tr>\n",
       "      <th>10471</th>\n",
       "      <td>50501015388B9</td>\n",
       "      <td>REDFERN TE</td>\n",
       "      <td>NaN</td>\n",
       "      <td>4/1/15 22:40</td>\n",
       "      <td>Internet</td>\n",
       "      <td>-33.892933</td>\n",
       "      <td>151.202296</td>\n",
       "    </tr>\n",
       "    <tr>\n",
       "      <th>10472</th>\n",
       "      <td>50501015388B9</td>\n",
       "      <td>REDFERN TE</td>\n",
       "      <td>NaN</td>\n",
       "      <td>4/1/15 22:41</td>\n",
       "      <td>Internet</td>\n",
       "      <td>-33.892933</td>\n",
       "      <td>151.202296</td>\n",
       "    </tr>\n",
       "    <tr>\n",
       "      <th>10473</th>\n",
       "      <td>50501015388B9</td>\n",
       "      <td>REDFERN TE</td>\n",
       "      <td>NaN</td>\n",
       "      <td>4/1/15 22:44</td>\n",
       "      <td>Internet</td>\n",
       "      <td>-33.892933</td>\n",
       "      <td>151.202296</td>\n",
       "    </tr>\n",
       "    <tr>\n",
       "      <th>10474</th>\n",
       "      <td>50501015388B9</td>\n",
       "      <td>REDFERN TE</td>\n",
       "      <td>NaN</td>\n",
       "      <td>4/1/15 22:45</td>\n",
       "      <td>Internet</td>\n",
       "      <td>-33.892933</td>\n",
       "      <td>151.202296</td>\n",
       "    </tr>\n",
       "    <tr>\n",
       "      <th>10475</th>\n",
       "      <td>50501015388B9</td>\n",
       "      <td>REDFERN TE</td>\n",
       "      <td>NaN</td>\n",
       "      <td>4/1/15 23:49</td>\n",
       "      <td>Internet</td>\n",
       "      <td>-33.892933</td>\n",
       "      <td>151.202296</td>\n",
       "    </tr>\n",
       "  </tbody>\n",
       "</table>\n",
       "</div>"
      ],
      "text/plain": [
       "            Cell Cgi Cell Tower Location Comm Identifier Comm Timedate String  \\\n",
       "10471  50501015388B9          REDFERN TE             NaN         4/1/15 22:40   \n",
       "10472  50501015388B9          REDFERN TE             NaN         4/1/15 22:41   \n",
       "10473  50501015388B9          REDFERN TE             NaN         4/1/15 22:44   \n",
       "10474  50501015388B9          REDFERN TE             NaN         4/1/15 22:45   \n",
       "10475  50501015388B9          REDFERN TE             NaN         4/1/15 23:49   \n",
       "\n",
       "      Comm Type   Latitude   Longitude  \n",
       "10471  Internet -33.892933  151.202296  \n",
       "10472  Internet -33.892933  151.202296  \n",
       "10473  Internet -33.892933  151.202296  \n",
       "10474  Internet -33.892933  151.202296  \n",
       "10475  Internet -33.892933  151.202296  "
      ]
     },
     "execution_count": 9,
     "metadata": {},
     "output_type": "execute_result"
    }
   ],
   "source": [
    "data.tail()"
   ]
  },
  {
   "cell_type": "code",
   "execution_count": 12,
   "metadata": {},
   "outputs": [
    {
     "data": {
      "text/plain": [
       "BALGOWLAH HAYES ST                          4301\n",
       "CHIPPENDALE                                 1084\n",
       "SUNDERLAND ST                                723\n",
       "REDFERN TE                                   712\n",
       "HAYMARKET #                                  563\n",
       "BRICKWORKS                                   501\n",
       "HARBORD 22 WAINE ST                          465\n",
       "FAIRLIGHT 137 SYDNEY RD                      454\n",
       "MANLY #                                      231\n",
       "NEW TOWN                                     197\n",
       "CHINATOWN                                    161\n",
       "BEECHWORTH                                   112\n",
       "BALGOWLAH VILLAGE SHOPPING CENTRE IBC        106\n",
       "MANLY SOUTH STEYNE                            92\n",
       "BROADWAY OTC                                  85\n",
       "MASCOT INTERNATIONAL AIRPORT TERMINAL T1      65\n",
       "71 MACQUARIE ST                               49\n",
       "SURRY HILLS 418A ELIZABETH ST                 45\n",
       "MANLY NTH STEYNE                              40\n",
       "MASCOT M5 MOTORWAY EMERGENCY STAIRS           33\n",
       "BALGOWLAH TE                                  30\n",
       "NEUTRAL BAY MILITARYRD                        29\n",
       "BENALLA EAST                                  29\n",
       "SYDNEY DOMESTIC TERMINAL T2 - VIRGIN          22\n",
       "SYDNEY 505 GEORGE ST                          22\n",
       "SURRY HILLS                                   22\n",
       "SPIT BRIDGE                                   20\n",
       "THOONA                                        20\n",
       "SEAFORTH                                      19\n",
       "HOBART AIRPORT                                17\n",
       "                                            ... \n",
       "LENEVA; WODONGA TIP OFF BEACHWORTH RD          7\n",
       "NORTH SYDNEY 54 MCLAREN                        6\n",
       "DARLINGHURST                                   6\n",
       "CREMORNE JUNCTION; GERARD ST                   6\n",
       "ZETLAND 757 ELIZABETH ST                       5\n",
       "AIRPORT LINK                                   5\n",
       "SYDNEY 131 YORK ST                             5\n",
       "POLICE HEADQUARTERS                            4\n",
       "LUTANA                                         4\n",
       "MAQUARIE ST                                    4\n",
       "COWAN 1051 PACIFIC HWY                         4\n",
       "SYDNEY 450 GEORGE ST                           4\n",
       "BEROWRA WINDY BANKS INTERCHANGE                4\n",
       "SYDNEY 2 CASTLEREAGH STREET                    3\n",
       "MOUNT RUMNEY                                   3\n",
       "SYDNEY INTERNATIONAL AIRPORT RAILWAY STN       2\n",
       "WAHROONGA #                                    2\n",
       "COWAN LOT 1                                    2\n",
       "ROSEBERY DUNNING AVE                           2\n",
       "DAVID JONES                                    1\n",
       "CARLTON COLLEGE SQ                             1\n",
       "EDGECLIFF EXCHANGE (PO)                        1\n",
       "NEWTOWN TE                                     1\n",
       "BROOKLYN PACIFIC HWY                           1\n",
       "ASCOT VALE SOUTH                               1\n",
       "GRAND CHANCELLOR 1800                          1\n",
       "MELB AIRPORT TERM                              1\n",
       "DALLEY2 #                                      1\n",
       "REDFERN; 495 CLEVELAND ST                      1\n",
       "MASCOT 201 COWARD ST                           1\n",
       "Name: Cell Tower Location, Length: 71, dtype: int64"
      ]
     },
     "execution_count": 12,
     "metadata": {},
     "output_type": "execute_result"
    }
   ],
   "source": [
    "data['Cell Tower Location'].value_counts()"
   ]
  },
  {
   "cell_type": "code",
   "execution_count": null,
   "metadata": {},
   "outputs": [],
   "source": [
    "# They spend most of their time near the BALGOWLAH HAYES ST tower"
   ]
  }
 ],
 "metadata": {
  "kernelspec": {
   "display_name": "Python 3",
   "language": "python",
   "name": "python3"
  },
  "language_info": {
   "codemirror_mode": {
    "name": "ipython",
    "version": 3
   },
   "file_extension": ".py",
   "mimetype": "text/x-python",
   "name": "python",
   "nbconvert_exporter": "python",
   "pygments_lexer": "ipython3",
   "version": "3.7.3"
  }
 },
 "nbformat": 4,
 "nbformat_minor": 2
}
