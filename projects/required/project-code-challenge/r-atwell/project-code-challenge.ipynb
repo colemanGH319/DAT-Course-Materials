{
 "cells": [
  {
   "cell_type": "markdown",
   "metadata": {},
   "source": [
    "<img src=\"http://imgur.com/1ZcRyrc.png\" style=\"float: left; margin: 20px; height: 55px\">\n",
    "\n",
    "# Project 1: Python Coding Exercises\n",
    "\n",
    "_Authors: Joseph Nelson (DC) _\n",
    "\n",
    "---"
   ]
  },
  {
   "cell_type": "markdown",
   "metadata": {},
   "source": [
    "The following code challenges are drawn from common exercises used in technical interviews.\n",
    "\n",
    "Please note that there may be several ways to approach each challenge. If you get stuck, try mapping out your approach in pseudocode first. Finally, while solutions to problems like these may be found online, remember that if you copy/paste code that you can't explain, you'll be missing out on the point of the project. The only way to truly learn a new skill is through practice, trial, and error - we can only help you improve by understanding where you are having trouble."
   ]
  },
  {
   "cell_type": "markdown",
   "metadata": {},
   "source": [
    "### Challenge 1: Largest Palindrome\n",
    "A palindromic number reads the same both ways. For example, 1234321 is a palindrome. The largest palindrome made from the product of two two-digit numbers is 9009 = 91 × 99. Find the largest palindrome made from the product of two three-digit numbers. Afterward, write a brief explanation walking through your code's logic in markdown."
   ]
  },
  {
   "cell_type": "code",
   "execution_count": null,
   "metadata": {
    "collapsed": true
   },
   "outputs": [],
   "source": [
    "import math\n",
    "Huuuuuuuuugest_palindrome = 1\n",
    "\n",
    "def Is_it_a_freaking_palindrome(num1, num2):\n",
    "    the_num = num1 * num2\n",
    "    num_len = len(str(the_num))\n",
    "    iterations = math.floor(num_len/2)\n",
    "    is_palindrome = True\n",
    "    num_str = str(the_num)\n",
    "    for i in range(0,iterations):\n",
    "        if num_str[i] != num_str[-1-i]:\n",
    "            is_palindrome = False\n",
    "    #if is_palindrome == True:\n",
    "    #    print('Found a palindrome {0} x {1} = {2}'.format(num1, num2, the_num))\n",
    "    return is_palindrome\n",
    "\n",
    "for i in range(100,1000):\n",
    "    for j in range(100,1000):\n",
    "        if Is_it_a_freaking_palindrome(i, j):\n",
    "            if i * j > Huuuuuuuuugest_palindrome:\n",
    "                Huuuuuuuuugest_palindrome = i * j\n",
    "\n",
    "\n",
    "print('Found the biggest palindrome {}'.format(Huuuuuuuuugest_palindrome))        \n",
    "\n",
    "# I created nested loops that test every product of 2 three digit numbers\n",
    "# Each of the inner loop calls a function that tests if it is a palindrome\n",
    "# If the number is a palindrome then it tests if the palindrome is bigger than the previous largest one\n",
    "# And saves it into a variable for output"
   ]
  },
  {
   "cell_type": "markdown",
   "metadata": {},
   "source": [
    "\n",
    "### Challenge 2: Summation of Primes\n",
    "The sum of the primes below 10 is 2 + 3 + 5 + 7 = 17. Find the sum of all the primes below 2,000. Afterward, write a brief explanation walking through your code's logic in markdown."
   ]
  },
  {
   "cell_type": "code",
   "execution_count": null,
   "metadata": {
    "collapsed": true
   },
   "outputs": [],
   "source": [
    "sum_of_primes = 0\n",
    "target = 12\n",
    "\n",
    "def is_prime(the_num):\n",
    "    if the_num == 2:\n",
    "        #print('Found a prime {}'.format(the_num))\n",
    "        return True\n",
    "    for i in range(2,the_num):\n",
    "        if(the_num % i == 0):\n",
    "            return False\n",
    "    #print('Found a prime {}'.format(the_num))\n",
    "    return True\n",
    "\n",
    "for num in range(2,target):\n",
    "    if is_prime(num):\n",
    "        sum_of_primes += num\n",
    "\n",
    "print('The sum is {}'.format(sum_of_primes))\n",
    "\n",
    "# The probram has a for loop that testes every number from 2 to the target\n",
    "# Each loops it tests if the number is a prime using a function to see if it should be added to the sum\n",
    "# The function determines if the number is a prime by seeing if any number below it can mod it and equal zero\n",
    "# At the end of the program, it displays the sum of all of the primes\n"
   ]
  },
  {
   "cell_type": "markdown",
   "metadata": {},
   "source": [
    "### Challenge 3: Multiples of 3 and 5\n",
    "If we list all of the natural numbers below 10 that are multiples of 3 or 5, we get 3, 5, 6, and 9. The sum of these multiples is 23. Find the sum of all the multiples of 3 and 5 below 1,000. Afterward, write a brief explanation walking through your code's logic in markdown."
   ]
  },
  {
   "cell_type": "code",
   "execution_count": null,
   "metadata": {
    "collapsed": true
   },
   "outputs": [],
   "source": [
    "def include_it(num):\n",
    "    if num % 3 == 0:\n",
    "        return True\n",
    "    if num % 5 == 0:\n",
    "        return True\n",
    "    return False\n",
    "\n",
    "the_cap = 1000\n",
    "num_sum = 0\n",
    "\n",
    "for i in range(1,the_cap):\n",
    "    if include_it(i):\n",
    "        num_sum += i\n",
    "        \n",
    "print('The sume of numbers that are below 1,000 and a multiple of 3 or 5 is {}'.format(num_sum))\n",
    "\n",
    "# The program sums all numbers that are multiples of 3 and 5 that are below 1,000\n",
    "# A for loop calls a function for avery number from 1 to 1000\n",
    "# The function returns true if num % 3 is zero or if num % 5 is zero, otherwise it returns false\n",
    "# If the function call returns true, then the number for the loop is added to the sume\n"
   ]
  },
  {
   "cell_type": "markdown",
   "metadata": {},
   "source": [
    "### Challenge 4: String Compressor\n",
    "Implement a method to perform basic string compression using the counts of repeated characters. (This is called run-length encoding.) For example, the string \"aabcccccaaa\" would become a2b1c5a3. If the “compressed” string would not become smaller than the original string, your method should return the original string. You can assume the string has only uppercase and lowercase letters (a–z). Specify whether your solution is case sensitive or case insensitive and what you would need to change to make it the other. Afterward, write a brief explanation walking through your code's logic in markdown."
   ]
  },
  {
   "cell_type": "code",
   "execution_count": null,
   "metadata": {
    "collapsed": true
   },
   "outputs": [],
   "source": [
    "input = \"aabcccccaaa\"\n",
    "\n",
    "def compress_it(the_string):\n",
    "    cur_char = ''\n",
    "    cur_char_count = 0\n",
    "    compress_string = ''\n",
    "    \n",
    "    for i in the_string:\n",
    "        #print(\"i is {} and chur_char is {}, chur_char_count is {}, and compressed string is {}\".format(i, cur_char, cur_char_count, compress_string))\n",
    "        if i == cur_char:\n",
    "            cur_char_count += 1\n",
    "        elif cur_char == '':\n",
    "            cur_char_count = 1\n",
    "            cur_char = i\n",
    "        else:\n",
    "            compress_string = compress_string + cur_char + str(cur_char_count)\n",
    "            cur_char_count = 1\n",
    "            cur_char = i\n",
    "    compress_string = compress_string + cur_char + str(cur_char_count)\n",
    "    return compress_string\n",
    "        \n",
    "\n",
    "print(\"The compressed string of {0} is {1}\".format(input,compress_it(input)))\n",
    "\n",
    "# The compress_it function compresses the string\n",
    "# A for loop iterates over the string and checks if current char is the same as the previous one\n",
    "# If it is the same then it adds to a counter until the char changes\n",
    "# When the char changes, then the prvious char is stored int he compressed string and the number of times it\n",
    "# appeared in the input string is added too\n",
    "# My program is case sensitive"
   ]
  },
  {
   "cell_type": "markdown",
   "metadata": {},
   "source": [
    "### *BONUS* Challenge: FizzBuzz\n",
    "Write a program that prints all of the numbers from 1 to 100. For multiples of 3, instead of the number, print \"Fizz;\" for multiples of 5, print \"Buzz.\" For numbers that are multiples of both 3 and 5, print \"FizzBuzz.\" Afterward, write a brief explanation walking through your code's logic in markdown."
   ]
  },
  {
   "cell_type": "code",
   "execution_count": null,
   "metadata": {
    "collapsed": true
   },
   "outputs": [],
   "source": [
    "for i in range(1,101):\n",
    "    output = ''\n",
    "    if i % 3 == 0:\n",
    "        output = output + \"Fizz\"\n",
    "    if i % 5 == 0:\n",
    "        output = output + \"Buzz\"\n",
    "    if output == '':\n",
    "        output = i\n",
    "    print(output)\n",
    "\n",
    "# A for loop iterates from 1 to 100\n",
    "# If the current number is divisible by 3 then it adds Fizz to a string\n",
    "# If the current number is dvisible by five then it adds Buzz to a string\n",
    "# If the string is empty then the current number is stored in the string and then it outputs the strong\n",
    "# I designed it so there would not be nested ifs or multpile print statements so it would be as simple as possible"
   ]
  }
 ],
 "metadata": {
  "anaconda-cloud": {},
  "kernelspec": {
   "display_name": "Python 3",
   "language": "python",
   "name": "python3"
  },
  "language_info": {
   "codemirror_mode": {
    "name": "ipython",
    "version": 3
   },
   "file_extension": ".py",
   "mimetype": "text/x-python",
   "name": "python",
   "nbconvert_exporter": "python",
   "pygments_lexer": "ipython3",
   "version": "3.7.3"
  }
 },
 "nbformat": 4,
 "nbformat_minor": 2
}
