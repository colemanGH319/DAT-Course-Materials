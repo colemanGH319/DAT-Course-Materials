{
 "cells": [
  {
   "cell_type": "markdown",
   "metadata": {},
   "source": [
    "<img src=\"http://imgur.com/1ZcRyrc.png\" style=\"float: left; margin: 20px; height: 55px\">\n",
    "\n",
    "# Project 1: Python Coding Exercises\n",
    "\n",
    "_Authors: Joseph Nelson (DC) _\n",
    "\n",
    "---"
   ]
  },
  {
   "cell_type": "markdown",
   "metadata": {},
   "source": [
    "The following code challenges are drawn from common exercises used in technical interviews.\n",
    "\n",
    "Please note that there may be several ways to approach each challenge. If you get stuck, try mapping out your approach in pseudocode first. Finally, while solutions to problems like these may be found online, remember that if you copy/paste code that you can't explain, you'll be missing out on the point of the project. The only way to truly learn a new skill is through practice, trial, and error - we can only help you improve by understanding where you are having trouble."
   ]
  },
  {
   "cell_type": "markdown",
   "metadata": {},
   "source": [
    "### Challenge 1: Largest Palindrome\n",
    "A palindromic number reads the same both ways. For example, 1234321 is a palindrome. The largest palindrome made from the product of two two-digit numbers is 9009 = 91 × 99. Find the largest palindrome made from the product of two three-digit numbers. Afterward, write a brief explanation walking through your code's logic in markdown."
   ]
  },
  {
   "cell_type": "code",
   "execution_count": 149,
   "metadata": {},
   "outputs": [
    {
     "name": "stdout",
     "output_type": "stream",
     "text": [
      "906609\n"
     ]
    }
   ],
   "source": [
    "def palindrome(num):\n",
    "    return str(num) == str(num)[::-1]\n",
    "\n",
    "def largest_p(start, stop):\n",
    "    max_p = 0\n",
    "    for x in range(start, stop):\n",
    "        for y in range(start, stop):\n",
    "            if palindrome(x*y):\n",
    "                if x*y > max_p:\n",
    "                    max_p = x*y\n",
    "    return max_p\n",
    "\n",
    "print(largest_p(100, 1000))\n",
    "\n",
    "# First, I created two functions, one (\"palindrome\") to define what a palindrome number is, and the other (\"largest_p\")\n",
    "# to define the largest polindrome possible within a range of numbers \"start\" and \"stop\". \n",
    "# In the latter, I included a variable that will encompass the largest palindrome value and opened two for loops to \n",
    "# evaluate the numbers to be multiplied (\"x\" and \"y\") and an if statement to indicate that only palindrome numbers will be \n",
    "# considered. I then created a furhter if statement to make sure I'd get the highest palindrome posible. \n",
    "# Finally, I called the function in the range that includes all three-digit numbers (100 to 999). "
   ]
  },
  {
   "cell_type": "markdown",
   "metadata": {},
   "source": [
    "\n",
    "### Challenge 2: Summation of Primes\n",
    "The sum of the primes below 10 is 2 + 3 + 5 + 7 = 17. Find the sum of all the primes below 2,000. Afterward, write a brief explanation walking through your code's logic in markdown."
   ]
  },
  {
   "cell_type": "code",
   "execution_count": 52,
   "metadata": {},
   "outputs": [
    {
     "name": "stdout",
     "output_type": "stream",
     "text": [
      "277050\n"
     ]
    }
   ],
   "source": [
    "def prime_num(n):\n",
    "    not_prime = set()\n",
    "    for i in range (2, n+1):\n",
    "        if i not in not_prime:\n",
    "            yield i\n",
    "            not_prime.update(range(i*i, n+1, i))\n",
    "\n",
    "primes = 0\n",
    "range_test = prime_num(2000)\n",
    "for x in range_test:\n",
    "    primes = int(x) + primes\n",
    "    \n",
    "print(primes)\n",
    "\n",
    "# To start, I created a function to set what a prime number is: it includes a for loop that contains all numbers between\n",
    "# 2 and n, and an if statement to indicate what to do if a number is not prime: add it to the \"not prime\" variable in a range\n",
    "# that starts at \"i*i\", stops at \"n+1\", in steps of \"i.\"\n",
    "# Then, it's time to sum all primes up: I created the variable \"primes\", and called the \"prime_num\" function on the 2000 \n",
    "# range, with a for loop to include prime values in the \"primes\" variable. "
   ]
  },
  {
   "cell_type": "markdown",
   "metadata": {},
   "source": [
    "### Challenge 3: Multiples of 3 and 5\n",
    "If we list all of the natural numbers below 10 that are multiples of 3 or 5, we get 3, 5, 6, and 9. The sum of these multiples is 23. Find the sum of all the multiples of 3 and 5 below 1,000. Afterward, write a brief explanation walking through your code's logic in markdown."
   ]
  },
  {
   "cell_type": "code",
   "execution_count": 91,
   "metadata": {},
   "outputs": [
    {
     "name": "stdout",
     "output_type": "stream",
     "text": [
      "233168\n"
     ]
    }
   ],
   "source": [
    "mult_sum = 0\n",
    "for i in range(1, 1000):\n",
    "    if i % 3 == 0 or i % 5 == 0:\n",
    "        mult_sum = mult_sum + i\n",
    "print(mult_sum)\n",
    "\n",
    "# After creating the \"mult_sum\" variable, I opened a for loop for the range of numbers below 1,000 and started an if\n",
    "# statement to include the criteria of being a multiple of 3 or a multiple of 5 which, if met by a number, would be\n",
    "# added to the mult_sum variable. "
   ]
  },
  {
   "cell_type": "markdown",
   "metadata": {},
   "source": [
    "### Challenge 4: String Compressor\n",
    "Implement a method to perform basic string compression using the counts of repeated characters. (This is called run-length encoding.) For example, the string \"aabcccccaaa\" would become a2b1c5a3. If the “compressed” string would not become smaller than the original string, your method should return the original string. You can assume the string has only uppercase and lowercase letters (a–z). Specify whether your solution is case sensitive or case insensitive and what you would need to change to make it the other. Afterward, write a brief explanation walking through your code's logic in markdown."
   ]
  },
  {
   "cell_type": "code",
   "execution_count": 151,
   "metadata": {},
   "outputs": [
    {
     "name": "stdout",
     "output_type": "stream",
     "text": [
      "[('a', 2), ('b', 1), ('c', 5), ('a', 3)]\n"
     ]
    }
   ],
   "source": [
    "def encoding(string):\n",
    "    count = 1\n",
    "    prev = ''\n",
    "    lst = []\n",
    "    for character in string:\n",
    "        if character != prev:\n",
    "            if prev:\n",
    "                entry = (prev,count)\n",
    "                lst.append(entry)\n",
    "            count = 1\n",
    "            prev = character\n",
    "        else:\n",
    "            count += 1\n",
    "    else:\n",
    "        try:\n",
    "            entry = (character,count)\n",
    "            lst.append(entry)\n",
    "            return (lst, 0)\n",
    "        except Exception as e:\n",
    "            print(\"Exception at {e}\".format(e=e)) \n",
    "            return (e, 1)\n",
    " \n",
    "def decoding(lst):\n",
    "    q = \"\"\n",
    "    for character, count in lst:\n",
    "        q += character * count\n",
    "    return q\n",
    " \n",
    "value = encoding(\"aabcccccaaa\")\n",
    "if value[1] == 0:\n",
    "    print(str(value[0]))\n",
    "    decoding(value[0])\n",
    "    \n",
    "    \n",
    "# I created the \"encode\" function, with three different variables: \"count\", \"prev\" and \"lst\". Then, I opened a for loop for\n",
    "# characters in the argument with an if and else statement: if, to differentiate between repeated and different characters\n",
    "# (if characters are repeated, they are summed in the final count, otherwise, a new category is created), and an else \n",
    "# statement for exceptions. \n",
    "# The next function indicates what to do with the string as a whole, including the format which it will take. \n",
    "# Finally, I called both functions with any given string.\n",
    "# The method is case sensitive. "
   ]
  },
  {
   "cell_type": "markdown",
   "metadata": {},
   "source": [
    "### *BONUS* Challenge: FizzBuzz\n",
    "Write a program that prints all of the numbers from 1 to 100. For multiples of 3, instead of the number, print \"Fizz;\" for multiples of 5, print \"Buzz.\" For numbers that are multiples of both 3 and 5, print \"FizzBuzz.\" Afterward, write a brief explanation walking through your code's logic in markdown."
   ]
  },
  {
   "cell_type": "code",
   "execution_count": 53,
   "metadata": {
    "scrolled": true
   },
   "outputs": [
    {
     "name": "stdout",
     "output_type": "stream",
     "text": [
      "1\n",
      "2\n",
      "Fizz\n",
      "4\n",
      "Buzz\n",
      "Fizz\n",
      "7\n",
      "8\n",
      "Fizz\n",
      "Buzz\n",
      "11\n",
      "Fizz\n",
      "13\n",
      "14\n",
      "FizzBuzz\n",
      "16\n",
      "17\n",
      "Fizz\n",
      "19\n",
      "Buzz\n",
      "Fizz\n",
      "22\n",
      "23\n",
      "Fizz\n",
      "Buzz\n",
      "26\n",
      "Fizz\n",
      "28\n",
      "29\n",
      "FizzBuzz\n",
      "31\n",
      "32\n",
      "Fizz\n",
      "34\n",
      "Buzz\n",
      "Fizz\n",
      "37\n",
      "38\n",
      "Fizz\n",
      "Buzz\n",
      "41\n",
      "Fizz\n",
      "43\n",
      "44\n",
      "FizzBuzz\n",
      "46\n",
      "47\n",
      "Fizz\n",
      "49\n",
      "Buzz\n",
      "Fizz\n",
      "52\n",
      "53\n",
      "Fizz\n",
      "Buzz\n",
      "56\n",
      "Fizz\n",
      "58\n",
      "59\n",
      "FizzBuzz\n",
      "61\n",
      "62\n",
      "Fizz\n",
      "64\n",
      "Buzz\n",
      "Fizz\n",
      "67\n",
      "68\n",
      "Fizz\n",
      "Buzz\n",
      "71\n",
      "Fizz\n",
      "73\n",
      "74\n",
      "FizzBuzz\n",
      "76\n",
      "77\n",
      "Fizz\n",
      "79\n",
      "Buzz\n",
      "Fizz\n",
      "82\n",
      "83\n",
      "Fizz\n",
      "Buzz\n",
      "86\n",
      "Fizz\n",
      "88\n",
      "89\n",
      "FizzBuzz\n",
      "91\n",
      "92\n",
      "Fizz\n",
      "94\n",
      "Buzz\n",
      "Fizz\n",
      "97\n",
      "98\n",
      "Fizz\n",
      "Buzz\n"
     ]
    }
   ],
   "source": [
    "for i in range(1, 101):\n",
    "    if i % 3 == 0:\n",
    "        if i % 5 == 0:\n",
    "            print(\"FizzBuzz\")\n",
    "        else:\n",
    "            print(\"Fizz\")\n",
    "    elif i % 5 == 0:\n",
    "        print(\"Buzz\")\n",
    "    else:\n",
    "        print(i)\n",
    "        \n",
    "# First, I created a for loop for all values within the range 1 to 100; I then opened an if statement for multiples of 3 \n",
    "# with a further if statement that included multiples of 5 for the \"FizzBuzz\" category, if the number isn't divisible by 3,\n",
    "# then \"Fizz\" is printed. Afterwards, I made an elif statement for multiples of 5 for the \"Buzz\" category, and lastly, an \n",
    "# else statement, to print all numbers outside the parameters."
   ]
  }
 ],
 "metadata": {
  "anaconda-cloud": {},
  "kernelspec": {
   "display_name": "Python 3",
   "language": "python",
   "name": "python3"
  },
  "language_info": {
   "codemirror_mode": {
    "name": "ipython",
    "version": 3
   },
   "file_extension": ".py",
   "mimetype": "text/x-python",
   "name": "python",
   "nbconvert_exporter": "python",
   "pygments_lexer": "ipython3",
   "version": "3.7.3"
  }
 },
 "nbformat": 4,
 "nbformat_minor": 2
}
