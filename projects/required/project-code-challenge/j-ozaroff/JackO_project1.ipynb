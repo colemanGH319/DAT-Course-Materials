{
 "cells": [
  {
   "cell_type": "markdown",
   "metadata": {},
   "source": [
    "<img src=\"http://imgur.com/1ZcRyrc.png\" style=\"float: left; margin: 20px; height: 55px\">\n",
    "\n",
    "# Project 1: Python Coding Exercises\n",
    "\n",
    "_Authors: Joseph Nelson (DC) _\n",
    "\n",
    "---"
   ]
  },
  {
   "cell_type": "markdown",
   "metadata": {},
   "source": [
    "The following code challenges are drawn from common exercises used in technical interviews.\n",
    "\n",
    "Please note that there may be several ways to approach each challenge. If you get stuck, try mapping out your approach in pseudocode first. Finally, while solutions to problems like these may be found online, remember that if you copy/paste code that you can't explain, you'll be missing out on the point of the project. The only way to truly learn a new skill is through practice, trial, and error - we can only help you improve by understanding where you are having trouble."
   ]
  },
  {
   "cell_type": "markdown",
   "metadata": {},
   "source": [
    "### Challenge 1: Largest Palindrome\n",
    "A palindromic number reads the same both ways. For example, 1234321 is a palindrome. The largest palindrome made from the product of two two-digit numbers is 9009 = 91 × 99. Find the largest palindrome made from the product of two three-digit numbers. Afterward, write a brief explanation walking through your code's logic in markdown."
   ]
  },
  {
   "cell_type": "code",
   "execution_count": 7,
   "metadata": {},
   "outputs": [
    {
     "name": "stdout",
     "output_type": "stream",
     "text": [
      "The largest Palindrome is: 836.0 = 698896\n"
     ]
    }
   ],
   "source": [
    "# This code returns the largest palindrome resulting from three digits. I began by importing math so that I could use it to take\n",
    "# a square root in my final line. I defined palindromes as a list to append all palindromes to. I could then start my for\n",
    "# statement. My range was defined as 100 to 1000 meaning that I called 100-999 so all three digit number within that range.\n",
    "# I then defined variables: i which was the result of i*i, str_i defines the i variable as a string so that I can slice it,\n",
    "# begin is the slice of the first 3 digits, and end is the reverse of the last 3. This is followed by my for loop which tests if\n",
    "# begin = end. If this is true then the palindrome list is appended with i. If it is false the loop is continued for the next\n",
    "# value in the range. My final line prints the largest palindrome from the list and records with number it is from.\n",
    "\n",
    "import math\n",
    "palindromes = []\n",
    "\n",
    "for num in range(100, 1000):\n",
    "  i = num ** 2\n",
    "  str_i = str(i)\n",
    "  begin = str_i[0:3]\n",
    "  end = str_i[::-1][0:3]\n",
    "  if begin == end:\n",
    "    palindromes.append(i)\n",
    "  else:\n",
    "    continue\n",
    "print('The largest Palindrome is:', math.sqrt(max(palindromes)), '=', max(palindromes))"
   ]
  },
  {
   "cell_type": "markdown",
   "metadata": {},
   "source": [
    "\n",
    "### Challenge 2: Summation of Primes\n",
    "The sum of the primes below 10 is 2 + 3 + 5 + 7 = 17. Find the sum of all the primes below 2,000. Afterward, write a brief explanation walking through your code's logic in markdown."
   ]
  },
  {
   "cell_type": "code",
   "execution_count": 20,
   "metadata": {},
   "outputs": [
    {
     "name": "stdout",
     "output_type": "stream",
     "text": [
      "The sum of all primes below 2000 is: 277050\n"
     ]
    }
   ],
   "source": [
    "#The following code will sum all primes below 2000. I began by creating a for loop through 2000. Next I created a list called \n",
    "#divide that would contain all numbers that would contain numbers that divide \"i\". I then created a for loop that would divide\n",
    "#\"i\" by all numbers below and including itself. If the modulus returned zero, meaning the number has no remainder, the divide\n",
    "#list is appended with it. If the modulus is not the for loop is continued. Once the for loop is complete, the length of the\n",
    "#divide list is tested. I'm looking for the divide list to have a length of two. This means that the number I'm testing is \n",
    "#only divisible, with no remainder, by one and itself. In other words the number is prime.\n",
    "\n",
    "primes =[]\n",
    "\n",
    "for i in range(2000):\n",
    "  divide =[]\n",
    "  for num in range(1, i+1):\n",
    "    if i % num == 0:\n",
    "      divide.append(num)\n",
    "    else:\n",
    "      continue\n",
    "  if len(divide) == 2:\n",
    "    primes.append(i)\n",
    "\n",
    "#print(primes)\n",
    "print('The sum of all primes below 2000 is:', sum(primes))"
   ]
  },
  {
   "cell_type": "markdown",
   "metadata": {},
   "source": [
    "### Challenge 3: Multiples of 3 and 5\n",
    "If we list all of the natural numbers below 10 that are multiples of 3 or 5, we get 3, 5, 6, and 9. The sum of these multiples is 23. Find the sum of all the multiples of 3 and 5 below 1,000. Afterward, write a brief explanation walking through your code's logic in markdown."
   ]
  },
  {
   "cell_type": "code",
   "execution_count": 11,
   "metadata": {},
   "outputs": [
    {
     "name": "stdout",
     "output_type": "stream",
     "text": [
      "233168\n"
     ]
    }
   ],
   "source": [
    "#First I created an empty list to append numbers divisble by 3 or 5 to. I created a for loop that looped through numbers\n",
    "#up to but not including 1000. Next, the if loop tests to see if the number is divisble by either three or five with no\n",
    "# remainder. If either of those cases are true the number is appended to list divide. At the end the loop I print the sum of\n",
    "# the divide list.\n",
    "\n",
    "divide = []\n",
    "\n",
    "for i in range(1000):\n",
    "  if i % 3 == 0 or i % 5 == 0:\n",
    "    divide.append(i)\n",
    "print(sum(divide))"
   ]
  },
  {
   "cell_type": "markdown",
   "metadata": {},
   "source": [
    "### Challenge 4: String Compressor\n",
    "Implement a method to perform basic string compression using the counts of repeated characters. (This is called run-length encoding.) For example, the string \"aabcccccaaa\" would become a2b1c5a3. If the “compressed” string would not become smaller than the original string, your method should return the original string. You can assume the string has only uppercase and lowercase letters (a–z). Specify whether your solution is case sensitive or case insensitive and what you would need to change to make it the other. Afterward, write a brief explanation walking through your code's logic in markdown."
   ]
  },
  {
   "cell_type": "code",
   "execution_count": 35,
   "metadata": {},
   "outputs": [
    {
     "name": "stdout",
     "output_type": "stream",
     "text": [
      "a2b2c2d2\n"
     ]
    }
   ],
   "source": [
    "def compress(string):\n",
    "    result = \"\"\n",
    "    count = 1\n",
    "    result += string[0]\n",
    "    \n",
    "    for i in range(len(string)-1):\n",
    "        if(string[i] == string[i+1]):\n",
    "            count+=1\n",
    "        else:\n",
    "            if(count > 1):\n",
    "                result += str(count)\n",
    "            result += string[i+1]\n",
    "            count = 1\n",
    "    if(count > 1):\n",
    "        result += str(count)\n",
    "    if len(string) < len(result):\n",
    "        print(string)\n",
    "    else:\n",
    "        print(result)\n",
    "\n",
    "compress('aabbccdd')"
   ]
  },
  {
   "cell_type": "markdown",
   "metadata": {},
   "source": [
    "### *BONUS* Challenge: FizzBuzz\n",
    "Write a program that prints all of the numbers from 1 to 100. For multiples of 3, instead of the number, print \"Fizz;\" for multiples of 5, print \"Buzz.\" For numbers that are multiples of both 3 and 5, print \"FizzBuzz.\" Afterward, write a brief explanation walking through your code's logic in markdown."
   ]
  },
  {
   "cell_type": "code",
   "execution_count": null,
   "metadata": {
    "collapsed": true
   },
   "outputs": [],
   "source": [
    "\n",
    "for i in range(101):\n",
    "  if i%3 == 0:\n",
    "    if i%5 == 0:\n",
    "      print('FizzBuzz')\n",
    "    else:\n",
    "      print('Fizz')\n",
    "  elif i%5 == 0:\n",
    "    print('Buzz')\n",
    "  else:\n",
    "    print(i)"
   ]
  }
 ],
 "metadata": {
  "anaconda-cloud": {},
  "kernelspec": {
   "display_name": "Python 3",
   "language": "python",
   "name": "python3"
  },
  "language_info": {
   "codemirror_mode": {
    "name": "ipython",
    "version": 3
   },
   "file_extension": ".py",
   "mimetype": "text/x-python",
   "name": "python",
   "nbconvert_exporter": "python",
   "pygments_lexer": "ipython3",
   "version": "3.7.3"
  }
 },
 "nbformat": 4,
 "nbformat_minor": 2
}
