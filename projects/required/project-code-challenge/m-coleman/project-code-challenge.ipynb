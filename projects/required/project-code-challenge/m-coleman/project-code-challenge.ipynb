{
 "cells": [
  {
   "cell_type": "markdown",
   "metadata": {},
   "source": [
    "<img src=\"http://imgur.com/1ZcRyrc.png\" style=\"float: left; margin: 20px; height: 55px\">\n",
    "\n",
    "# Project 1: Python Coding Exercises\n",
    "\n",
    "_Authors: Joseph Nelson (DC) _\n",
    "\n",
    "---"
   ]
  },
  {
   "cell_type": "markdown",
   "metadata": {},
   "source": [
    "The following code challenges are drawn from common exercises used in technical interviews.\n",
    "\n",
    "Please note that there may be several ways to approach each challenge. If you get stuck, try mapping out your approach in pseudocode first. Finally, while solutions to problems like these may be found online, remember that if you copy/paste code that you can't explain, you'll be missing out on the point of the project. The only way to truly learn a new skill is through practice, trial, and error - we can only help you improve by understanding where you are having trouble."
   ]
  },
  {
   "cell_type": "markdown",
   "metadata": {},
   "source": [
    "### Challenge 1: Largest Palindrome\n",
    "A palindromic number reads the same both ways. For example, 1234321 is a palindrome. The largest palindrome made from the product of two two-digit numbers is 9009 = 91 × 99. Find the largest palindrome made from the product of two three-digit numbers. Afterward, write a brief explanation walking through your code's logic in markdown."
   ]
  },
  {
   "cell_type": "code",
   "execution_count": 18,
   "metadata": {},
   "outputs": [
    {
     "name": "stdout",
     "output_type": "stream",
     "text": [
      "True\n",
      "True\n",
      "False\n",
      "True\n"
     ]
    }
   ],
   "source": [
    "# Create an algorithm for determining whether a number is a palindrome. The number will have\n",
    "# to be represented as a string so that we can slice digits off.\n",
    "def is_palindrome(num:str):\n",
    "    \"\"\"Variable 'num' must be converted to a string prior to passing as argument.\"\"\"\n",
    "    length = len(num)\n",
    "    if length == 1:\n",
    "        return True\n",
    "    if num[0] == num[-1]:\n",
    "        if length == 2:\n",
    "            return True\n",
    "        return is_palindrome(num[1:length-1])\n",
    "    return False\n",
    "\n",
    "# Test it out on a few cases\n",
    "print(is_palindrome('1234321'))\n",
    "print(is_palindrome('55555'))\n",
    "print(is_palindrome('463582'))\n",
    "print(is_palindrome('9090909'))"
   ]
  },
  {
   "cell_type": "code",
   "execution_count": 19,
   "metadata": {},
   "outputs": [
    {
     "name": "stdout",
     "output_type": "stream",
     "text": [
      "906609\n"
     ]
    }
   ],
   "source": [
    "products = []\n",
    "for i in range(999,99,-1):\n",
    "    for j in range(i,99,-1):\n",
    "        products.append(i*j)\n",
    "palindromes = filter(is_palindrome, map(str, products))\n",
    "print(max(list(map(int, palindromes))))"
   ]
  },
  {
   "cell_type": "code",
   "execution_count": 28,
   "metadata": {
    "scrolled": true
   },
   "outputs": [
    {
     "name": "stdout",
     "output_type": "stream",
     "text": [
      "906609\n"
     ]
    }
   ],
   "source": [
    "print(913 * 993)"
   ]
  },
  {
   "cell_type": "markdown",
   "metadata": {},
   "source": [
    "#### The logic for the above solution:\n",
    "\n",
    "1. First we need a helper function that tests whether or not an integer is a palindrome. To the best of my knowledge, an integer needs to be converted to a string in order to conduct this test. The helper function tests whether the first and last characters of the string are equivalent and returns 'False' if not; otherwise the function will slice off the first and last characters and make a recursive call of itself on the remaining substring until there are no characters left to test, in which case 'True' is returned.\n",
    "\n",
    "2. Once the function is working, we can create an array of all products of two 3-digit numbers by looping over all integers from 999 to 100 in two separate variables, calculating their products and appending those results to the array. Note that in the above loop we avoid calculating any of the products twice, because 923 * 765 == 765 * 923.\n",
    "\n",
    "3. The next line is calling two functions: map, which converts the array 'products' from integers to strings; and filter, which takes that converted list and returns only the items that pass the palindrome test.\n",
    "\n",
    "4. Finally, use the map function to convert the palindromes back to integers, put the map object back in list format, call the max function and print the result."
   ]
  },
  {
   "cell_type": "markdown",
   "metadata": {},
   "source": [
    "\n",
    "### Challenge 2: Summation of Primes\n",
    "The sum of the primes below 10 is 2 + 3 + 5 + 7 = 17. Find the sum of all the primes below 2,000. Afterward, write a brief explanation walking through your code's logic in markdown."
   ]
  },
  {
   "cell_type": "code",
   "execution_count": 34,
   "metadata": {},
   "outputs": [
    {
     "name": "stdout",
     "output_type": "stream",
     "text": [
      "277050\n"
     ]
    }
   ],
   "source": [
    "primes = [2]\n",
    "for i in range(3, 2000):\n",
    "    divisors = list(map(lambda x: i % x == 0, primes))\n",
    "    if sum(divisors) == 0:\n",
    "        primes.append(i)\n",
    "print(sum(primes))"
   ]
  },
  {
   "cell_type": "markdown",
   "metadata": {},
   "source": [
    "#### Here is the logic for this one:\n",
    "\n",
    "It is possible to build a list of prime numbers in ascending order by iterating over the integers up to 2,000, testing whether they are divisible by the existing list of primes and adding them to the list if they aren't. The only thing we need is a \"starter list\", which just needs the first prime: 2.\n",
    "\n",
    "Once we have the list of all primes below 2,000 we print the sum."
   ]
  },
  {
   "cell_type": "markdown",
   "metadata": {},
   "source": [
    "### Challenge 3: Multiples of 3 and 5\n",
    "If we list all of the natural numbers below 10 that are multiples of 3 or 5, we get 3, 5, 6, and 9. The sum of these multiples is 23. Find the sum of all the multiples of 3 and 5 below 1,000. Afterward, write a brief explanation walking through your code's logic in markdown."
   ]
  },
  {
   "cell_type": "code",
   "execution_count": 37,
   "metadata": {},
   "outputs": [
    {
     "name": "stdout",
     "output_type": "stream",
     "text": [
      "33165\n"
     ]
    }
   ],
   "source": [
    "# Assuming the prompt is intentionally asking from the sum of multiples of 3 AND 5\n",
    "# (which is also just the sum of multiples of 15), the solution would be this:\n",
    "total = 0\n",
    "for i in range(15, 1000, 15):\n",
    "    total += i\n",
    "print(total)"
   ]
  },
  {
   "cell_type": "code",
   "execution_count": 38,
   "metadata": {},
   "outputs": [
    {
     "name": "stdout",
     "output_type": "stream",
     "text": [
      "234168\n"
     ]
    }
   ],
   "source": [
    "# If the prompt is asking for the sum of multiples of 3 OR 5, per the logic in the example,\n",
    "# We would do this:\n",
    "total = 0\n",
    "for i in range(3, 1001):\n",
    "    if i % 3 == 0 or i % 5 == 0:\n",
    "        total += i\n",
    "print(total)"
   ]
  },
  {
   "cell_type": "markdown",
   "metadata": {},
   "source": [
    "#### Logic:\n",
    "The instructions left room for ambiguity, so I solved for two scenarios: \n",
    "1. The case where we're summing all integers that are divisible by 3 *and* 5\n",
    "2. The case where we're summing all integers that are divisible by 3 *or* 5, which is what the prompt was doing.\n",
    "\n",
    "At any rate, we simply iterate over the integers up to and including 1,000 and test these conditions using the modulo operator. In scenario 1, I took a shortcut because any integer that is divisible by 3 *and* 5 is also divisible by 15, so I just summed all the integers from 15 to 1000 in strides of 15."
   ]
  },
  {
   "cell_type": "markdown",
   "metadata": {},
   "source": [
    "### Challenge 4: String Compressor\n",
    "Implement a method to perform basic string compression using the counts of repeated characters. (This is called run-length encoding.) For example, the string \"aabcccccaaa\" would become a2b1c5a3. If the “compressed” string would not become smaller than the original string, your method should return the original string. You can assume the string has only uppercase and lowercase letters (a–z). Specify whether your solution is case sensitive or case insensitive and what you would need to change to make it the other. Afterward, write a brief explanation walking through your code's logic in markdown."
   ]
  },
  {
   "cell_type": "code",
   "execution_count": 48,
   "metadata": {},
   "outputs": [
    {
     "data": {
      "text/plain": [
       "'a2b1c5a3'"
      ]
     },
     "execution_count": 48,
     "metadata": {},
     "output_type": "execute_result"
    }
   ],
   "source": [
    "def string_compressor(string):\n",
    "    count = 1\n",
    "    str_counts = []\n",
    "    for i in range(len(string)):\n",
    "        letter = string[i]\n",
    "        try:\n",
    "            next_letter = string[i + 1]\n",
    "            if letter == next_letter:\n",
    "                count += 1\n",
    "            else:\n",
    "                str_counts.append(letter + str(count))\n",
    "                count = 1\n",
    "        except IndexError:\n",
    "            str_counts.append(letter + str(count))\n",
    "    return ''.join(str_counts)\n",
    "\n",
    "string_compressor('aabcccccaaa')"
   ]
  },
  {
   "cell_type": "markdown",
   "metadata": {},
   "source": [
    "The current solution is case sensitive.\n",
    "\n",
    "#### Logic:\n",
    "\n",
    "The string_compressor function uses a counter to keep track of the number of consecutive repeated characters and an \n",
    "array to store the characters and their respective counts. We iterate over the string with a for loop, identifying the letter at the current index position as well as the next letter. This part needs to be wrapped in a try-except to prevent indexing errors caused by attempting to get the next letter at the end of the string.\n",
    "\n",
    "As long as the current index is not at the end of the string, check to see if the current letter is the same as the next one. If this is True, increment the count of repeated letters. If not, append that letter and its count to the array and reset the count to 1. Finally, we return the concatenated array of characters and counts."
   ]
  },
  {
   "cell_type": "markdown",
   "metadata": {},
   "source": [
    "### *BONUS* Challenge: FizzBuzz\n",
    "Write a program that prints all of the numbers from 1 to 100. For multiples of 3, instead of the number, print \"Fizz;\" for multiples of 5, print \"Buzz.\" For numbers that are multiples of both 3 and 5, print \"FizzBuzz.\" Afterward, write a brief explanation walking through your code's logic in markdown."
   ]
  },
  {
   "cell_type": "code",
   "execution_count": 50,
   "metadata": {},
   "outputs": [
    {
     "name": "stdout",
     "output_type": "stream",
     "text": [
      "1\n",
      "2\n",
      "Fizz\n",
      "4\n",
      "Buzz\n",
      "Fizz\n",
      "7\n",
      "8\n",
      "Fizz\n",
      "Buzz\n",
      "11\n",
      "Fizz\n",
      "13\n",
      "14\n",
      "FizzBuzz\n",
      "16\n",
      "17\n",
      "Fizz\n",
      "19\n",
      "Buzz\n",
      "Fizz\n",
      "22\n",
      "23\n",
      "Fizz\n",
      "Buzz\n",
      "26\n",
      "Fizz\n",
      "28\n",
      "29\n",
      "FizzBuzz\n",
      "31\n",
      "32\n",
      "Fizz\n",
      "34\n",
      "Buzz\n",
      "Fizz\n",
      "37\n",
      "38\n",
      "Fizz\n",
      "Buzz\n",
      "41\n",
      "Fizz\n",
      "43\n",
      "44\n",
      "FizzBuzz\n",
      "46\n",
      "47\n",
      "Fizz\n",
      "49\n",
      "Buzz\n",
      "Fizz\n",
      "52\n",
      "53\n",
      "Fizz\n",
      "Buzz\n",
      "56\n",
      "Fizz\n",
      "58\n",
      "59\n",
      "FizzBuzz\n",
      "61\n",
      "62\n",
      "Fizz\n",
      "64\n",
      "Buzz\n",
      "Fizz\n",
      "67\n",
      "68\n",
      "Fizz\n",
      "Buzz\n",
      "71\n",
      "Fizz\n",
      "73\n",
      "74\n",
      "FizzBuzz\n",
      "76\n",
      "77\n",
      "Fizz\n",
      "79\n",
      "Buzz\n",
      "Fizz\n",
      "82\n",
      "83\n",
      "Fizz\n",
      "Buzz\n",
      "86\n",
      "Fizz\n",
      "88\n",
      "89\n",
      "FizzBuzz\n",
      "91\n",
      "92\n",
      "Fizz\n",
      "94\n",
      "Buzz\n",
      "Fizz\n",
      "97\n",
      "98\n",
      "Fizz\n",
      "Buzz\n"
     ]
    }
   ],
   "source": [
    "for i in range(1, 101):\n",
    "    if i % 3 == 0 and i % 5 == 0:\n",
    "        print(\"FizzBuzz\")\n",
    "    elif i % 5 == 0:\n",
    "        print(\"Buzz\")\n",
    "    elif i % 3 == 0:\n",
    "        print(\"Fizz\")\n",
    "    else:\n",
    "        print(i)"
   ]
  },
  {
   "cell_type": "markdown",
   "metadata": {},
   "source": [
    "#### The logic:\n",
    "\n",
    "Using the modulo operator and a for loop, we can iterate over all integers from 1 to 100 and figure out if they are:\n",
    "\n",
    "1. Divisible by 3 and 5 (print \"FizzBuzz\")\n",
    "2. Divisible by 5 (\"Buzz\")\n",
    "3. Divisible by 3 (\"Fizz\")\n",
    "4. None of the above (print the integer)\n"
   ]
  }
 ],
 "metadata": {
  "anaconda-cloud": {},
  "kernelspec": {
   "display_name": "Python 3",
   "language": "python",
   "name": "python3"
  },
  "language_info": {
   "codemirror_mode": {
    "name": "ipython",
    "version": 3
   },
   "file_extension": ".py",
   "mimetype": "text/x-python",
   "name": "python",
   "nbconvert_exporter": "python",
   "pygments_lexer": "ipython3",
   "version": "3.7.3"
  }
 },
 "nbformat": 4,
 "nbformat_minor": 2
}
