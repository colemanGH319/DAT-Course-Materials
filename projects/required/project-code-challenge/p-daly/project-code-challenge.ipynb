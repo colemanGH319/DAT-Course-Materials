{
 "cells": [
  {
   "cell_type": "markdown",
   "metadata": {},
   "source": [
    "<img src=\"http://imgur.com/1ZcRyrc.png\" style=\"float: left; margin: 20px; height: 55px\">\n",
    "\n",
    "# Project 1: Python Coding Exercises\n",
    "\n",
    "_Authors: Joseph Nelson (DC) _\n",
    "\n",
    "---"
   ]
  },
  {
   "cell_type": "markdown",
   "metadata": {},
   "source": [
    "The following code challenges are drawn from common exercises used in technical interviews.\n",
    "\n",
    "Please note that there may be several ways to approach each challenge. If you get stuck, try mapping out your approach in pseudocode first. Finally, while solutions to problems like these may be found online, remember that if you copy/paste code that you can't explain, you'll be missing out on the point of the project. The only way to truly learn a new skill is through practice, trial, and error - we can only help you improve by understanding where you are having trouble."
   ]
  },
  {
   "cell_type": "markdown",
   "metadata": {},
   "source": [
    "### Challenge 1: Largest Palindrome\n",
    "A palindromic number reads the same both ways. For example, 1234321 is a palindrome. The largest palindrome made from the product of two two-digit numbers is 9009 = 91 × 99. Find the largest palindrome made from the product of two three-digit numbers. Afterward, write a brief explanation walking through your code's logic in markdown."
   ]
  },
  {
   "cell_type": "code",
   "execution_count": 1,
   "metadata": {},
   "outputs": [
    {
     "data": {
      "text/plain": [
       "906609"
      ]
     },
     "execution_count": 1,
     "metadata": {},
     "output_type": "execute_result"
    }
   ],
   "source": [
    "counter = []\n",
    "for a in range(99,1000):\n",
    "    for b in range(99,1000):\n",
    "        c = str(a*b)\n",
    "        d = list([i for i in c])\n",
    "        if d[::1] == d[::-1]:\n",
    "            counter.append(int(c))\n",
    "counter.sort()\n",
    "counter[-1]"
   ]
  },
  {
   "cell_type": "markdown",
   "metadata": {},
   "source": [
    "#Go through each each three digit number starting at 100 and multiply it against all other three digits numbers\n",
    "\n",
    "#Each time taking the integer returned and saving it to a variable as a string\n",
    "\n",
    "#Break that string into single characters in a list\n",
    "\n",
    "#Compare that list to the itself reversed, if they match then it is a palindrome and is added to the list of palindromes,\n",
    "\n",
    "#print out the largest number"
   ]
  },
  {
   "cell_type": "markdown",
   "metadata": {},
   "source": [
    "\n",
    "### Challenge 2: Summation of Primes\n",
    "The sum of the primes below 10 is 2 + 3 + 5 + 7 = 17. Find the sum of all the primes below 2,000. Afterward, write a brief explanation walking through your code's logic in markdown."
   ]
  },
  {
   "cell_type": "code",
   "execution_count": 2,
   "metadata": {},
   "outputs": [
    {
     "name": "stdout",
     "output_type": "stream",
     "text": [
      "277050\n"
     ]
    }
   ],
   "source": [
    "primes = []\n",
    "\n",
    "for a in range(2,2001):\n",
    "    counter = 0\n",
    "    for b in range(2,a):\n",
    "        if(a%b) == 0:\n",
    "            counter += 1\n",
    "    if counter == 0:\n",
    "        primes.append(a)\n",
    "        \n",
    "\n",
    "print(sum(primes))"
   ]
  },
  {
   "cell_type": "markdown",
   "metadata": {},
   "source": [
    "#Create empty list \"primes\" \n",
    "#iterate through each number between 2 and 2000 \n",
    "#create variable counter and set to 0 \n",
    "#iterate through each number bewteen 2 and the iterator from initial loop \n",
    "#divide (modulo) the initial number by every number from 2 to itself, if it can be evenly divided add 1 to counter #if the nested loop completes and the counter is still 0 that number is a prime and is appended to the empy list initially created 7)When both for loop are done sum the list of primes"
   ]
  },
  {
   "cell_type": "markdown",
   "metadata": {},
   "source": [
    "### Challenge 3: Multiples of 3 and 5\n",
    "If we list all of the natural numbers below 10 that are multiples of 3 or 5, we get 3, 5, 6, and 9. The sum of these multiples is 23. Find the sum of all the multiples of 3 and 5 below 1,000. Afterward, write a brief explanation walking through your code's logic in markdown."
   ]
  },
  {
   "cell_type": "code",
   "execution_count": 3,
   "metadata": {},
   "outputs": [
    {
     "name": "stdout",
     "output_type": "stream",
     "text": [
      "267333\n"
     ]
    }
   ],
   "source": [
    "list = []\n",
    "for i in range(1,1001):\n",
    "    if i % 3 == 0:\n",
    "        list.append(i)\n",
    "    if i % 5 == 0:\n",
    "        list.append(i)\n",
    "\n",
    "print(sum(list))"
   ]
  },
  {
   "cell_type": "markdown",
   "metadata": {},
   "source": [
    "#Create an empty list\n",
    "\n",
    "#Iterate through all numbers below 1000\n",
    "\n",
    "#If divisible by 3 add to the list\n",
    "\n",
    "#If divisible by 5 add to the list\n",
    "\n",
    "#Sum the list\n",
    "\n",
    "#Note the instructions should be made clear if numbers that are divisble by both should be added twice or not (ie 15, 30 etc)"
   ]
  },
  {
   "cell_type": "markdown",
   "metadata": {},
   "source": [
    "### Challenge 4: String Compressor\n",
    "Implement a method to perform basic string compression using the counts of repeated characters. (This is called run-length encoding.) For example, the string \"aabcccccaaa\" would become a2b1c5a3. If the “compressed” string would not become smaller than the original string, your method should return the original string. You can assume the string has only uppercase and lowercase letters (a–z). Specify whether your solution is case sensitive or case insensitive and what you would need to change to make it the other. Afterward, write a brief explanation walking through your code's logic in markdown."
   ]
  },
  {
   "cell_type": "code",
   "execution_count": 7,
   "metadata": {},
   "outputs": [
    {
     "name": "stdout",
     "output_type": "stream",
     "text": [
      "abc\n"
     ]
    }
   ],
   "source": [
    "letters = 'aabcccccaaa'\n",
    "letters2 = 'abc'\n",
    "\n",
    "def comp(lst):\n",
    "    lst = [i.lower() for i in lst]\n",
    "    compd = []\n",
    "    counter = 0\n",
    "    for i in lst:\n",
    "        if len(compd) == 0:\n",
    "            compd.append(i)\n",
    "            counter += 1\n",
    "        elif i == compd[-1]:\n",
    "            counter += 1\n",
    "        elif i != compd[-1]:\n",
    "            if counter == 0:\n",
    "                counter +=1\n",
    "            compd.append(counter)\n",
    "            compd.append(i)\n",
    "            counter = 1\n",
    "    compd.append(counter)\n",
    "    compd = [str(i) for i in compd]\n",
    "    ncompd = ''\n",
    "    ncompd = ncompd.join(compd)\n",
    "    if len(ncompd) > len(lst):\n",
    "        nlst = ''\n",
    "        nlst = nlst.join(lst)\n",
    "        print(nlst)\n",
    "    else: print(ncompd)\n",
    "\n",
    "comp(letters2)"
   ]
  },
  {
   "cell_type": "markdown",
   "metadata": {},
   "source": [
    "#This would work for string that are lowercase, mixed case, or uppercase and return as all lowercase."
   ]
  },
  {
   "cell_type": "markdown",
   "metadata": {},
   "source": [
    "### *BONUS* Challenge: FizzBuzz\n",
    "Write a program that prints all of the numbers from 1 to 100. For multiples of 3, instead of the number, print \"Fizz;\" for multiples of 5, print \"Buzz.\" For numbers that are multiples of both 3 and 5, print \"FizzBuzz.\" Afterward, write a brief explanation walking through your code's logic in markdown."
   ]
  },
  {
   "cell_type": "code",
   "execution_count": 17,
   "metadata": {},
   "outputs": [
    {
     "name": "stdout",
     "output_type": "stream",
     "text": [
      "1\n",
      "2\n",
      "Fizz\n",
      "4\n",
      "Buzz\n",
      "Fizz\n",
      "7\n",
      "8\n",
      "Fizz\n",
      "Buzz\n",
      "11\n",
      "Fizz\n",
      "13\n",
      "14\n",
      "FizzBuzz\n",
      "16\n",
      "17\n",
      "Fizz\n",
      "19\n",
      "Buzz\n",
      "Fizz\n",
      "22\n",
      "23\n",
      "Fizz\n",
      "Buzz\n",
      "26\n",
      "Fizz\n",
      "28\n",
      "29\n",
      "FizzBuzz\n",
      "31\n",
      "32\n",
      "Fizz\n",
      "34\n",
      "Buzz\n",
      "Fizz\n",
      "37\n",
      "38\n",
      "Fizz\n",
      "Buzz\n",
      "41\n",
      "Fizz\n",
      "43\n",
      "44\n",
      "FizzBuzz\n",
      "46\n",
      "47\n",
      "Fizz\n",
      "49\n",
      "Buzz\n",
      "Fizz\n",
      "52\n",
      "53\n",
      "Fizz\n",
      "Buzz\n",
      "56\n",
      "Fizz\n",
      "58\n",
      "59\n",
      "FizzBuzz\n",
      "61\n",
      "62\n",
      "Fizz\n",
      "64\n",
      "Buzz\n",
      "Fizz\n",
      "67\n",
      "68\n",
      "Fizz\n",
      "Buzz\n",
      "71\n",
      "Fizz\n",
      "73\n",
      "74\n",
      "FizzBuzz\n",
      "76\n",
      "77\n",
      "Fizz\n",
      "79\n",
      "Buzz\n",
      "Fizz\n",
      "82\n",
      "83\n",
      "Fizz\n",
      "Buzz\n",
      "86\n",
      "Fizz\n",
      "88\n",
      "89\n",
      "FizzBuzz\n",
      "91\n",
      "92\n",
      "Fizz\n",
      "94\n",
      "Buzz\n",
      "Fizz\n",
      "97\n",
      "98\n",
      "Fizz\n",
      "Buzz\n"
     ]
    }
   ],
   "source": [
    "threes = [i for i in range(0,101) if i%3 == 0]\n",
    "fives = [i for i in range(0,101) if i%5 == 0]\n",
    "\n",
    "for i in range(1,101):\n",
    "    if i in threes and i in fives:\n",
    "        print('FizzBuzz')\n",
    "    elif i in threes:\n",
    "        print('Fizz')\n",
    "    elif i in fives:\n",
    "        print('Buzz')\n",
    "    else:\n",
    "        print(i)"
   ]
  },
  {
   "cell_type": "markdown",
   "metadata": {},
   "source": [
    "#Pretty straight forward - create a list of multiples of three, then another with the multiples of five\n",
    "#Loop through the range 1-100 and print the appropriate thing given inclusion in one, both, or none of the lists"
   ]
  }
 ],
 "metadata": {
  "anaconda-cloud": {},
  "kernelspec": {
   "display_name": "Python 3",
   "language": "python",
   "name": "python3"
  },
  "language_info": {
   "codemirror_mode": {
    "name": "ipython",
    "version": 3
   },
   "file_extension": ".py",
   "mimetype": "text/x-python",
   "name": "python",
   "nbconvert_exporter": "python",
   "pygments_lexer": "ipython3",
   "version": "3.7.3"
  }
 },
 "nbformat": 4,
 "nbformat_minor": 2
}
