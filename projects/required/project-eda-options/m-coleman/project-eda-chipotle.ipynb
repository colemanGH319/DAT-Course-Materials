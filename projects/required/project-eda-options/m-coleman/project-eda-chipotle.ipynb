{
 "cells": [
  {
   "cell_type": "markdown",
   "metadata": {},
   "source": [
    "<img src=\"http://imgur.com/1ZcRyrc.png\" style=\"float: left; margin: 20px; height: 55px\">\n",
    "\n",
    "# Project 2: Analyzing Chipotle Data\n",
    "\n",
    "_Author: Joseph Nelson (DC)_\n",
    "\n",
    "---"
   ]
  },
  {
   "cell_type": "markdown",
   "metadata": {},
   "source": [
    "For Project 2, you will complete a series of exercises exploring [order data from Chipotle](https://github.com/TheUpshot/chipotle), compliments of _The New York Times'_ \"The Upshot.\"\n",
    "\n",
    "For these exercises, you will conduct basic exploratory data analysis (Pandas not required) to understand the essentials of Chipotle's order data: how many orders are being made, the average price per order, how many different ingredients are used, etc. These allow you to practice business analysis skills while also becoming comfortable with Python."
   ]
  },
  {
   "cell_type": "markdown",
   "metadata": {},
   "source": [
    "---\n",
    "\n",
    "## Basic Level"
   ]
  },
  {
   "cell_type": "markdown",
   "metadata": {},
   "source": [
    "### Part 1: Read in the file with `csv.reader()` and store it in an object called `file_nested_list`.\n",
    "\n",
    "Hint: This is a TSV (tab-separated value) file, and `csv.reader()` needs to be told [how to handle it](https://docs.python.org/2/library/csv.html)."
   ]
  },
  {
   "cell_type": "code",
   "execution_count": 2,
   "metadata": {},
   "outputs": [],
   "source": [
    "import csv\n",
    "from collections import namedtuple   # Convenient to store the data rows\n",
    "\n",
    "DATA_FILE = './data/chipotle.tsv'"
   ]
  },
  {
   "cell_type": "code",
   "execution_count": 15,
   "metadata": {},
   "outputs": [
    {
     "name": "stdout",
     "output_type": "stream",
     "text": [
      "Help on built-in function reader in module _csv:\n",
      "\n",
      "reader(...)\n",
      "    csv_reader = reader(iterable [, dialect='excel']\n",
      "                            [optional keyword args])\n",
      "        for row in csv_reader:\n",
      "            process(row)\n",
      "    \n",
      "    The \"iterable\" argument can be any object that returns a line\n",
      "    of input for each iteration, such as a file object or a list.  The\n",
      "    optional \"dialect\" parameter is discussed below.  The function\n",
      "    also accepts optional keyword arguments which override settings\n",
      "    provided by the dialect.\n",
      "    \n",
      "    The returned object is an iterator.  Each iteration returns a row\n",
      "    of the CSV file (which can span multiple input lines).\n",
      "\n"
     ]
    }
   ],
   "source": [
    "help(csv.reader)"
   ]
  },
  {
   "cell_type": "code",
   "execution_count": 21,
   "metadata": {},
   "outputs": [
    {
     "data": {
      "text/plain": [
       "[['order_id', 'quantity', 'item_name', 'choice_description', 'item_price'],\n",
       " ['1', '1', 'Chips and Fresh Tomato Salsa', 'NULL', '$2.39 '],\n",
       " ['1', '1', 'Izze', '[Clementine]', '$3.39 '],\n",
       " ['1', '1', 'Nantucket Nectar', '[Apple]', '$3.39 '],\n",
       " ['1', '1', 'Chips and Tomatillo-Green Chili Salsa', 'NULL', '$2.39 ']]"
      ]
     },
     "execution_count": 21,
     "metadata": {},
     "output_type": "execute_result"
    }
   ],
   "source": [
    "with open(DATA_FILE) as file:\n",
    "    reader = csv.reader(file, delimiter='\\t')\n",
    "    file_nested_list = []\n",
    "    for row in reader:\n",
    "        file_nested_list.append(row)\n",
    "        \n",
    "        \n",
    "file_nested_list[:5]"
   ]
  },
  {
   "cell_type": "markdown",
   "metadata": {},
   "source": [
    "### Part 2: Separate `file_nested_list` into the `header` and the `data`.\n"
   ]
  },
  {
   "cell_type": "code",
   "execution_count": 22,
   "metadata": {},
   "outputs": [
    {
     "name": "stdout",
     "output_type": "stream",
     "text": [
      "Header:  ['order_id', 'quantity', 'item_name', 'choice_description', 'item_price']\n",
      "Data:  [['1', '1', 'Chips and Fresh Tomato Salsa', 'NULL', '$2.39 '], ['1', '1', 'Izze', '[Clementine]', '$3.39 '], ['1', '1', 'Nantucket Nectar', '[Apple]', '$3.39 '], ['1', '1', 'Chips and Tomatillo-Green Chili Salsa', 'NULL', '$2.39 '], ['2', '2', 'Chicken Bowl', '[Tomatillo-Red Chili Salsa (Hot), [Black Beans, Rice, Cheese, Sour Cream]]', '$16.98 ']]\n"
     ]
    }
   ],
   "source": [
    "header, data = file_nested_list[0], file_nested_list[1:]\n",
    "print('Header: ', header)\n",
    "print('Data: ', data[:5])"
   ]
  },
  {
   "cell_type": "markdown",
   "metadata": {},
   "source": [
    "---\n",
    "\n",
    "## Intermediate Level"
   ]
  },
  {
   "cell_type": "markdown",
   "metadata": {},
   "source": [
    "### Part 3: Calculate the average price of an order.\n",
    "\n",
    "Hint: Examine the data to see if the `quantity` column is relevant to this calculation.\n",
    "\n",
    "Hint: Think carefully about the simplest way to do this!"
   ]
  },
  {
   "cell_type": "code",
   "execution_count": 34,
   "metadata": {},
   "outputs": [
    {
     "data": {
      "text/plain": [
       "{'order_id': [],\n",
       " 'quantity': [],\n",
       " 'item_name': [],\n",
       " 'choice_description': [],\n",
       " 'item_price': []}"
      ]
     },
     "execution_count": 34,
     "metadata": {},
     "output_type": "execute_result"
    }
   ],
   "source": [
    "# Turn the nested list into an imitation dataframe (i.e. a dictionary of lists)\n",
    "df = {col:[] for col in header}\n",
    "df"
   ]
  },
  {
   "cell_type": "code",
   "execution_count": 35,
   "metadata": {},
   "outputs": [],
   "source": [
    "for row in data:\n",
    "    assert len(row) == len(header)\n",
    "    for i in range(len(row)):\n",
    "        df[header[i]].append(row[i])"
   ]
  },
  {
   "cell_type": "code",
   "execution_count": 36,
   "metadata": {},
   "outputs": [
    {
     "data": {
      "text/plain": [
       "['$2.39 ',\n",
       " '$3.39 ',\n",
       " '$3.39 ',\n",
       " '$2.39 ',\n",
       " '$16.98 ',\n",
       " '$10.98 ',\n",
       " '$1.69 ',\n",
       " '$11.75 ',\n",
       " '$9.25 ',\n",
       " '$9.25 ']"
      ]
     },
     "execution_count": 36,
     "metadata": {},
     "output_type": "execute_result"
    }
   ],
   "source": [
    "df['item_price'][:10]"
   ]
  },
  {
   "cell_type": "code",
   "execution_count": 37,
   "metadata": {},
   "outputs": [],
   "source": [
    "# The item price is a string with the $ symbol in the front. Turn it to a float.\n",
    "df['item_price'] = list(map(lambda price: float(price.replace('$','').strip()), df['item_price']))"
   ]
  },
  {
   "cell_type": "code",
   "execution_count": 41,
   "metadata": {},
   "outputs": [
    {
     "data": {
      "text/plain": [
       "['1', '1', '1', '1', '2', '1', '1', '1', '1', '1']"
      ]
     },
     "execution_count": 41,
     "metadata": {},
     "output_type": "execute_result"
    }
   ],
   "source": [
    "df['quantity'][:10]"
   ]
  },
  {
   "cell_type": "code",
   "execution_count": 42,
   "metadata": {},
   "outputs": [
    {
     "data": {
      "text/plain": [
       "[1, 1, 1, 1, 2, 1, 1, 1, 1, 1]"
      ]
     },
     "execution_count": 42,
     "metadata": {},
     "output_type": "execute_result"
    }
   ],
   "source": [
    "# Quantity is stored as a string and needs to be converted to an integer\n",
    "df['quantity'] = list(map(int, df['quantity']))\n",
    "df['quantity'][:10]"
   ]
  },
  {
   "cell_type": "code",
   "execution_count": 49,
   "metadata": {},
   "outputs": [
    {
     "data": {
      "text/plain": [
       "8.489186499350943"
      ]
     },
     "execution_count": 49,
     "metadata": {},
     "output_type": "execute_result"
    }
   ],
   "source": [
    "# Use price * quantity to get the order total and average it out.\n",
    "totals = [x*y for x, y in list(zip(df['item_price'],df['quantity']))]"
   ]
  },
  {
   "cell_type": "code",
   "execution_count": 87,
   "metadata": {},
   "outputs": [],
   "source": [
    "# Aggregate the orders\n",
    "orders = {order: 0 for order in set(df['order_id'])}\n",
    "\n",
    "for i in range(len(df['order_id'])):\n",
    "    order_id = df['order_id'][i]\n",
    "    total = totals[i]\n",
    "    orders[order_id] += total"
   ]
  },
  {
   "cell_type": "code",
   "execution_count": 88,
   "metadata": {},
   "outputs": [
    {
     "data": {
      "text/plain": [
       "21.39423118865875"
      ]
     },
     "execution_count": 88,
     "metadata": {},
     "output_type": "execute_result"
    }
   ],
   "source": [
    "grand_totals = orders.values()\n",
    "sum(grand_totals) / len(grand_totals)"
   ]
  },
  {
   "cell_type": "markdown",
   "metadata": {},
   "source": [
    "The average price of an order at Chipotle is $21.39"
   ]
  },
  {
   "cell_type": "markdown",
   "metadata": {},
   "source": [
    "### Part 4: Create a list (or set) named `unique_sodas` containing all of unique sodas and soft drinks that Chipotle sells.\n",
    "\n",
    "Note: Just look for `'Canned Soda'` and `'Canned Soft Drink'`, and ignore other drinks like `'Izze'`."
   ]
  },
  {
   "cell_type": "code",
   "execution_count": 51,
   "metadata": {},
   "outputs": [
    {
     "data": {
      "text/plain": [
       "['Chips and Fresh Tomato Salsa',\n",
       " 'Izze',\n",
       " 'Nantucket Nectar',\n",
       " 'Chips and Tomatillo-Green Chili Salsa',\n",
       " 'Chicken Bowl',\n",
       " 'Chicken Bowl',\n",
       " 'Side of Chips',\n",
       " 'Steak Burrito',\n",
       " 'Steak Soft Tacos',\n",
       " 'Steak Burrito',\n",
       " 'Chips and Guacamole',\n",
       " 'Chicken Crispy Tacos',\n",
       " 'Chicken Soft Tacos',\n",
       " 'Chicken Bowl',\n",
       " 'Chips and Guacamole',\n",
       " 'Chips and Tomatillo-Green Chili Salsa',\n",
       " 'Chicken Burrito',\n",
       " 'Chicken Burrito',\n",
       " 'Canned Soda',\n",
       " 'Chicken Bowl']"
      ]
     },
     "execution_count": 51,
     "metadata": {},
     "output_type": "execute_result"
    }
   ],
   "source": [
    "df['item_name'][:20]"
   ]
  },
  {
   "cell_type": "code",
   "execution_count": 60,
   "metadata": {},
   "outputs": [],
   "source": [
    "# List the description of every item that starts with 'Canned' and convert it to a set\n",
    "unique_sodas = set([description for item, description in zip(df['item_name'], df['choice_description']) if item.startswith('Canned')])"
   ]
  },
  {
   "cell_type": "code",
   "execution_count": 61,
   "metadata": {},
   "outputs": [
    {
     "data": {
      "text/plain": [
       "{'[Coca Cola]',\n",
       " '[Coke]',\n",
       " '[Diet Coke]',\n",
       " '[Diet Dr. Pepper]',\n",
       " '[Dr. Pepper]',\n",
       " '[Lemonade]',\n",
       " '[Mountain Dew]',\n",
       " '[Nestea]',\n",
       " '[Sprite]'}"
      ]
     },
     "execution_count": 61,
     "metadata": {},
     "output_type": "execute_result"
    }
   ],
   "source": [
    "unique_sodas"
   ]
  },
  {
   "cell_type": "markdown",
   "metadata": {},
   "source": [
    "---\n",
    "\n",
    "## Advanced Level\n"
   ]
  },
  {
   "cell_type": "markdown",
   "metadata": {},
   "source": [
    "### Part 5: Calculate the average number of toppings per burrito.\n",
    "\n",
    "Note: Let's ignore the `quantity` column to simplify this task.\n",
    "\n",
    "Hint: Think carefully about the easiest way to count the number of toppings!\n"
   ]
  },
  {
   "cell_type": "code",
   "execution_count": 65,
   "metadata": {},
   "outputs": [],
   "source": [
    "toppings = [description for item, description in zip(df['item_name'], df['choice_description']) if item.endswith('Burrito')]"
   ]
  },
  {
   "cell_type": "code",
   "execution_count": 69,
   "metadata": {},
   "outputs": [
    {
     "data": {
      "text/plain": [
       "['[Tomatillo Red Chili Salsa, [Fajita Vegetables, Black Beans, Pinto Beans, Cheese, Sour Cream, Guacamole, Lettuce]]',\n",
       " '[Fresh Tomato Salsa, [Rice, Black Beans, Pinto Beans, Cheese, Sour Cream, Lettuce]]',\n",
       " '[Tomatillo-Green Chili Salsa (Medium), [Pinto Beans, Cheese, Sour Cream]]',\n",
       " '[Fresh Tomato Salsa (Mild), [Black Beans, Rice, Cheese, Sour Cream, Lettuce]]',\n",
       " '[[Fresh Tomato Salsa (Mild), Tomatillo-Green Chili Salsa (Medium), Tomatillo-Red Chili Salsa (Hot)], [Rice, Cheese, Sour Cream, Lettuce]]',\n",
       " '[[Tomatillo-Green Chili Salsa (Medium), Tomatillo-Red Chili Salsa (Hot)], [Pinto Beans, Rice, Cheese, Sour Cream, Guacamole, Lettuce]]',\n",
       " '[[Tomatillo-Green Chili Salsa (Medium), Roasted Chili Corn Salsa (Medium)], [Black Beans, Rice, Sour Cream, Lettuce]]',\n",
       " '[Tomatillo-Green Chili Salsa (Medium), [Pinto Beans, Rice, Cheese, Sour Cream]]',\n",
       " '[[Roasted Chili Corn Salsa (Medium), Fresh Tomato Salsa (Mild)], [Rice, Black Beans, Sour Cream]]',\n",
       " '[Fresh Tomato Salsa, [Rice, Pinto Beans, Cheese, Sour Cream, Guacamole, Lettuce]]']"
      ]
     },
     "execution_count": 69,
     "metadata": {},
     "output_type": "execute_result"
    }
   ],
   "source": [
    "toppings[:10]"
   ]
  },
  {
   "cell_type": "code",
   "execution_count": 72,
   "metadata": {},
   "outputs": [
    {
     "data": {
      "text/plain": [
       "5.395051194539249"
      ]
     },
     "execution_count": 72,
     "metadata": {},
     "output_type": "execute_result"
    }
   ],
   "source": [
    "# Toppings look like lists but they are actually stored as strings. For today's life hack, we just count the commas\n",
    "# in each row and add 1 to get the number of toppings\n",
    "\n",
    "topping_counts = list(map(lambda row: row.count(',') + 1, toppings))\n",
    "\n",
    "# And now get the average\n",
    "sum(topping_counts) / len(topping_counts)"
   ]
  },
  {
   "cell_type": "markdown",
   "metadata": {},
   "source": [
    "An average of 5.4 toppings are put on each burrito"
   ]
  },
  {
   "cell_type": "markdown",
   "metadata": {},
   "source": [
    "### Part 6: Create a dictionary. Let the keys represent chip orders and the values represent the total number of orders.\n",
    "\n",
    "Expected output: `{'Chips and Roasted Chili-Corn Salsa': 18, ... }`\n",
    "\n",
    "Note: Please take the `quantity` column into account!\n",
    "\n",
    "Optional: Learn how to use `.defaultdict()` to simplify your code."
   ]
  },
  {
   "cell_type": "code",
   "execution_count": 78,
   "metadata": {},
   "outputs": [
    {
     "data": {
      "text/plain": [
       "{'Chips and Guacamole': 0,\n",
       " 'Chips and Fresh Tomato Salsa': 0,\n",
       " 'Chips and Tomatillo-Green Chili Salsa': 0,\n",
       " 'Chips and Tomatillo Red Chili Salsa': 0,\n",
       " 'Chips and Mild Fresh Tomato Salsa': 0,\n",
       " 'Chips and Roasted Chili-Corn Salsa': 0,\n",
       " 'Chips and Tomatillo-Red Chili Salsa': 0,\n",
       " 'Chips and Tomatillo Green Chili Salsa': 0,\n",
       " 'Side of Chips': 0,\n",
       " 'Chips and Roasted Chili Corn Salsa': 0,\n",
       " 'Chips': 0}"
      ]
     },
     "execution_count": 78,
     "metadata": {},
     "output_type": "execute_result"
    }
   ],
   "source": [
    "chip_orders = {item:0 for item in set(df['item_name']) if item.startswith('Chips') or item.endswith('Chips')}\n",
    "chip_orders"
   ]
  },
  {
   "cell_type": "code",
   "execution_count": 79,
   "metadata": {},
   "outputs": [
    {
     "data": {
      "text/plain": [
       "{'Chips and Guacamole': 506,\n",
       " 'Chips and Fresh Tomato Salsa': 130,\n",
       " 'Chips and Tomatillo-Green Chili Salsa': 33,\n",
       " 'Chips and Tomatillo Red Chili Salsa': 50,\n",
       " 'Chips and Mild Fresh Tomato Salsa': 1,\n",
       " 'Chips and Roasted Chili-Corn Salsa': 18,\n",
       " 'Chips and Tomatillo-Red Chili Salsa': 25,\n",
       " 'Chips and Tomatillo Green Chili Salsa': 45,\n",
       " 'Side of Chips': 110,\n",
       " 'Chips and Roasted Chili Corn Salsa': 23,\n",
       " 'Chips': 230}"
      ]
     },
     "execution_count": 79,
     "metadata": {},
     "output_type": "execute_result"
    }
   ],
   "source": [
    "for i in range(len(df['item_name'])):\n",
    "    item = df['item_name'][i]\n",
    "    if item.startswith('Chips') or item.endswith('Chips'):\n",
    "        chip_orders[item] += df['quantity'][i]\n",
    "chip_orders      "
   ]
  },
  {
   "cell_type": "markdown",
   "metadata": {},
   "source": [
    "---\n",
    "\n",
    "## Bonus: Craft a problem statement about this data that interests you, and then answer it!\n"
   ]
  },
  {
   "cell_type": "code",
   "execution_count": null,
   "metadata": {
    "collapsed": true
   },
   "outputs": [],
   "source": []
  },
  {
   "cell_type": "code",
   "execution_count": null,
   "metadata": {
    "collapsed": true
   },
   "outputs": [],
   "source": []
  }
 ],
 "metadata": {
  "anaconda-cloud": {},
  "kernelspec": {
   "display_name": "Python 3",
   "language": "python",
   "name": "python3"
  },
  "language_info": {
   "codemirror_mode": {
    "name": "ipython",
    "version": 3
   },
   "file_extension": ".py",
   "mimetype": "text/x-python",
   "name": "python",
   "nbconvert_exporter": "python",
   "pygments_lexer": "ipython3",
   "version": "3.7.3"
  }
 },
 "nbformat": 4,
 "nbformat_minor": 2
}
